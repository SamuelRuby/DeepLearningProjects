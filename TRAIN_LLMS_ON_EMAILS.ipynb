{
  "nbformat": 4,
  "nbformat_minor": 0,
  "metadata": {
    "colab": {
      "provenance": []
    },
    "kernelspec": {
      "name": "python3",
      "display_name": "Python 3"
    },
    "language_info": {
      "name": "python"
    },
    "widgets": {
      "application/vnd.jupyter.widget-state+json": {
        "4cb1db875775436f86d3dd6036117a48": {
          "model_module": "@jupyter-widgets/controls",
          "model_name": "HBoxModel",
          "model_module_version": "1.5.0",
          "state": {
            "_dom_classes": [],
            "_model_module": "@jupyter-widgets/controls",
            "_model_module_version": "1.5.0",
            "_model_name": "HBoxModel",
            "_view_count": null,
            "_view_module": "@jupyter-widgets/controls",
            "_view_module_version": "1.5.0",
            "_view_name": "HBoxView",
            "box_style": "",
            "children": [
              "IPY_MODEL_d424b1c0b4654b81a5c3f14b27769a45",
              "IPY_MODEL_bfc680159cff4361a3361b787792d83f",
              "IPY_MODEL_b2ee3ec7a10344da8003a068a27cf65b"
            ],
            "layout": "IPY_MODEL_2d2d901a55f747bfa484d4fb1e854830"
          }
        },
        "d424b1c0b4654b81a5c3f14b27769a45": {
          "model_module": "@jupyter-widgets/controls",
          "model_name": "HTMLModel",
          "model_module_version": "1.5.0",
          "state": {
            "_dom_classes": [],
            "_model_module": "@jupyter-widgets/controls",
            "_model_module_version": "1.5.0",
            "_model_name": "HTMLModel",
            "_view_count": null,
            "_view_module": "@jupyter-widgets/controls",
            "_view_module_version": "1.5.0",
            "_view_name": "HTMLView",
            "description": "",
            "description_tooltip": null,
            "layout": "IPY_MODEL_4826b65a97d9451aa1080ab47cca93bf",
            "placeholder": "​",
            "style": "IPY_MODEL_ee98ec57191c488096e4f26618806f13",
            "value": "tokenizer_config.json: 100%"
          }
        },
        "bfc680159cff4361a3361b787792d83f": {
          "model_module": "@jupyter-widgets/controls",
          "model_name": "FloatProgressModel",
          "model_module_version": "1.5.0",
          "state": {
            "_dom_classes": [],
            "_model_module": "@jupyter-widgets/controls",
            "_model_module_version": "1.5.0",
            "_model_name": "FloatProgressModel",
            "_view_count": null,
            "_view_module": "@jupyter-widgets/controls",
            "_view_module_version": "1.5.0",
            "_view_name": "ProgressView",
            "bar_style": "success",
            "description": "",
            "description_tooltip": null,
            "layout": "IPY_MODEL_8734531f2361439bb9be2247d3e374a8",
            "max": 48,
            "min": 0,
            "orientation": "horizontal",
            "style": "IPY_MODEL_68164a55752842c89398d7d366a1ad1f",
            "value": 48
          }
        },
        "b2ee3ec7a10344da8003a068a27cf65b": {
          "model_module": "@jupyter-widgets/controls",
          "model_name": "HTMLModel",
          "model_module_version": "1.5.0",
          "state": {
            "_dom_classes": [],
            "_model_module": "@jupyter-widgets/controls",
            "_model_module_version": "1.5.0",
            "_model_name": "HTMLModel",
            "_view_count": null,
            "_view_module": "@jupyter-widgets/controls",
            "_view_module_version": "1.5.0",
            "_view_name": "HTMLView",
            "description": "",
            "description_tooltip": null,
            "layout": "IPY_MODEL_919ce5d6383d412fbbdeb8fa47773ddd",
            "placeholder": "​",
            "style": "IPY_MODEL_ec0f7d6cd4a44260b219e06d9c76a6fb",
            "value": " 48.0/48.0 [00:00&lt;00:00, 3.49kB/s]"
          }
        },
        "2d2d901a55f747bfa484d4fb1e854830": {
          "model_module": "@jupyter-widgets/base",
          "model_name": "LayoutModel",
          "model_module_version": "1.2.0",
          "state": {
            "_model_module": "@jupyter-widgets/base",
            "_model_module_version": "1.2.0",
            "_model_name": "LayoutModel",
            "_view_count": null,
            "_view_module": "@jupyter-widgets/base",
            "_view_module_version": "1.2.0",
            "_view_name": "LayoutView",
            "align_content": null,
            "align_items": null,
            "align_self": null,
            "border": null,
            "bottom": null,
            "display": null,
            "flex": null,
            "flex_flow": null,
            "grid_area": null,
            "grid_auto_columns": null,
            "grid_auto_flow": null,
            "grid_auto_rows": null,
            "grid_column": null,
            "grid_gap": null,
            "grid_row": null,
            "grid_template_areas": null,
            "grid_template_columns": null,
            "grid_template_rows": null,
            "height": null,
            "justify_content": null,
            "justify_items": null,
            "left": null,
            "margin": null,
            "max_height": null,
            "max_width": null,
            "min_height": null,
            "min_width": null,
            "object_fit": null,
            "object_position": null,
            "order": null,
            "overflow": null,
            "overflow_x": null,
            "overflow_y": null,
            "padding": null,
            "right": null,
            "top": null,
            "visibility": null,
            "width": null
          }
        },
        "4826b65a97d9451aa1080ab47cca93bf": {
          "model_module": "@jupyter-widgets/base",
          "model_name": "LayoutModel",
          "model_module_version": "1.2.0",
          "state": {
            "_model_module": "@jupyter-widgets/base",
            "_model_module_version": "1.2.0",
            "_model_name": "LayoutModel",
            "_view_count": null,
            "_view_module": "@jupyter-widgets/base",
            "_view_module_version": "1.2.0",
            "_view_name": "LayoutView",
            "align_content": null,
            "align_items": null,
            "align_self": null,
            "border": null,
            "bottom": null,
            "display": null,
            "flex": null,
            "flex_flow": null,
            "grid_area": null,
            "grid_auto_columns": null,
            "grid_auto_flow": null,
            "grid_auto_rows": null,
            "grid_column": null,
            "grid_gap": null,
            "grid_row": null,
            "grid_template_areas": null,
            "grid_template_columns": null,
            "grid_template_rows": null,
            "height": null,
            "justify_content": null,
            "justify_items": null,
            "left": null,
            "margin": null,
            "max_height": null,
            "max_width": null,
            "min_height": null,
            "min_width": null,
            "object_fit": null,
            "object_position": null,
            "order": null,
            "overflow": null,
            "overflow_x": null,
            "overflow_y": null,
            "padding": null,
            "right": null,
            "top": null,
            "visibility": null,
            "width": null
          }
        },
        "ee98ec57191c488096e4f26618806f13": {
          "model_module": "@jupyter-widgets/controls",
          "model_name": "DescriptionStyleModel",
          "model_module_version": "1.5.0",
          "state": {
            "_model_module": "@jupyter-widgets/controls",
            "_model_module_version": "1.5.0",
            "_model_name": "DescriptionStyleModel",
            "_view_count": null,
            "_view_module": "@jupyter-widgets/base",
            "_view_module_version": "1.2.0",
            "_view_name": "StyleView",
            "description_width": ""
          }
        },
        "8734531f2361439bb9be2247d3e374a8": {
          "model_module": "@jupyter-widgets/base",
          "model_name": "LayoutModel",
          "model_module_version": "1.2.0",
          "state": {
            "_model_module": "@jupyter-widgets/base",
            "_model_module_version": "1.2.0",
            "_model_name": "LayoutModel",
            "_view_count": null,
            "_view_module": "@jupyter-widgets/base",
            "_view_module_version": "1.2.0",
            "_view_name": "LayoutView",
            "align_content": null,
            "align_items": null,
            "align_self": null,
            "border": null,
            "bottom": null,
            "display": null,
            "flex": null,
            "flex_flow": null,
            "grid_area": null,
            "grid_auto_columns": null,
            "grid_auto_flow": null,
            "grid_auto_rows": null,
            "grid_column": null,
            "grid_gap": null,
            "grid_row": null,
            "grid_template_areas": null,
            "grid_template_columns": null,
            "grid_template_rows": null,
            "height": null,
            "justify_content": null,
            "justify_items": null,
            "left": null,
            "margin": null,
            "max_height": null,
            "max_width": null,
            "min_height": null,
            "min_width": null,
            "object_fit": null,
            "object_position": null,
            "order": null,
            "overflow": null,
            "overflow_x": null,
            "overflow_y": null,
            "padding": null,
            "right": null,
            "top": null,
            "visibility": null,
            "width": null
          }
        },
        "68164a55752842c89398d7d366a1ad1f": {
          "model_module": "@jupyter-widgets/controls",
          "model_name": "ProgressStyleModel",
          "model_module_version": "1.5.0",
          "state": {
            "_model_module": "@jupyter-widgets/controls",
            "_model_module_version": "1.5.0",
            "_model_name": "ProgressStyleModel",
            "_view_count": null,
            "_view_module": "@jupyter-widgets/base",
            "_view_module_version": "1.2.0",
            "_view_name": "StyleView",
            "bar_color": null,
            "description_width": ""
          }
        },
        "919ce5d6383d412fbbdeb8fa47773ddd": {
          "model_module": "@jupyter-widgets/base",
          "model_name": "LayoutModel",
          "model_module_version": "1.2.0",
          "state": {
            "_model_module": "@jupyter-widgets/base",
            "_model_module_version": "1.2.0",
            "_model_name": "LayoutModel",
            "_view_count": null,
            "_view_module": "@jupyter-widgets/base",
            "_view_module_version": "1.2.0",
            "_view_name": "LayoutView",
            "align_content": null,
            "align_items": null,
            "align_self": null,
            "border": null,
            "bottom": null,
            "display": null,
            "flex": null,
            "flex_flow": null,
            "grid_area": null,
            "grid_auto_columns": null,
            "grid_auto_flow": null,
            "grid_auto_rows": null,
            "grid_column": null,
            "grid_gap": null,
            "grid_row": null,
            "grid_template_areas": null,
            "grid_template_columns": null,
            "grid_template_rows": null,
            "height": null,
            "justify_content": null,
            "justify_items": null,
            "left": null,
            "margin": null,
            "max_height": null,
            "max_width": null,
            "min_height": null,
            "min_width": null,
            "object_fit": null,
            "object_position": null,
            "order": null,
            "overflow": null,
            "overflow_x": null,
            "overflow_y": null,
            "padding": null,
            "right": null,
            "top": null,
            "visibility": null,
            "width": null
          }
        },
        "ec0f7d6cd4a44260b219e06d9c76a6fb": {
          "model_module": "@jupyter-widgets/controls",
          "model_name": "DescriptionStyleModel",
          "model_module_version": "1.5.0",
          "state": {
            "_model_module": "@jupyter-widgets/controls",
            "_model_module_version": "1.5.0",
            "_model_name": "DescriptionStyleModel",
            "_view_count": null,
            "_view_module": "@jupyter-widgets/base",
            "_view_module_version": "1.2.0",
            "_view_name": "StyleView",
            "description_width": ""
          }
        },
        "7e69e6d8235144f0ba4ea348b864ae4a": {
          "model_module": "@jupyter-widgets/controls",
          "model_name": "HBoxModel",
          "model_module_version": "1.5.0",
          "state": {
            "_dom_classes": [],
            "_model_module": "@jupyter-widgets/controls",
            "_model_module_version": "1.5.0",
            "_model_name": "HBoxModel",
            "_view_count": null,
            "_view_module": "@jupyter-widgets/controls",
            "_view_module_version": "1.5.0",
            "_view_name": "HBoxView",
            "box_style": "",
            "children": [
              "IPY_MODEL_bf2019d22d9f47f08af69dbda0dd243e",
              "IPY_MODEL_44885f3d0b6d44c7be01aca6354996e3",
              "IPY_MODEL_07580c4b8f5e4838a881aabcec39f581"
            ],
            "layout": "IPY_MODEL_622da74aa16f43979da192cc43afd3e2"
          }
        },
        "bf2019d22d9f47f08af69dbda0dd243e": {
          "model_module": "@jupyter-widgets/controls",
          "model_name": "HTMLModel",
          "model_module_version": "1.5.0",
          "state": {
            "_dom_classes": [],
            "_model_module": "@jupyter-widgets/controls",
            "_model_module_version": "1.5.0",
            "_model_name": "HTMLModel",
            "_view_count": null,
            "_view_module": "@jupyter-widgets/controls",
            "_view_module_version": "1.5.0",
            "_view_name": "HTMLView",
            "description": "",
            "description_tooltip": null,
            "layout": "IPY_MODEL_31066380d50a4914a124a1cda965af8b",
            "placeholder": "​",
            "style": "IPY_MODEL_a292bb05b3374886b8712f39c722fbc2",
            "value": "config.json: 100%"
          }
        },
        "44885f3d0b6d44c7be01aca6354996e3": {
          "model_module": "@jupyter-widgets/controls",
          "model_name": "FloatProgressModel",
          "model_module_version": "1.5.0",
          "state": {
            "_dom_classes": [],
            "_model_module": "@jupyter-widgets/controls",
            "_model_module_version": "1.5.0",
            "_model_name": "FloatProgressModel",
            "_view_count": null,
            "_view_module": "@jupyter-widgets/controls",
            "_view_module_version": "1.5.0",
            "_view_name": "ProgressView",
            "bar_style": "success",
            "description": "",
            "description_tooltip": null,
            "layout": "IPY_MODEL_ac8bce20732749fe8869c06be334e87f",
            "max": 483,
            "min": 0,
            "orientation": "horizontal",
            "style": "IPY_MODEL_f974b8c85d7c4957ac017c3c6c58c506",
            "value": 483
          }
        },
        "07580c4b8f5e4838a881aabcec39f581": {
          "model_module": "@jupyter-widgets/controls",
          "model_name": "HTMLModel",
          "model_module_version": "1.5.0",
          "state": {
            "_dom_classes": [],
            "_model_module": "@jupyter-widgets/controls",
            "_model_module_version": "1.5.0",
            "_model_name": "HTMLModel",
            "_view_count": null,
            "_view_module": "@jupyter-widgets/controls",
            "_view_module_version": "1.5.0",
            "_view_name": "HTMLView",
            "description": "",
            "description_tooltip": null,
            "layout": "IPY_MODEL_0f1cf982108d4cce939e11c128610d58",
            "placeholder": "​",
            "style": "IPY_MODEL_37da5f4eb16d49ce8741edbb4479089b",
            "value": " 483/483 [00:00&lt;00:00, 33.1kB/s]"
          }
        },
        "622da74aa16f43979da192cc43afd3e2": {
          "model_module": "@jupyter-widgets/base",
          "model_name": "LayoutModel",
          "model_module_version": "1.2.0",
          "state": {
            "_model_module": "@jupyter-widgets/base",
            "_model_module_version": "1.2.0",
            "_model_name": "LayoutModel",
            "_view_count": null,
            "_view_module": "@jupyter-widgets/base",
            "_view_module_version": "1.2.0",
            "_view_name": "LayoutView",
            "align_content": null,
            "align_items": null,
            "align_self": null,
            "border": null,
            "bottom": null,
            "display": null,
            "flex": null,
            "flex_flow": null,
            "grid_area": null,
            "grid_auto_columns": null,
            "grid_auto_flow": null,
            "grid_auto_rows": null,
            "grid_column": null,
            "grid_gap": null,
            "grid_row": null,
            "grid_template_areas": null,
            "grid_template_columns": null,
            "grid_template_rows": null,
            "height": null,
            "justify_content": null,
            "justify_items": null,
            "left": null,
            "margin": null,
            "max_height": null,
            "max_width": null,
            "min_height": null,
            "min_width": null,
            "object_fit": null,
            "object_position": null,
            "order": null,
            "overflow": null,
            "overflow_x": null,
            "overflow_y": null,
            "padding": null,
            "right": null,
            "top": null,
            "visibility": null,
            "width": null
          }
        },
        "31066380d50a4914a124a1cda965af8b": {
          "model_module": "@jupyter-widgets/base",
          "model_name": "LayoutModel",
          "model_module_version": "1.2.0",
          "state": {
            "_model_module": "@jupyter-widgets/base",
            "_model_module_version": "1.2.0",
            "_model_name": "LayoutModel",
            "_view_count": null,
            "_view_module": "@jupyter-widgets/base",
            "_view_module_version": "1.2.0",
            "_view_name": "LayoutView",
            "align_content": null,
            "align_items": null,
            "align_self": null,
            "border": null,
            "bottom": null,
            "display": null,
            "flex": null,
            "flex_flow": null,
            "grid_area": null,
            "grid_auto_columns": null,
            "grid_auto_flow": null,
            "grid_auto_rows": null,
            "grid_column": null,
            "grid_gap": null,
            "grid_row": null,
            "grid_template_areas": null,
            "grid_template_columns": null,
            "grid_template_rows": null,
            "height": null,
            "justify_content": null,
            "justify_items": null,
            "left": null,
            "margin": null,
            "max_height": null,
            "max_width": null,
            "min_height": null,
            "min_width": null,
            "object_fit": null,
            "object_position": null,
            "order": null,
            "overflow": null,
            "overflow_x": null,
            "overflow_y": null,
            "padding": null,
            "right": null,
            "top": null,
            "visibility": null,
            "width": null
          }
        },
        "a292bb05b3374886b8712f39c722fbc2": {
          "model_module": "@jupyter-widgets/controls",
          "model_name": "DescriptionStyleModel",
          "model_module_version": "1.5.0",
          "state": {
            "_model_module": "@jupyter-widgets/controls",
            "_model_module_version": "1.5.0",
            "_model_name": "DescriptionStyleModel",
            "_view_count": null,
            "_view_module": "@jupyter-widgets/base",
            "_view_module_version": "1.2.0",
            "_view_name": "StyleView",
            "description_width": ""
          }
        },
        "ac8bce20732749fe8869c06be334e87f": {
          "model_module": "@jupyter-widgets/base",
          "model_name": "LayoutModel",
          "model_module_version": "1.2.0",
          "state": {
            "_model_module": "@jupyter-widgets/base",
            "_model_module_version": "1.2.0",
            "_model_name": "LayoutModel",
            "_view_count": null,
            "_view_module": "@jupyter-widgets/base",
            "_view_module_version": "1.2.0",
            "_view_name": "LayoutView",
            "align_content": null,
            "align_items": null,
            "align_self": null,
            "border": null,
            "bottom": null,
            "display": null,
            "flex": null,
            "flex_flow": null,
            "grid_area": null,
            "grid_auto_columns": null,
            "grid_auto_flow": null,
            "grid_auto_rows": null,
            "grid_column": null,
            "grid_gap": null,
            "grid_row": null,
            "grid_template_areas": null,
            "grid_template_columns": null,
            "grid_template_rows": null,
            "height": null,
            "justify_content": null,
            "justify_items": null,
            "left": null,
            "margin": null,
            "max_height": null,
            "max_width": null,
            "min_height": null,
            "min_width": null,
            "object_fit": null,
            "object_position": null,
            "order": null,
            "overflow": null,
            "overflow_x": null,
            "overflow_y": null,
            "padding": null,
            "right": null,
            "top": null,
            "visibility": null,
            "width": null
          }
        },
        "f974b8c85d7c4957ac017c3c6c58c506": {
          "model_module": "@jupyter-widgets/controls",
          "model_name": "ProgressStyleModel",
          "model_module_version": "1.5.0",
          "state": {
            "_model_module": "@jupyter-widgets/controls",
            "_model_module_version": "1.5.0",
            "_model_name": "ProgressStyleModel",
            "_view_count": null,
            "_view_module": "@jupyter-widgets/base",
            "_view_module_version": "1.2.0",
            "_view_name": "StyleView",
            "bar_color": null,
            "description_width": ""
          }
        },
        "0f1cf982108d4cce939e11c128610d58": {
          "model_module": "@jupyter-widgets/base",
          "model_name": "LayoutModel",
          "model_module_version": "1.2.0",
          "state": {
            "_model_module": "@jupyter-widgets/base",
            "_model_module_version": "1.2.0",
            "_model_name": "LayoutModel",
            "_view_count": null,
            "_view_module": "@jupyter-widgets/base",
            "_view_module_version": "1.2.0",
            "_view_name": "LayoutView",
            "align_content": null,
            "align_items": null,
            "align_self": null,
            "border": null,
            "bottom": null,
            "display": null,
            "flex": null,
            "flex_flow": null,
            "grid_area": null,
            "grid_auto_columns": null,
            "grid_auto_flow": null,
            "grid_auto_rows": null,
            "grid_column": null,
            "grid_gap": null,
            "grid_row": null,
            "grid_template_areas": null,
            "grid_template_columns": null,
            "grid_template_rows": null,
            "height": null,
            "justify_content": null,
            "justify_items": null,
            "left": null,
            "margin": null,
            "max_height": null,
            "max_width": null,
            "min_height": null,
            "min_width": null,
            "object_fit": null,
            "object_position": null,
            "order": null,
            "overflow": null,
            "overflow_x": null,
            "overflow_y": null,
            "padding": null,
            "right": null,
            "top": null,
            "visibility": null,
            "width": null
          }
        },
        "37da5f4eb16d49ce8741edbb4479089b": {
          "model_module": "@jupyter-widgets/controls",
          "model_name": "DescriptionStyleModel",
          "model_module_version": "1.5.0",
          "state": {
            "_model_module": "@jupyter-widgets/controls",
            "_model_module_version": "1.5.0",
            "_model_name": "DescriptionStyleModel",
            "_view_count": null,
            "_view_module": "@jupyter-widgets/base",
            "_view_module_version": "1.2.0",
            "_view_name": "StyleView",
            "description_width": ""
          }
        },
        "4a3382a9e3a042ffbb58418ae0918a5d": {
          "model_module": "@jupyter-widgets/controls",
          "model_name": "HBoxModel",
          "model_module_version": "1.5.0",
          "state": {
            "_dom_classes": [],
            "_model_module": "@jupyter-widgets/controls",
            "_model_module_version": "1.5.0",
            "_model_name": "HBoxModel",
            "_view_count": null,
            "_view_module": "@jupyter-widgets/controls",
            "_view_module_version": "1.5.0",
            "_view_name": "HBoxView",
            "box_style": "",
            "children": [
              "IPY_MODEL_568e2590bd7c4b40aefc360010cca64f",
              "IPY_MODEL_e3dcbf098a0a430c8d427251e6004a07",
              "IPY_MODEL_d9bae198f26f4a80a9696e56c99ce39d"
            ],
            "layout": "IPY_MODEL_59036d08df4f4a67872d7873369e0fbb"
          }
        },
        "568e2590bd7c4b40aefc360010cca64f": {
          "model_module": "@jupyter-widgets/controls",
          "model_name": "HTMLModel",
          "model_module_version": "1.5.0",
          "state": {
            "_dom_classes": [],
            "_model_module": "@jupyter-widgets/controls",
            "_model_module_version": "1.5.0",
            "_model_name": "HTMLModel",
            "_view_count": null,
            "_view_module": "@jupyter-widgets/controls",
            "_view_module_version": "1.5.0",
            "_view_name": "HTMLView",
            "description": "",
            "description_tooltip": null,
            "layout": "IPY_MODEL_1fd6df0b96bd4c0695fcfa2fc8bba62a",
            "placeholder": "​",
            "style": "IPY_MODEL_e2b852fa33064363a92634cc0ca21af6",
            "value": "vocab.txt: 100%"
          }
        },
        "e3dcbf098a0a430c8d427251e6004a07": {
          "model_module": "@jupyter-widgets/controls",
          "model_name": "FloatProgressModel",
          "model_module_version": "1.5.0",
          "state": {
            "_dom_classes": [],
            "_model_module": "@jupyter-widgets/controls",
            "_model_module_version": "1.5.0",
            "_model_name": "FloatProgressModel",
            "_view_count": null,
            "_view_module": "@jupyter-widgets/controls",
            "_view_module_version": "1.5.0",
            "_view_name": "ProgressView",
            "bar_style": "success",
            "description": "",
            "description_tooltip": null,
            "layout": "IPY_MODEL_5530c90fe1204f78a2e6b15490e4d9f4",
            "max": 231508,
            "min": 0,
            "orientation": "horizontal",
            "style": "IPY_MODEL_232d4c6f1d20455f8d00970a89af7560",
            "value": 231508
          }
        },
        "d9bae198f26f4a80a9696e56c99ce39d": {
          "model_module": "@jupyter-widgets/controls",
          "model_name": "HTMLModel",
          "model_module_version": "1.5.0",
          "state": {
            "_dom_classes": [],
            "_model_module": "@jupyter-widgets/controls",
            "_model_module_version": "1.5.0",
            "_model_name": "HTMLModel",
            "_view_count": null,
            "_view_module": "@jupyter-widgets/controls",
            "_view_module_version": "1.5.0",
            "_view_name": "HTMLView",
            "description": "",
            "description_tooltip": null,
            "layout": "IPY_MODEL_5048c40c438b40f68ffa4c4060336b25",
            "placeholder": "​",
            "style": "IPY_MODEL_0e2bed5c345e4383b5b72b710ccb226f",
            "value": " 232k/232k [00:00&lt;00:00, 7.34MB/s]"
          }
        },
        "59036d08df4f4a67872d7873369e0fbb": {
          "model_module": "@jupyter-widgets/base",
          "model_name": "LayoutModel",
          "model_module_version": "1.2.0",
          "state": {
            "_model_module": "@jupyter-widgets/base",
            "_model_module_version": "1.2.0",
            "_model_name": "LayoutModel",
            "_view_count": null,
            "_view_module": "@jupyter-widgets/base",
            "_view_module_version": "1.2.0",
            "_view_name": "LayoutView",
            "align_content": null,
            "align_items": null,
            "align_self": null,
            "border": null,
            "bottom": null,
            "display": null,
            "flex": null,
            "flex_flow": null,
            "grid_area": null,
            "grid_auto_columns": null,
            "grid_auto_flow": null,
            "grid_auto_rows": null,
            "grid_column": null,
            "grid_gap": null,
            "grid_row": null,
            "grid_template_areas": null,
            "grid_template_columns": null,
            "grid_template_rows": null,
            "height": null,
            "justify_content": null,
            "justify_items": null,
            "left": null,
            "margin": null,
            "max_height": null,
            "max_width": null,
            "min_height": null,
            "min_width": null,
            "object_fit": null,
            "object_position": null,
            "order": null,
            "overflow": null,
            "overflow_x": null,
            "overflow_y": null,
            "padding": null,
            "right": null,
            "top": null,
            "visibility": null,
            "width": null
          }
        },
        "1fd6df0b96bd4c0695fcfa2fc8bba62a": {
          "model_module": "@jupyter-widgets/base",
          "model_name": "LayoutModel",
          "model_module_version": "1.2.0",
          "state": {
            "_model_module": "@jupyter-widgets/base",
            "_model_module_version": "1.2.0",
            "_model_name": "LayoutModel",
            "_view_count": null,
            "_view_module": "@jupyter-widgets/base",
            "_view_module_version": "1.2.0",
            "_view_name": "LayoutView",
            "align_content": null,
            "align_items": null,
            "align_self": null,
            "border": null,
            "bottom": null,
            "display": null,
            "flex": null,
            "flex_flow": null,
            "grid_area": null,
            "grid_auto_columns": null,
            "grid_auto_flow": null,
            "grid_auto_rows": null,
            "grid_column": null,
            "grid_gap": null,
            "grid_row": null,
            "grid_template_areas": null,
            "grid_template_columns": null,
            "grid_template_rows": null,
            "height": null,
            "justify_content": null,
            "justify_items": null,
            "left": null,
            "margin": null,
            "max_height": null,
            "max_width": null,
            "min_height": null,
            "min_width": null,
            "object_fit": null,
            "object_position": null,
            "order": null,
            "overflow": null,
            "overflow_x": null,
            "overflow_y": null,
            "padding": null,
            "right": null,
            "top": null,
            "visibility": null,
            "width": null
          }
        },
        "e2b852fa33064363a92634cc0ca21af6": {
          "model_module": "@jupyter-widgets/controls",
          "model_name": "DescriptionStyleModel",
          "model_module_version": "1.5.0",
          "state": {
            "_model_module": "@jupyter-widgets/controls",
            "_model_module_version": "1.5.0",
            "_model_name": "DescriptionStyleModel",
            "_view_count": null,
            "_view_module": "@jupyter-widgets/base",
            "_view_module_version": "1.2.0",
            "_view_name": "StyleView",
            "description_width": ""
          }
        },
        "5530c90fe1204f78a2e6b15490e4d9f4": {
          "model_module": "@jupyter-widgets/base",
          "model_name": "LayoutModel",
          "model_module_version": "1.2.0",
          "state": {
            "_model_module": "@jupyter-widgets/base",
            "_model_module_version": "1.2.0",
            "_model_name": "LayoutModel",
            "_view_count": null,
            "_view_module": "@jupyter-widgets/base",
            "_view_module_version": "1.2.0",
            "_view_name": "LayoutView",
            "align_content": null,
            "align_items": null,
            "align_self": null,
            "border": null,
            "bottom": null,
            "display": null,
            "flex": null,
            "flex_flow": null,
            "grid_area": null,
            "grid_auto_columns": null,
            "grid_auto_flow": null,
            "grid_auto_rows": null,
            "grid_column": null,
            "grid_gap": null,
            "grid_row": null,
            "grid_template_areas": null,
            "grid_template_columns": null,
            "grid_template_rows": null,
            "height": null,
            "justify_content": null,
            "justify_items": null,
            "left": null,
            "margin": null,
            "max_height": null,
            "max_width": null,
            "min_height": null,
            "min_width": null,
            "object_fit": null,
            "object_position": null,
            "order": null,
            "overflow": null,
            "overflow_x": null,
            "overflow_y": null,
            "padding": null,
            "right": null,
            "top": null,
            "visibility": null,
            "width": null
          }
        },
        "232d4c6f1d20455f8d00970a89af7560": {
          "model_module": "@jupyter-widgets/controls",
          "model_name": "ProgressStyleModel",
          "model_module_version": "1.5.0",
          "state": {
            "_model_module": "@jupyter-widgets/controls",
            "_model_module_version": "1.5.0",
            "_model_name": "ProgressStyleModel",
            "_view_count": null,
            "_view_module": "@jupyter-widgets/base",
            "_view_module_version": "1.2.0",
            "_view_name": "StyleView",
            "bar_color": null,
            "description_width": ""
          }
        },
        "5048c40c438b40f68ffa4c4060336b25": {
          "model_module": "@jupyter-widgets/base",
          "model_name": "LayoutModel",
          "model_module_version": "1.2.0",
          "state": {
            "_model_module": "@jupyter-widgets/base",
            "_model_module_version": "1.2.0",
            "_model_name": "LayoutModel",
            "_view_count": null,
            "_view_module": "@jupyter-widgets/base",
            "_view_module_version": "1.2.0",
            "_view_name": "LayoutView",
            "align_content": null,
            "align_items": null,
            "align_self": null,
            "border": null,
            "bottom": null,
            "display": null,
            "flex": null,
            "flex_flow": null,
            "grid_area": null,
            "grid_auto_columns": null,
            "grid_auto_flow": null,
            "grid_auto_rows": null,
            "grid_column": null,
            "grid_gap": null,
            "grid_row": null,
            "grid_template_areas": null,
            "grid_template_columns": null,
            "grid_template_rows": null,
            "height": null,
            "justify_content": null,
            "justify_items": null,
            "left": null,
            "margin": null,
            "max_height": null,
            "max_width": null,
            "min_height": null,
            "min_width": null,
            "object_fit": null,
            "object_position": null,
            "order": null,
            "overflow": null,
            "overflow_x": null,
            "overflow_y": null,
            "padding": null,
            "right": null,
            "top": null,
            "visibility": null,
            "width": null
          }
        },
        "0e2bed5c345e4383b5b72b710ccb226f": {
          "model_module": "@jupyter-widgets/controls",
          "model_name": "DescriptionStyleModel",
          "model_module_version": "1.5.0",
          "state": {
            "_model_module": "@jupyter-widgets/controls",
            "_model_module_version": "1.5.0",
            "_model_name": "DescriptionStyleModel",
            "_view_count": null,
            "_view_module": "@jupyter-widgets/base",
            "_view_module_version": "1.2.0",
            "_view_name": "StyleView",
            "description_width": ""
          }
        },
        "0c7cdfb25c534bd380ff5b5a0d72693e": {
          "model_module": "@jupyter-widgets/controls",
          "model_name": "HBoxModel",
          "model_module_version": "1.5.0",
          "state": {
            "_dom_classes": [],
            "_model_module": "@jupyter-widgets/controls",
            "_model_module_version": "1.5.0",
            "_model_name": "HBoxModel",
            "_view_count": null,
            "_view_module": "@jupyter-widgets/controls",
            "_view_module_version": "1.5.0",
            "_view_name": "HBoxView",
            "box_style": "",
            "children": [
              "IPY_MODEL_d202168a44d5443e91172dc26d9ac7d3",
              "IPY_MODEL_cb6a9034fef94e8294c4dd670e00d4d3",
              "IPY_MODEL_617b7d253b174fd9a825aa47156fcb9e"
            ],
            "layout": "IPY_MODEL_1688bf1c00b047589dee5312fe64d8c4"
          }
        },
        "d202168a44d5443e91172dc26d9ac7d3": {
          "model_module": "@jupyter-widgets/controls",
          "model_name": "HTMLModel",
          "model_module_version": "1.5.0",
          "state": {
            "_dom_classes": [],
            "_model_module": "@jupyter-widgets/controls",
            "_model_module_version": "1.5.0",
            "_model_name": "HTMLModel",
            "_view_count": null,
            "_view_module": "@jupyter-widgets/controls",
            "_view_module_version": "1.5.0",
            "_view_name": "HTMLView",
            "description": "",
            "description_tooltip": null,
            "layout": "IPY_MODEL_eb54778f5b6b4962b166fdf14802aaf5",
            "placeholder": "​",
            "style": "IPY_MODEL_a48ee676f91b4a5382796f7329845e0a",
            "value": "tokenizer.json: 100%"
          }
        },
        "cb6a9034fef94e8294c4dd670e00d4d3": {
          "model_module": "@jupyter-widgets/controls",
          "model_name": "FloatProgressModel",
          "model_module_version": "1.5.0",
          "state": {
            "_dom_classes": [],
            "_model_module": "@jupyter-widgets/controls",
            "_model_module_version": "1.5.0",
            "_model_name": "FloatProgressModel",
            "_view_count": null,
            "_view_module": "@jupyter-widgets/controls",
            "_view_module_version": "1.5.0",
            "_view_name": "ProgressView",
            "bar_style": "success",
            "description": "",
            "description_tooltip": null,
            "layout": "IPY_MODEL_7f8d1fd2d3704e8693cced182c297380",
            "max": 466062,
            "min": 0,
            "orientation": "horizontal",
            "style": "IPY_MODEL_5ad27cb007654357940aae27bb6ec09a",
            "value": 466062
          }
        },
        "617b7d253b174fd9a825aa47156fcb9e": {
          "model_module": "@jupyter-widgets/controls",
          "model_name": "HTMLModel",
          "model_module_version": "1.5.0",
          "state": {
            "_dom_classes": [],
            "_model_module": "@jupyter-widgets/controls",
            "_model_module_version": "1.5.0",
            "_model_name": "HTMLModel",
            "_view_count": null,
            "_view_module": "@jupyter-widgets/controls",
            "_view_module_version": "1.5.0",
            "_view_name": "HTMLView",
            "description": "",
            "description_tooltip": null,
            "layout": "IPY_MODEL_0b2b4f162df3437589022ef7b36654e5",
            "placeholder": "​",
            "style": "IPY_MODEL_5eef0993b9734358b3d16b84f9f6469d",
            "value": " 466k/466k [00:00&lt;00:00, 21.4MB/s]"
          }
        },
        "1688bf1c00b047589dee5312fe64d8c4": {
          "model_module": "@jupyter-widgets/base",
          "model_name": "LayoutModel",
          "model_module_version": "1.2.0",
          "state": {
            "_model_module": "@jupyter-widgets/base",
            "_model_module_version": "1.2.0",
            "_model_name": "LayoutModel",
            "_view_count": null,
            "_view_module": "@jupyter-widgets/base",
            "_view_module_version": "1.2.0",
            "_view_name": "LayoutView",
            "align_content": null,
            "align_items": null,
            "align_self": null,
            "border": null,
            "bottom": null,
            "display": null,
            "flex": null,
            "flex_flow": null,
            "grid_area": null,
            "grid_auto_columns": null,
            "grid_auto_flow": null,
            "grid_auto_rows": null,
            "grid_column": null,
            "grid_gap": null,
            "grid_row": null,
            "grid_template_areas": null,
            "grid_template_columns": null,
            "grid_template_rows": null,
            "height": null,
            "justify_content": null,
            "justify_items": null,
            "left": null,
            "margin": null,
            "max_height": null,
            "max_width": null,
            "min_height": null,
            "min_width": null,
            "object_fit": null,
            "object_position": null,
            "order": null,
            "overflow": null,
            "overflow_x": null,
            "overflow_y": null,
            "padding": null,
            "right": null,
            "top": null,
            "visibility": null,
            "width": null
          }
        },
        "eb54778f5b6b4962b166fdf14802aaf5": {
          "model_module": "@jupyter-widgets/base",
          "model_name": "LayoutModel",
          "model_module_version": "1.2.0",
          "state": {
            "_model_module": "@jupyter-widgets/base",
            "_model_module_version": "1.2.0",
            "_model_name": "LayoutModel",
            "_view_count": null,
            "_view_module": "@jupyter-widgets/base",
            "_view_module_version": "1.2.0",
            "_view_name": "LayoutView",
            "align_content": null,
            "align_items": null,
            "align_self": null,
            "border": null,
            "bottom": null,
            "display": null,
            "flex": null,
            "flex_flow": null,
            "grid_area": null,
            "grid_auto_columns": null,
            "grid_auto_flow": null,
            "grid_auto_rows": null,
            "grid_column": null,
            "grid_gap": null,
            "grid_row": null,
            "grid_template_areas": null,
            "grid_template_columns": null,
            "grid_template_rows": null,
            "height": null,
            "justify_content": null,
            "justify_items": null,
            "left": null,
            "margin": null,
            "max_height": null,
            "max_width": null,
            "min_height": null,
            "min_width": null,
            "object_fit": null,
            "object_position": null,
            "order": null,
            "overflow": null,
            "overflow_x": null,
            "overflow_y": null,
            "padding": null,
            "right": null,
            "top": null,
            "visibility": null,
            "width": null
          }
        },
        "a48ee676f91b4a5382796f7329845e0a": {
          "model_module": "@jupyter-widgets/controls",
          "model_name": "DescriptionStyleModel",
          "model_module_version": "1.5.0",
          "state": {
            "_model_module": "@jupyter-widgets/controls",
            "_model_module_version": "1.5.0",
            "_model_name": "DescriptionStyleModel",
            "_view_count": null,
            "_view_module": "@jupyter-widgets/base",
            "_view_module_version": "1.2.0",
            "_view_name": "StyleView",
            "description_width": ""
          }
        },
        "7f8d1fd2d3704e8693cced182c297380": {
          "model_module": "@jupyter-widgets/base",
          "model_name": "LayoutModel",
          "model_module_version": "1.2.0",
          "state": {
            "_model_module": "@jupyter-widgets/base",
            "_model_module_version": "1.2.0",
            "_model_name": "LayoutModel",
            "_view_count": null,
            "_view_module": "@jupyter-widgets/base",
            "_view_module_version": "1.2.0",
            "_view_name": "LayoutView",
            "align_content": null,
            "align_items": null,
            "align_self": null,
            "border": null,
            "bottom": null,
            "display": null,
            "flex": null,
            "flex_flow": null,
            "grid_area": null,
            "grid_auto_columns": null,
            "grid_auto_flow": null,
            "grid_auto_rows": null,
            "grid_column": null,
            "grid_gap": null,
            "grid_row": null,
            "grid_template_areas": null,
            "grid_template_columns": null,
            "grid_template_rows": null,
            "height": null,
            "justify_content": null,
            "justify_items": null,
            "left": null,
            "margin": null,
            "max_height": null,
            "max_width": null,
            "min_height": null,
            "min_width": null,
            "object_fit": null,
            "object_position": null,
            "order": null,
            "overflow": null,
            "overflow_x": null,
            "overflow_y": null,
            "padding": null,
            "right": null,
            "top": null,
            "visibility": null,
            "width": null
          }
        },
        "5ad27cb007654357940aae27bb6ec09a": {
          "model_module": "@jupyter-widgets/controls",
          "model_name": "ProgressStyleModel",
          "model_module_version": "1.5.0",
          "state": {
            "_model_module": "@jupyter-widgets/controls",
            "_model_module_version": "1.5.0",
            "_model_name": "ProgressStyleModel",
            "_view_count": null,
            "_view_module": "@jupyter-widgets/base",
            "_view_module_version": "1.2.0",
            "_view_name": "StyleView",
            "bar_color": null,
            "description_width": ""
          }
        },
        "0b2b4f162df3437589022ef7b36654e5": {
          "model_module": "@jupyter-widgets/base",
          "model_name": "LayoutModel",
          "model_module_version": "1.2.0",
          "state": {
            "_model_module": "@jupyter-widgets/base",
            "_model_module_version": "1.2.0",
            "_model_name": "LayoutModel",
            "_view_count": null,
            "_view_module": "@jupyter-widgets/base",
            "_view_module_version": "1.2.0",
            "_view_name": "LayoutView",
            "align_content": null,
            "align_items": null,
            "align_self": null,
            "border": null,
            "bottom": null,
            "display": null,
            "flex": null,
            "flex_flow": null,
            "grid_area": null,
            "grid_auto_columns": null,
            "grid_auto_flow": null,
            "grid_auto_rows": null,
            "grid_column": null,
            "grid_gap": null,
            "grid_row": null,
            "grid_template_areas": null,
            "grid_template_columns": null,
            "grid_template_rows": null,
            "height": null,
            "justify_content": null,
            "justify_items": null,
            "left": null,
            "margin": null,
            "max_height": null,
            "max_width": null,
            "min_height": null,
            "min_width": null,
            "object_fit": null,
            "object_position": null,
            "order": null,
            "overflow": null,
            "overflow_x": null,
            "overflow_y": null,
            "padding": null,
            "right": null,
            "top": null,
            "visibility": null,
            "width": null
          }
        },
        "5eef0993b9734358b3d16b84f9f6469d": {
          "model_module": "@jupyter-widgets/controls",
          "model_name": "DescriptionStyleModel",
          "model_module_version": "1.5.0",
          "state": {
            "_model_module": "@jupyter-widgets/controls",
            "_model_module_version": "1.5.0",
            "_model_name": "DescriptionStyleModel",
            "_view_count": null,
            "_view_module": "@jupyter-widgets/base",
            "_view_module_version": "1.2.0",
            "_view_name": "StyleView",
            "description_width": ""
          }
        },
        "a1cfb3e5db79472ab89d7537e61c7ab6": {
          "model_module": "@jupyter-widgets/controls",
          "model_name": "HBoxModel",
          "model_module_version": "1.5.0",
          "state": {
            "_dom_classes": [],
            "_model_module": "@jupyter-widgets/controls",
            "_model_module_version": "1.5.0",
            "_model_name": "HBoxModel",
            "_view_count": null,
            "_view_module": "@jupyter-widgets/controls",
            "_view_module_version": "1.5.0",
            "_view_name": "HBoxView",
            "box_style": "",
            "children": [
              "IPY_MODEL_f7951c3899d24a7f8321e2a5d6ddbb3b",
              "IPY_MODEL_b9208e60427846a1a470d9bdbb7bf752",
              "IPY_MODEL_3bc2e0422d6748f297237ae0e5e09c34"
            ],
            "layout": "IPY_MODEL_1756ca9c27c342919c9a1131bab4a288"
          }
        },
        "f7951c3899d24a7f8321e2a5d6ddbb3b": {
          "model_module": "@jupyter-widgets/controls",
          "model_name": "HTMLModel",
          "model_module_version": "1.5.0",
          "state": {
            "_dom_classes": [],
            "_model_module": "@jupyter-widgets/controls",
            "_model_module_version": "1.5.0",
            "_model_name": "HTMLModel",
            "_view_count": null,
            "_view_module": "@jupyter-widgets/controls",
            "_view_module_version": "1.5.0",
            "_view_name": "HTMLView",
            "description": "",
            "description_tooltip": null,
            "layout": "IPY_MODEL_319d8ea1a7024c5e8b5f3837f4da4613",
            "placeholder": "​",
            "style": "IPY_MODEL_9a078664ea0a42d9baf87e83d0a26700",
            "value": "model.safetensors: 100%"
          }
        },
        "b9208e60427846a1a470d9bdbb7bf752": {
          "model_module": "@jupyter-widgets/controls",
          "model_name": "FloatProgressModel",
          "model_module_version": "1.5.0",
          "state": {
            "_dom_classes": [],
            "_model_module": "@jupyter-widgets/controls",
            "_model_module_version": "1.5.0",
            "_model_name": "FloatProgressModel",
            "_view_count": null,
            "_view_module": "@jupyter-widgets/controls",
            "_view_module_version": "1.5.0",
            "_view_name": "ProgressView",
            "bar_style": "success",
            "description": "",
            "description_tooltip": null,
            "layout": "IPY_MODEL_9685f8f1157b491f870493f16950e623",
            "max": 267954768,
            "min": 0,
            "orientation": "horizontal",
            "style": "IPY_MODEL_4bd95cf2eeae43509e45fc84e9cd7835",
            "value": 267954768
          }
        },
        "3bc2e0422d6748f297237ae0e5e09c34": {
          "model_module": "@jupyter-widgets/controls",
          "model_name": "HTMLModel",
          "model_module_version": "1.5.0",
          "state": {
            "_dom_classes": [],
            "_model_module": "@jupyter-widgets/controls",
            "_model_module_version": "1.5.0",
            "_model_name": "HTMLModel",
            "_view_count": null,
            "_view_module": "@jupyter-widgets/controls",
            "_view_module_version": "1.5.0",
            "_view_name": "HTMLView",
            "description": "",
            "description_tooltip": null,
            "layout": "IPY_MODEL_46c392bc723a480787117f06b5b67e49",
            "placeholder": "​",
            "style": "IPY_MODEL_480cde2639be4fa6a5e3ed6762815e24",
            "value": " 268M/268M [00:01&lt;00:00, 185MB/s]"
          }
        },
        "1756ca9c27c342919c9a1131bab4a288": {
          "model_module": "@jupyter-widgets/base",
          "model_name": "LayoutModel",
          "model_module_version": "1.2.0",
          "state": {
            "_model_module": "@jupyter-widgets/base",
            "_model_module_version": "1.2.0",
            "_model_name": "LayoutModel",
            "_view_count": null,
            "_view_module": "@jupyter-widgets/base",
            "_view_module_version": "1.2.0",
            "_view_name": "LayoutView",
            "align_content": null,
            "align_items": null,
            "align_self": null,
            "border": null,
            "bottom": null,
            "display": null,
            "flex": null,
            "flex_flow": null,
            "grid_area": null,
            "grid_auto_columns": null,
            "grid_auto_flow": null,
            "grid_auto_rows": null,
            "grid_column": null,
            "grid_gap": null,
            "grid_row": null,
            "grid_template_areas": null,
            "grid_template_columns": null,
            "grid_template_rows": null,
            "height": null,
            "justify_content": null,
            "justify_items": null,
            "left": null,
            "margin": null,
            "max_height": null,
            "max_width": null,
            "min_height": null,
            "min_width": null,
            "object_fit": null,
            "object_position": null,
            "order": null,
            "overflow": null,
            "overflow_x": null,
            "overflow_y": null,
            "padding": null,
            "right": null,
            "top": null,
            "visibility": null,
            "width": null
          }
        },
        "319d8ea1a7024c5e8b5f3837f4da4613": {
          "model_module": "@jupyter-widgets/base",
          "model_name": "LayoutModel",
          "model_module_version": "1.2.0",
          "state": {
            "_model_module": "@jupyter-widgets/base",
            "_model_module_version": "1.2.0",
            "_model_name": "LayoutModel",
            "_view_count": null,
            "_view_module": "@jupyter-widgets/base",
            "_view_module_version": "1.2.0",
            "_view_name": "LayoutView",
            "align_content": null,
            "align_items": null,
            "align_self": null,
            "border": null,
            "bottom": null,
            "display": null,
            "flex": null,
            "flex_flow": null,
            "grid_area": null,
            "grid_auto_columns": null,
            "grid_auto_flow": null,
            "grid_auto_rows": null,
            "grid_column": null,
            "grid_gap": null,
            "grid_row": null,
            "grid_template_areas": null,
            "grid_template_columns": null,
            "grid_template_rows": null,
            "height": null,
            "justify_content": null,
            "justify_items": null,
            "left": null,
            "margin": null,
            "max_height": null,
            "max_width": null,
            "min_height": null,
            "min_width": null,
            "object_fit": null,
            "object_position": null,
            "order": null,
            "overflow": null,
            "overflow_x": null,
            "overflow_y": null,
            "padding": null,
            "right": null,
            "top": null,
            "visibility": null,
            "width": null
          }
        },
        "9a078664ea0a42d9baf87e83d0a26700": {
          "model_module": "@jupyter-widgets/controls",
          "model_name": "DescriptionStyleModel",
          "model_module_version": "1.5.0",
          "state": {
            "_model_module": "@jupyter-widgets/controls",
            "_model_module_version": "1.5.0",
            "_model_name": "DescriptionStyleModel",
            "_view_count": null,
            "_view_module": "@jupyter-widgets/base",
            "_view_module_version": "1.2.0",
            "_view_name": "StyleView",
            "description_width": ""
          }
        },
        "9685f8f1157b491f870493f16950e623": {
          "model_module": "@jupyter-widgets/base",
          "model_name": "LayoutModel",
          "model_module_version": "1.2.0",
          "state": {
            "_model_module": "@jupyter-widgets/base",
            "_model_module_version": "1.2.0",
            "_model_name": "LayoutModel",
            "_view_count": null,
            "_view_module": "@jupyter-widgets/base",
            "_view_module_version": "1.2.0",
            "_view_name": "LayoutView",
            "align_content": null,
            "align_items": null,
            "align_self": null,
            "border": null,
            "bottom": null,
            "display": null,
            "flex": null,
            "flex_flow": null,
            "grid_area": null,
            "grid_auto_columns": null,
            "grid_auto_flow": null,
            "grid_auto_rows": null,
            "grid_column": null,
            "grid_gap": null,
            "grid_row": null,
            "grid_template_areas": null,
            "grid_template_columns": null,
            "grid_template_rows": null,
            "height": null,
            "justify_content": null,
            "justify_items": null,
            "left": null,
            "margin": null,
            "max_height": null,
            "max_width": null,
            "min_height": null,
            "min_width": null,
            "object_fit": null,
            "object_position": null,
            "order": null,
            "overflow": null,
            "overflow_x": null,
            "overflow_y": null,
            "padding": null,
            "right": null,
            "top": null,
            "visibility": null,
            "width": null
          }
        },
        "4bd95cf2eeae43509e45fc84e9cd7835": {
          "model_module": "@jupyter-widgets/controls",
          "model_name": "ProgressStyleModel",
          "model_module_version": "1.5.0",
          "state": {
            "_model_module": "@jupyter-widgets/controls",
            "_model_module_version": "1.5.0",
            "_model_name": "ProgressStyleModel",
            "_view_count": null,
            "_view_module": "@jupyter-widgets/base",
            "_view_module_version": "1.2.0",
            "_view_name": "StyleView",
            "bar_color": null,
            "description_width": ""
          }
        },
        "46c392bc723a480787117f06b5b67e49": {
          "model_module": "@jupyter-widgets/base",
          "model_name": "LayoutModel",
          "model_module_version": "1.2.0",
          "state": {
            "_model_module": "@jupyter-widgets/base",
            "_model_module_version": "1.2.0",
            "_model_name": "LayoutModel",
            "_view_count": null,
            "_view_module": "@jupyter-widgets/base",
            "_view_module_version": "1.2.0",
            "_view_name": "LayoutView",
            "align_content": null,
            "align_items": null,
            "align_self": null,
            "border": null,
            "bottom": null,
            "display": null,
            "flex": null,
            "flex_flow": null,
            "grid_area": null,
            "grid_auto_columns": null,
            "grid_auto_flow": null,
            "grid_auto_rows": null,
            "grid_column": null,
            "grid_gap": null,
            "grid_row": null,
            "grid_template_areas": null,
            "grid_template_columns": null,
            "grid_template_rows": null,
            "height": null,
            "justify_content": null,
            "justify_items": null,
            "left": null,
            "margin": null,
            "max_height": null,
            "max_width": null,
            "min_height": null,
            "min_width": null,
            "object_fit": null,
            "object_position": null,
            "order": null,
            "overflow": null,
            "overflow_x": null,
            "overflow_y": null,
            "padding": null,
            "right": null,
            "top": null,
            "visibility": null,
            "width": null
          }
        },
        "480cde2639be4fa6a5e3ed6762815e24": {
          "model_module": "@jupyter-widgets/controls",
          "model_name": "DescriptionStyleModel",
          "model_module_version": "1.5.0",
          "state": {
            "_model_module": "@jupyter-widgets/controls",
            "_model_module_version": "1.5.0",
            "_model_name": "DescriptionStyleModel",
            "_view_count": null,
            "_view_module": "@jupyter-widgets/base",
            "_view_module_version": "1.2.0",
            "_view_name": "StyleView",
            "description_width": ""
          }
        },
        "6cdd326741e945b9bd98d0dd3b6d8eb6": {
          "model_module": "@jupyter-widgets/controls",
          "model_name": "HBoxModel",
          "model_module_version": "1.5.0",
          "state": {
            "_dom_classes": [],
            "_model_module": "@jupyter-widgets/controls",
            "_model_module_version": "1.5.0",
            "_model_name": "HBoxModel",
            "_view_count": null,
            "_view_module": "@jupyter-widgets/controls",
            "_view_module_version": "1.5.0",
            "_view_name": "HBoxView",
            "box_style": "",
            "children": [
              "IPY_MODEL_be3cd96aee5b43d99b25f9fd681177b2",
              "IPY_MODEL_fbcc94a14400448695f9ec7fa5afec74",
              "IPY_MODEL_aebd0e53e6a2458ca900f41ebfe2b1ee"
            ],
            "layout": "IPY_MODEL_727b6ef512ea46ebac4e70ad5fccb8ac"
          }
        },
        "be3cd96aee5b43d99b25f9fd681177b2": {
          "model_module": "@jupyter-widgets/controls",
          "model_name": "HTMLModel",
          "model_module_version": "1.5.0",
          "state": {
            "_dom_classes": [],
            "_model_module": "@jupyter-widgets/controls",
            "_model_module_version": "1.5.0",
            "_model_name": "HTMLModel",
            "_view_count": null,
            "_view_module": "@jupyter-widgets/controls",
            "_view_module_version": "1.5.0",
            "_view_name": "HTMLView",
            "description": "",
            "description_tooltip": null,
            "layout": "IPY_MODEL_41a25175de6747a6a8c528fa6f0eefc2",
            "placeholder": "​",
            "style": "IPY_MODEL_f710d52b7ec64cb68be028c83f980903",
            "value": "tokenizer_config.json: 100%"
          }
        },
        "fbcc94a14400448695f9ec7fa5afec74": {
          "model_module": "@jupyter-widgets/controls",
          "model_name": "FloatProgressModel",
          "model_module_version": "1.5.0",
          "state": {
            "_dom_classes": [],
            "_model_module": "@jupyter-widgets/controls",
            "_model_module_version": "1.5.0",
            "_model_name": "FloatProgressModel",
            "_view_count": null,
            "_view_module": "@jupyter-widgets/controls",
            "_view_module_version": "1.5.0",
            "_view_name": "ProgressView",
            "bar_style": "success",
            "description": "",
            "description_tooltip": null,
            "layout": "IPY_MODEL_f45519057ce14ebfad4e12641707a0d0",
            "max": 2324,
            "min": 0,
            "orientation": "horizontal",
            "style": "IPY_MODEL_b711b3e6cbad488aade1a887eb3297d5",
            "value": 2324
          }
        },
        "aebd0e53e6a2458ca900f41ebfe2b1ee": {
          "model_module": "@jupyter-widgets/controls",
          "model_name": "HTMLModel",
          "model_module_version": "1.5.0",
          "state": {
            "_dom_classes": [],
            "_model_module": "@jupyter-widgets/controls",
            "_model_module_version": "1.5.0",
            "_model_name": "HTMLModel",
            "_view_count": null,
            "_view_module": "@jupyter-widgets/controls",
            "_view_module_version": "1.5.0",
            "_view_name": "HTMLView",
            "description": "",
            "description_tooltip": null,
            "layout": "IPY_MODEL_f5c70987b0fd424faee2878846f172b4",
            "placeholder": "​",
            "style": "IPY_MODEL_b0b248f6fce94fcaabd9d184ea4dbc14",
            "value": " 2.32k/2.32k [00:00&lt;00:00, 33.9kB/s]"
          }
        },
        "727b6ef512ea46ebac4e70ad5fccb8ac": {
          "model_module": "@jupyter-widgets/base",
          "model_name": "LayoutModel",
          "model_module_version": "1.2.0",
          "state": {
            "_model_module": "@jupyter-widgets/base",
            "_model_module_version": "1.2.0",
            "_model_name": "LayoutModel",
            "_view_count": null,
            "_view_module": "@jupyter-widgets/base",
            "_view_module_version": "1.2.0",
            "_view_name": "LayoutView",
            "align_content": null,
            "align_items": null,
            "align_self": null,
            "border": null,
            "bottom": null,
            "display": null,
            "flex": null,
            "flex_flow": null,
            "grid_area": null,
            "grid_auto_columns": null,
            "grid_auto_flow": null,
            "grid_auto_rows": null,
            "grid_column": null,
            "grid_gap": null,
            "grid_row": null,
            "grid_template_areas": null,
            "grid_template_columns": null,
            "grid_template_rows": null,
            "height": null,
            "justify_content": null,
            "justify_items": null,
            "left": null,
            "margin": null,
            "max_height": null,
            "max_width": null,
            "min_height": null,
            "min_width": null,
            "object_fit": null,
            "object_position": null,
            "order": null,
            "overflow": null,
            "overflow_x": null,
            "overflow_y": null,
            "padding": null,
            "right": null,
            "top": null,
            "visibility": null,
            "width": null
          }
        },
        "41a25175de6747a6a8c528fa6f0eefc2": {
          "model_module": "@jupyter-widgets/base",
          "model_name": "LayoutModel",
          "model_module_version": "1.2.0",
          "state": {
            "_model_module": "@jupyter-widgets/base",
            "_model_module_version": "1.2.0",
            "_model_name": "LayoutModel",
            "_view_count": null,
            "_view_module": "@jupyter-widgets/base",
            "_view_module_version": "1.2.0",
            "_view_name": "LayoutView",
            "align_content": null,
            "align_items": null,
            "align_self": null,
            "border": null,
            "bottom": null,
            "display": null,
            "flex": null,
            "flex_flow": null,
            "grid_area": null,
            "grid_auto_columns": null,
            "grid_auto_flow": null,
            "grid_auto_rows": null,
            "grid_column": null,
            "grid_gap": null,
            "grid_row": null,
            "grid_template_areas": null,
            "grid_template_columns": null,
            "grid_template_rows": null,
            "height": null,
            "justify_content": null,
            "justify_items": null,
            "left": null,
            "margin": null,
            "max_height": null,
            "max_width": null,
            "min_height": null,
            "min_width": null,
            "object_fit": null,
            "object_position": null,
            "order": null,
            "overflow": null,
            "overflow_x": null,
            "overflow_y": null,
            "padding": null,
            "right": null,
            "top": null,
            "visibility": null,
            "width": null
          }
        },
        "f710d52b7ec64cb68be028c83f980903": {
          "model_module": "@jupyter-widgets/controls",
          "model_name": "DescriptionStyleModel",
          "model_module_version": "1.5.0",
          "state": {
            "_model_module": "@jupyter-widgets/controls",
            "_model_module_version": "1.5.0",
            "_model_name": "DescriptionStyleModel",
            "_view_count": null,
            "_view_module": "@jupyter-widgets/base",
            "_view_module_version": "1.2.0",
            "_view_name": "StyleView",
            "description_width": ""
          }
        },
        "f45519057ce14ebfad4e12641707a0d0": {
          "model_module": "@jupyter-widgets/base",
          "model_name": "LayoutModel",
          "model_module_version": "1.2.0",
          "state": {
            "_model_module": "@jupyter-widgets/base",
            "_model_module_version": "1.2.0",
            "_model_name": "LayoutModel",
            "_view_count": null,
            "_view_module": "@jupyter-widgets/base",
            "_view_module_version": "1.2.0",
            "_view_name": "LayoutView",
            "align_content": null,
            "align_items": null,
            "align_self": null,
            "border": null,
            "bottom": null,
            "display": null,
            "flex": null,
            "flex_flow": null,
            "grid_area": null,
            "grid_auto_columns": null,
            "grid_auto_flow": null,
            "grid_auto_rows": null,
            "grid_column": null,
            "grid_gap": null,
            "grid_row": null,
            "grid_template_areas": null,
            "grid_template_columns": null,
            "grid_template_rows": null,
            "height": null,
            "justify_content": null,
            "justify_items": null,
            "left": null,
            "margin": null,
            "max_height": null,
            "max_width": null,
            "min_height": null,
            "min_width": null,
            "object_fit": null,
            "object_position": null,
            "order": null,
            "overflow": null,
            "overflow_x": null,
            "overflow_y": null,
            "padding": null,
            "right": null,
            "top": null,
            "visibility": null,
            "width": null
          }
        },
        "b711b3e6cbad488aade1a887eb3297d5": {
          "model_module": "@jupyter-widgets/controls",
          "model_name": "ProgressStyleModel",
          "model_module_version": "1.5.0",
          "state": {
            "_model_module": "@jupyter-widgets/controls",
            "_model_module_version": "1.5.0",
            "_model_name": "ProgressStyleModel",
            "_view_count": null,
            "_view_module": "@jupyter-widgets/base",
            "_view_module_version": "1.2.0",
            "_view_name": "StyleView",
            "bar_color": null,
            "description_width": ""
          }
        },
        "f5c70987b0fd424faee2878846f172b4": {
          "model_module": "@jupyter-widgets/base",
          "model_name": "LayoutModel",
          "model_module_version": "1.2.0",
          "state": {
            "_model_module": "@jupyter-widgets/base",
            "_model_module_version": "1.2.0",
            "_model_name": "LayoutModel",
            "_view_count": null,
            "_view_module": "@jupyter-widgets/base",
            "_view_module_version": "1.2.0",
            "_view_name": "LayoutView",
            "align_content": null,
            "align_items": null,
            "align_self": null,
            "border": null,
            "bottom": null,
            "display": null,
            "flex": null,
            "flex_flow": null,
            "grid_area": null,
            "grid_auto_columns": null,
            "grid_auto_flow": null,
            "grid_auto_rows": null,
            "grid_column": null,
            "grid_gap": null,
            "grid_row": null,
            "grid_template_areas": null,
            "grid_template_columns": null,
            "grid_template_rows": null,
            "height": null,
            "justify_content": null,
            "justify_items": null,
            "left": null,
            "margin": null,
            "max_height": null,
            "max_width": null,
            "min_height": null,
            "min_width": null,
            "object_fit": null,
            "object_position": null,
            "order": null,
            "overflow": null,
            "overflow_x": null,
            "overflow_y": null,
            "padding": null,
            "right": null,
            "top": null,
            "visibility": null,
            "width": null
          }
        },
        "b0b248f6fce94fcaabd9d184ea4dbc14": {
          "model_module": "@jupyter-widgets/controls",
          "model_name": "DescriptionStyleModel",
          "model_module_version": "1.5.0",
          "state": {
            "_model_module": "@jupyter-widgets/controls",
            "_model_module_version": "1.5.0",
            "_model_name": "DescriptionStyleModel",
            "_view_count": null,
            "_view_module": "@jupyter-widgets/base",
            "_view_module_version": "1.2.0",
            "_view_name": "StyleView",
            "description_width": ""
          }
        },
        "a6bc6cfead95406a83c3d756e28270ba": {
          "model_module": "@jupyter-widgets/controls",
          "model_name": "HBoxModel",
          "model_module_version": "1.5.0",
          "state": {
            "_dom_classes": [],
            "_model_module": "@jupyter-widgets/controls",
            "_model_module_version": "1.5.0",
            "_model_name": "HBoxModel",
            "_view_count": null,
            "_view_module": "@jupyter-widgets/controls",
            "_view_module_version": "1.5.0",
            "_view_name": "HBoxView",
            "box_style": "",
            "children": [
              "IPY_MODEL_f4411eb5d6e7494f993ada09a15f1708",
              "IPY_MODEL_1aef2b0c87784e07bc2d46da8ee90c6c",
              "IPY_MODEL_9ba3c78fcb9541c69044799ca2284c58"
            ],
            "layout": "IPY_MODEL_77ae6da3032b43d9a78f05a7c33e0823"
          }
        },
        "f4411eb5d6e7494f993ada09a15f1708": {
          "model_module": "@jupyter-widgets/controls",
          "model_name": "HTMLModel",
          "model_module_version": "1.5.0",
          "state": {
            "_dom_classes": [],
            "_model_module": "@jupyter-widgets/controls",
            "_model_module_version": "1.5.0",
            "_model_name": "HTMLModel",
            "_view_count": null,
            "_view_module": "@jupyter-widgets/controls",
            "_view_module_version": "1.5.0",
            "_view_name": "HTMLView",
            "description": "",
            "description_tooltip": null,
            "layout": "IPY_MODEL_1f23438ccc4e4b9aa41eb874c84c6d0a",
            "placeholder": "​",
            "style": "IPY_MODEL_c1c1f70d0cd449aeb26b030b17512bc2",
            "value": "spiece.model: 100%"
          }
        },
        "1aef2b0c87784e07bc2d46da8ee90c6c": {
          "model_module": "@jupyter-widgets/controls",
          "model_name": "FloatProgressModel",
          "model_module_version": "1.5.0",
          "state": {
            "_dom_classes": [],
            "_model_module": "@jupyter-widgets/controls",
            "_model_module_version": "1.5.0",
            "_model_name": "FloatProgressModel",
            "_view_count": null,
            "_view_module": "@jupyter-widgets/controls",
            "_view_module_version": "1.5.0",
            "_view_name": "ProgressView",
            "bar_style": "success",
            "description": "",
            "description_tooltip": null,
            "layout": "IPY_MODEL_c983b94c850b437a98eb71540ba8b869",
            "max": 791656,
            "min": 0,
            "orientation": "horizontal",
            "style": "IPY_MODEL_ac3dbc65aa254d47a2f67da1142130c1",
            "value": 791656
          }
        },
        "9ba3c78fcb9541c69044799ca2284c58": {
          "model_module": "@jupyter-widgets/controls",
          "model_name": "HTMLModel",
          "model_module_version": "1.5.0",
          "state": {
            "_dom_classes": [],
            "_model_module": "@jupyter-widgets/controls",
            "_model_module_version": "1.5.0",
            "_model_name": "HTMLModel",
            "_view_count": null,
            "_view_module": "@jupyter-widgets/controls",
            "_view_module_version": "1.5.0",
            "_view_name": "HTMLView",
            "description": "",
            "description_tooltip": null,
            "layout": "IPY_MODEL_b9f58e8312f74c12929da0f71601e3b2",
            "placeholder": "​",
            "style": "IPY_MODEL_27a18ce2e03944cdb59a8817af87f3d6",
            "value": " 792k/792k [00:00&lt;00:00, 2.88MB/s]"
          }
        },
        "77ae6da3032b43d9a78f05a7c33e0823": {
          "model_module": "@jupyter-widgets/base",
          "model_name": "LayoutModel",
          "model_module_version": "1.2.0",
          "state": {
            "_model_module": "@jupyter-widgets/base",
            "_model_module_version": "1.2.0",
            "_model_name": "LayoutModel",
            "_view_count": null,
            "_view_module": "@jupyter-widgets/base",
            "_view_module_version": "1.2.0",
            "_view_name": "LayoutView",
            "align_content": null,
            "align_items": null,
            "align_self": null,
            "border": null,
            "bottom": null,
            "display": null,
            "flex": null,
            "flex_flow": null,
            "grid_area": null,
            "grid_auto_columns": null,
            "grid_auto_flow": null,
            "grid_auto_rows": null,
            "grid_column": null,
            "grid_gap": null,
            "grid_row": null,
            "grid_template_areas": null,
            "grid_template_columns": null,
            "grid_template_rows": null,
            "height": null,
            "justify_content": null,
            "justify_items": null,
            "left": null,
            "margin": null,
            "max_height": null,
            "max_width": null,
            "min_height": null,
            "min_width": null,
            "object_fit": null,
            "object_position": null,
            "order": null,
            "overflow": null,
            "overflow_x": null,
            "overflow_y": null,
            "padding": null,
            "right": null,
            "top": null,
            "visibility": null,
            "width": null
          }
        },
        "1f23438ccc4e4b9aa41eb874c84c6d0a": {
          "model_module": "@jupyter-widgets/base",
          "model_name": "LayoutModel",
          "model_module_version": "1.2.0",
          "state": {
            "_model_module": "@jupyter-widgets/base",
            "_model_module_version": "1.2.0",
            "_model_name": "LayoutModel",
            "_view_count": null,
            "_view_module": "@jupyter-widgets/base",
            "_view_module_version": "1.2.0",
            "_view_name": "LayoutView",
            "align_content": null,
            "align_items": null,
            "align_self": null,
            "border": null,
            "bottom": null,
            "display": null,
            "flex": null,
            "flex_flow": null,
            "grid_area": null,
            "grid_auto_columns": null,
            "grid_auto_flow": null,
            "grid_auto_rows": null,
            "grid_column": null,
            "grid_gap": null,
            "grid_row": null,
            "grid_template_areas": null,
            "grid_template_columns": null,
            "grid_template_rows": null,
            "height": null,
            "justify_content": null,
            "justify_items": null,
            "left": null,
            "margin": null,
            "max_height": null,
            "max_width": null,
            "min_height": null,
            "min_width": null,
            "object_fit": null,
            "object_position": null,
            "order": null,
            "overflow": null,
            "overflow_x": null,
            "overflow_y": null,
            "padding": null,
            "right": null,
            "top": null,
            "visibility": null,
            "width": null
          }
        },
        "c1c1f70d0cd449aeb26b030b17512bc2": {
          "model_module": "@jupyter-widgets/controls",
          "model_name": "DescriptionStyleModel",
          "model_module_version": "1.5.0",
          "state": {
            "_model_module": "@jupyter-widgets/controls",
            "_model_module_version": "1.5.0",
            "_model_name": "DescriptionStyleModel",
            "_view_count": null,
            "_view_module": "@jupyter-widgets/base",
            "_view_module_version": "1.2.0",
            "_view_name": "StyleView",
            "description_width": ""
          }
        },
        "c983b94c850b437a98eb71540ba8b869": {
          "model_module": "@jupyter-widgets/base",
          "model_name": "LayoutModel",
          "model_module_version": "1.2.0",
          "state": {
            "_model_module": "@jupyter-widgets/base",
            "_model_module_version": "1.2.0",
            "_model_name": "LayoutModel",
            "_view_count": null,
            "_view_module": "@jupyter-widgets/base",
            "_view_module_version": "1.2.0",
            "_view_name": "LayoutView",
            "align_content": null,
            "align_items": null,
            "align_self": null,
            "border": null,
            "bottom": null,
            "display": null,
            "flex": null,
            "flex_flow": null,
            "grid_area": null,
            "grid_auto_columns": null,
            "grid_auto_flow": null,
            "grid_auto_rows": null,
            "grid_column": null,
            "grid_gap": null,
            "grid_row": null,
            "grid_template_areas": null,
            "grid_template_columns": null,
            "grid_template_rows": null,
            "height": null,
            "justify_content": null,
            "justify_items": null,
            "left": null,
            "margin": null,
            "max_height": null,
            "max_width": null,
            "min_height": null,
            "min_width": null,
            "object_fit": null,
            "object_position": null,
            "order": null,
            "overflow": null,
            "overflow_x": null,
            "overflow_y": null,
            "padding": null,
            "right": null,
            "top": null,
            "visibility": null,
            "width": null
          }
        },
        "ac3dbc65aa254d47a2f67da1142130c1": {
          "model_module": "@jupyter-widgets/controls",
          "model_name": "ProgressStyleModel",
          "model_module_version": "1.5.0",
          "state": {
            "_model_module": "@jupyter-widgets/controls",
            "_model_module_version": "1.5.0",
            "_model_name": "ProgressStyleModel",
            "_view_count": null,
            "_view_module": "@jupyter-widgets/base",
            "_view_module_version": "1.2.0",
            "_view_name": "StyleView",
            "bar_color": null,
            "description_width": ""
          }
        },
        "b9f58e8312f74c12929da0f71601e3b2": {
          "model_module": "@jupyter-widgets/base",
          "model_name": "LayoutModel",
          "model_module_version": "1.2.0",
          "state": {
            "_model_module": "@jupyter-widgets/base",
            "_model_module_version": "1.2.0",
            "_model_name": "LayoutModel",
            "_view_count": null,
            "_view_module": "@jupyter-widgets/base",
            "_view_module_version": "1.2.0",
            "_view_name": "LayoutView",
            "align_content": null,
            "align_items": null,
            "align_self": null,
            "border": null,
            "bottom": null,
            "display": null,
            "flex": null,
            "flex_flow": null,
            "grid_area": null,
            "grid_auto_columns": null,
            "grid_auto_flow": null,
            "grid_auto_rows": null,
            "grid_column": null,
            "grid_gap": null,
            "grid_row": null,
            "grid_template_areas": null,
            "grid_template_columns": null,
            "grid_template_rows": null,
            "height": null,
            "justify_content": null,
            "justify_items": null,
            "left": null,
            "margin": null,
            "max_height": null,
            "max_width": null,
            "min_height": null,
            "min_width": null,
            "object_fit": null,
            "object_position": null,
            "order": null,
            "overflow": null,
            "overflow_x": null,
            "overflow_y": null,
            "padding": null,
            "right": null,
            "top": null,
            "visibility": null,
            "width": null
          }
        },
        "27a18ce2e03944cdb59a8817af87f3d6": {
          "model_module": "@jupyter-widgets/controls",
          "model_name": "DescriptionStyleModel",
          "model_module_version": "1.5.0",
          "state": {
            "_model_module": "@jupyter-widgets/controls",
            "_model_module_version": "1.5.0",
            "_model_name": "DescriptionStyleModel",
            "_view_count": null,
            "_view_module": "@jupyter-widgets/base",
            "_view_module_version": "1.2.0",
            "_view_name": "StyleView",
            "description_width": ""
          }
        },
        "d46b40ea720e4daa94c22dd6a3d7a3fd": {
          "model_module": "@jupyter-widgets/controls",
          "model_name": "HBoxModel",
          "model_module_version": "1.5.0",
          "state": {
            "_dom_classes": [],
            "_model_module": "@jupyter-widgets/controls",
            "_model_module_version": "1.5.0",
            "_model_name": "HBoxModel",
            "_view_count": null,
            "_view_module": "@jupyter-widgets/controls",
            "_view_module_version": "1.5.0",
            "_view_name": "HBoxView",
            "box_style": "",
            "children": [
              "IPY_MODEL_1be2db2479bd48e2aa79a5132f3af997",
              "IPY_MODEL_144f21e16e784814ac94ec8cdeb45cbc",
              "IPY_MODEL_2cd9c7d81692406fa368a3e0931ed53e"
            ],
            "layout": "IPY_MODEL_cbabb48af89c46b9878441e5e3ac8b22"
          }
        },
        "1be2db2479bd48e2aa79a5132f3af997": {
          "model_module": "@jupyter-widgets/controls",
          "model_name": "HTMLModel",
          "model_module_version": "1.5.0",
          "state": {
            "_dom_classes": [],
            "_model_module": "@jupyter-widgets/controls",
            "_model_module_version": "1.5.0",
            "_model_name": "HTMLModel",
            "_view_count": null,
            "_view_module": "@jupyter-widgets/controls",
            "_view_module_version": "1.5.0",
            "_view_name": "HTMLView",
            "description": "",
            "description_tooltip": null,
            "layout": "IPY_MODEL_9a2539f8e8744356a14087311f5c58c1",
            "placeholder": "​",
            "style": "IPY_MODEL_dd728ed8d0a24049acce7e1ca6114068",
            "value": "tokenizer.json: 100%"
          }
        },
        "144f21e16e784814ac94ec8cdeb45cbc": {
          "model_module": "@jupyter-widgets/controls",
          "model_name": "FloatProgressModel",
          "model_module_version": "1.5.0",
          "state": {
            "_dom_classes": [],
            "_model_module": "@jupyter-widgets/controls",
            "_model_module_version": "1.5.0",
            "_model_name": "FloatProgressModel",
            "_view_count": null,
            "_view_module": "@jupyter-widgets/controls",
            "_view_module_version": "1.5.0",
            "_view_name": "ProgressView",
            "bar_style": "success",
            "description": "",
            "description_tooltip": null,
            "layout": "IPY_MODEL_b6bdebabc41847bea7db985f3304acf5",
            "max": 1389353,
            "min": 0,
            "orientation": "horizontal",
            "style": "IPY_MODEL_fbc31fc7fafb43b88f4880e07025b12f",
            "value": 1389353
          }
        },
        "2cd9c7d81692406fa368a3e0931ed53e": {
          "model_module": "@jupyter-widgets/controls",
          "model_name": "HTMLModel",
          "model_module_version": "1.5.0",
          "state": {
            "_dom_classes": [],
            "_model_module": "@jupyter-widgets/controls",
            "_model_module_version": "1.5.0",
            "_model_name": "HTMLModel",
            "_view_count": null,
            "_view_module": "@jupyter-widgets/controls",
            "_view_module_version": "1.5.0",
            "_view_name": "HTMLView",
            "description": "",
            "description_tooltip": null,
            "layout": "IPY_MODEL_95856df045c3465fbf94ef04514f9add",
            "placeholder": "​",
            "style": "IPY_MODEL_ca09e6abe7e44ad8acff67d5f2631e81",
            "value": " 1.39M/1.39M [00:00&lt;00:00, 36.6MB/s]"
          }
        },
        "cbabb48af89c46b9878441e5e3ac8b22": {
          "model_module": "@jupyter-widgets/base",
          "model_name": "LayoutModel",
          "model_module_version": "1.2.0",
          "state": {
            "_model_module": "@jupyter-widgets/base",
            "_model_module_version": "1.2.0",
            "_model_name": "LayoutModel",
            "_view_count": null,
            "_view_module": "@jupyter-widgets/base",
            "_view_module_version": "1.2.0",
            "_view_name": "LayoutView",
            "align_content": null,
            "align_items": null,
            "align_self": null,
            "border": null,
            "bottom": null,
            "display": null,
            "flex": null,
            "flex_flow": null,
            "grid_area": null,
            "grid_auto_columns": null,
            "grid_auto_flow": null,
            "grid_auto_rows": null,
            "grid_column": null,
            "grid_gap": null,
            "grid_row": null,
            "grid_template_areas": null,
            "grid_template_columns": null,
            "grid_template_rows": null,
            "height": null,
            "justify_content": null,
            "justify_items": null,
            "left": null,
            "margin": null,
            "max_height": null,
            "max_width": null,
            "min_height": null,
            "min_width": null,
            "object_fit": null,
            "object_position": null,
            "order": null,
            "overflow": null,
            "overflow_x": null,
            "overflow_y": null,
            "padding": null,
            "right": null,
            "top": null,
            "visibility": null,
            "width": null
          }
        },
        "9a2539f8e8744356a14087311f5c58c1": {
          "model_module": "@jupyter-widgets/base",
          "model_name": "LayoutModel",
          "model_module_version": "1.2.0",
          "state": {
            "_model_module": "@jupyter-widgets/base",
            "_model_module_version": "1.2.0",
            "_model_name": "LayoutModel",
            "_view_count": null,
            "_view_module": "@jupyter-widgets/base",
            "_view_module_version": "1.2.0",
            "_view_name": "LayoutView",
            "align_content": null,
            "align_items": null,
            "align_self": null,
            "border": null,
            "bottom": null,
            "display": null,
            "flex": null,
            "flex_flow": null,
            "grid_area": null,
            "grid_auto_columns": null,
            "grid_auto_flow": null,
            "grid_auto_rows": null,
            "grid_column": null,
            "grid_gap": null,
            "grid_row": null,
            "grid_template_areas": null,
            "grid_template_columns": null,
            "grid_template_rows": null,
            "height": null,
            "justify_content": null,
            "justify_items": null,
            "left": null,
            "margin": null,
            "max_height": null,
            "max_width": null,
            "min_height": null,
            "min_width": null,
            "object_fit": null,
            "object_position": null,
            "order": null,
            "overflow": null,
            "overflow_x": null,
            "overflow_y": null,
            "padding": null,
            "right": null,
            "top": null,
            "visibility": null,
            "width": null
          }
        },
        "dd728ed8d0a24049acce7e1ca6114068": {
          "model_module": "@jupyter-widgets/controls",
          "model_name": "DescriptionStyleModel",
          "model_module_version": "1.5.0",
          "state": {
            "_model_module": "@jupyter-widgets/controls",
            "_model_module_version": "1.5.0",
            "_model_name": "DescriptionStyleModel",
            "_view_count": null,
            "_view_module": "@jupyter-widgets/base",
            "_view_module_version": "1.2.0",
            "_view_name": "StyleView",
            "description_width": ""
          }
        },
        "b6bdebabc41847bea7db985f3304acf5": {
          "model_module": "@jupyter-widgets/base",
          "model_name": "LayoutModel",
          "model_module_version": "1.2.0",
          "state": {
            "_model_module": "@jupyter-widgets/base",
            "_model_module_version": "1.2.0",
            "_model_name": "LayoutModel",
            "_view_count": null,
            "_view_module": "@jupyter-widgets/base",
            "_view_module_version": "1.2.0",
            "_view_name": "LayoutView",
            "align_content": null,
            "align_items": null,
            "align_self": null,
            "border": null,
            "bottom": null,
            "display": null,
            "flex": null,
            "flex_flow": null,
            "grid_area": null,
            "grid_auto_columns": null,
            "grid_auto_flow": null,
            "grid_auto_rows": null,
            "grid_column": null,
            "grid_gap": null,
            "grid_row": null,
            "grid_template_areas": null,
            "grid_template_columns": null,
            "grid_template_rows": null,
            "height": null,
            "justify_content": null,
            "justify_items": null,
            "left": null,
            "margin": null,
            "max_height": null,
            "max_width": null,
            "min_height": null,
            "min_width": null,
            "object_fit": null,
            "object_position": null,
            "order": null,
            "overflow": null,
            "overflow_x": null,
            "overflow_y": null,
            "padding": null,
            "right": null,
            "top": null,
            "visibility": null,
            "width": null
          }
        },
        "fbc31fc7fafb43b88f4880e07025b12f": {
          "model_module": "@jupyter-widgets/controls",
          "model_name": "ProgressStyleModel",
          "model_module_version": "1.5.0",
          "state": {
            "_model_module": "@jupyter-widgets/controls",
            "_model_module_version": "1.5.0",
            "_model_name": "ProgressStyleModel",
            "_view_count": null,
            "_view_module": "@jupyter-widgets/base",
            "_view_module_version": "1.2.0",
            "_view_name": "StyleView",
            "bar_color": null,
            "description_width": ""
          }
        },
        "95856df045c3465fbf94ef04514f9add": {
          "model_module": "@jupyter-widgets/base",
          "model_name": "LayoutModel",
          "model_module_version": "1.2.0",
          "state": {
            "_model_module": "@jupyter-widgets/base",
            "_model_module_version": "1.2.0",
            "_model_name": "LayoutModel",
            "_view_count": null,
            "_view_module": "@jupyter-widgets/base",
            "_view_module_version": "1.2.0",
            "_view_name": "LayoutView",
            "align_content": null,
            "align_items": null,
            "align_self": null,
            "border": null,
            "bottom": null,
            "display": null,
            "flex": null,
            "flex_flow": null,
            "grid_area": null,
            "grid_auto_columns": null,
            "grid_auto_flow": null,
            "grid_auto_rows": null,
            "grid_column": null,
            "grid_gap": null,
            "grid_row": null,
            "grid_template_areas": null,
            "grid_template_columns": null,
            "grid_template_rows": null,
            "height": null,
            "justify_content": null,
            "justify_items": null,
            "left": null,
            "margin": null,
            "max_height": null,
            "max_width": null,
            "min_height": null,
            "min_width": null,
            "object_fit": null,
            "object_position": null,
            "order": null,
            "overflow": null,
            "overflow_x": null,
            "overflow_y": null,
            "padding": null,
            "right": null,
            "top": null,
            "visibility": null,
            "width": null
          }
        },
        "ca09e6abe7e44ad8acff67d5f2631e81": {
          "model_module": "@jupyter-widgets/controls",
          "model_name": "DescriptionStyleModel",
          "model_module_version": "1.5.0",
          "state": {
            "_model_module": "@jupyter-widgets/controls",
            "_model_module_version": "1.5.0",
            "_model_name": "DescriptionStyleModel",
            "_view_count": null,
            "_view_module": "@jupyter-widgets/base",
            "_view_module_version": "1.2.0",
            "_view_name": "StyleView",
            "description_width": ""
          }
        },
        "7790bfc51eb54837961ed331120cb6b0": {
          "model_module": "@jupyter-widgets/controls",
          "model_name": "HBoxModel",
          "model_module_version": "1.5.0",
          "state": {
            "_dom_classes": [],
            "_model_module": "@jupyter-widgets/controls",
            "_model_module_version": "1.5.0",
            "_model_name": "HBoxModel",
            "_view_count": null,
            "_view_module": "@jupyter-widgets/controls",
            "_view_module_version": "1.5.0",
            "_view_name": "HBoxView",
            "box_style": "",
            "children": [
              "IPY_MODEL_826b5d2b068f42f28fc19b85eeb0d363",
              "IPY_MODEL_6dfeeae8ee78483e97b83733079a6126",
              "IPY_MODEL_2c9a6b09dc4a48188b969a7c4605c850"
            ],
            "layout": "IPY_MODEL_7eaee5a14ce0438995ce445baabc2da1"
          }
        },
        "826b5d2b068f42f28fc19b85eeb0d363": {
          "model_module": "@jupyter-widgets/controls",
          "model_name": "HTMLModel",
          "model_module_version": "1.5.0",
          "state": {
            "_dom_classes": [],
            "_model_module": "@jupyter-widgets/controls",
            "_model_module_version": "1.5.0",
            "_model_name": "HTMLModel",
            "_view_count": null,
            "_view_module": "@jupyter-widgets/controls",
            "_view_module_version": "1.5.0",
            "_view_name": "HTMLView",
            "description": "",
            "description_tooltip": null,
            "layout": "IPY_MODEL_608d6f33a8594f70bac8c87845f7b8de",
            "placeholder": "​",
            "style": "IPY_MODEL_22aafab9ee154bbe8268057d1c3f4a10",
            "value": "config.json: 100%"
          }
        },
        "6dfeeae8ee78483e97b83733079a6126": {
          "model_module": "@jupyter-widgets/controls",
          "model_name": "FloatProgressModel",
          "model_module_version": "1.5.0",
          "state": {
            "_dom_classes": [],
            "_model_module": "@jupyter-widgets/controls",
            "_model_module_version": "1.5.0",
            "_model_name": "FloatProgressModel",
            "_view_count": null,
            "_view_module": "@jupyter-widgets/controls",
            "_view_module_version": "1.5.0",
            "_view_name": "ProgressView",
            "bar_style": "success",
            "description": "",
            "description_tooltip": null,
            "layout": "IPY_MODEL_8d845a3c1c9747179b1eba631c284b38",
            "max": 1206,
            "min": 0,
            "orientation": "horizontal",
            "style": "IPY_MODEL_fbf17aa35a3641dc86825b0e26e87608",
            "value": 1206
          }
        },
        "2c9a6b09dc4a48188b969a7c4605c850": {
          "model_module": "@jupyter-widgets/controls",
          "model_name": "HTMLModel",
          "model_module_version": "1.5.0",
          "state": {
            "_dom_classes": [],
            "_model_module": "@jupyter-widgets/controls",
            "_model_module_version": "1.5.0",
            "_model_name": "HTMLModel",
            "_view_count": null,
            "_view_module": "@jupyter-widgets/controls",
            "_view_module_version": "1.5.0",
            "_view_name": "HTMLView",
            "description": "",
            "description_tooltip": null,
            "layout": "IPY_MODEL_9eb5c03e20de409ca5c2c1f7509fd61e",
            "placeholder": "​",
            "style": "IPY_MODEL_c0855bd5342d4446adab285ffc27b032",
            "value": " 1.21k/1.21k [00:00&lt;00:00, 24.3kB/s]"
          }
        },
        "7eaee5a14ce0438995ce445baabc2da1": {
          "model_module": "@jupyter-widgets/base",
          "model_name": "LayoutModel",
          "model_module_version": "1.2.0",
          "state": {
            "_model_module": "@jupyter-widgets/base",
            "_model_module_version": "1.2.0",
            "_model_name": "LayoutModel",
            "_view_count": null,
            "_view_module": "@jupyter-widgets/base",
            "_view_module_version": "1.2.0",
            "_view_name": "LayoutView",
            "align_content": null,
            "align_items": null,
            "align_self": null,
            "border": null,
            "bottom": null,
            "display": null,
            "flex": null,
            "flex_flow": null,
            "grid_area": null,
            "grid_auto_columns": null,
            "grid_auto_flow": null,
            "grid_auto_rows": null,
            "grid_column": null,
            "grid_gap": null,
            "grid_row": null,
            "grid_template_areas": null,
            "grid_template_columns": null,
            "grid_template_rows": null,
            "height": null,
            "justify_content": null,
            "justify_items": null,
            "left": null,
            "margin": null,
            "max_height": null,
            "max_width": null,
            "min_height": null,
            "min_width": null,
            "object_fit": null,
            "object_position": null,
            "order": null,
            "overflow": null,
            "overflow_x": null,
            "overflow_y": null,
            "padding": null,
            "right": null,
            "top": null,
            "visibility": null,
            "width": null
          }
        },
        "608d6f33a8594f70bac8c87845f7b8de": {
          "model_module": "@jupyter-widgets/base",
          "model_name": "LayoutModel",
          "model_module_version": "1.2.0",
          "state": {
            "_model_module": "@jupyter-widgets/base",
            "_model_module_version": "1.2.0",
            "_model_name": "LayoutModel",
            "_view_count": null,
            "_view_module": "@jupyter-widgets/base",
            "_view_module_version": "1.2.0",
            "_view_name": "LayoutView",
            "align_content": null,
            "align_items": null,
            "align_self": null,
            "border": null,
            "bottom": null,
            "display": null,
            "flex": null,
            "flex_flow": null,
            "grid_area": null,
            "grid_auto_columns": null,
            "grid_auto_flow": null,
            "grid_auto_rows": null,
            "grid_column": null,
            "grid_gap": null,
            "grid_row": null,
            "grid_template_areas": null,
            "grid_template_columns": null,
            "grid_template_rows": null,
            "height": null,
            "justify_content": null,
            "justify_items": null,
            "left": null,
            "margin": null,
            "max_height": null,
            "max_width": null,
            "min_height": null,
            "min_width": null,
            "object_fit": null,
            "object_position": null,
            "order": null,
            "overflow": null,
            "overflow_x": null,
            "overflow_y": null,
            "padding": null,
            "right": null,
            "top": null,
            "visibility": null,
            "width": null
          }
        },
        "22aafab9ee154bbe8268057d1c3f4a10": {
          "model_module": "@jupyter-widgets/controls",
          "model_name": "DescriptionStyleModel",
          "model_module_version": "1.5.0",
          "state": {
            "_model_module": "@jupyter-widgets/controls",
            "_model_module_version": "1.5.0",
            "_model_name": "DescriptionStyleModel",
            "_view_count": null,
            "_view_module": "@jupyter-widgets/base",
            "_view_module_version": "1.2.0",
            "_view_name": "StyleView",
            "description_width": ""
          }
        },
        "8d845a3c1c9747179b1eba631c284b38": {
          "model_module": "@jupyter-widgets/base",
          "model_name": "LayoutModel",
          "model_module_version": "1.2.0",
          "state": {
            "_model_module": "@jupyter-widgets/base",
            "_model_module_version": "1.2.0",
            "_model_name": "LayoutModel",
            "_view_count": null,
            "_view_module": "@jupyter-widgets/base",
            "_view_module_version": "1.2.0",
            "_view_name": "LayoutView",
            "align_content": null,
            "align_items": null,
            "align_self": null,
            "border": null,
            "bottom": null,
            "display": null,
            "flex": null,
            "flex_flow": null,
            "grid_area": null,
            "grid_auto_columns": null,
            "grid_auto_flow": null,
            "grid_auto_rows": null,
            "grid_column": null,
            "grid_gap": null,
            "grid_row": null,
            "grid_template_areas": null,
            "grid_template_columns": null,
            "grid_template_rows": null,
            "height": null,
            "justify_content": null,
            "justify_items": null,
            "left": null,
            "margin": null,
            "max_height": null,
            "max_width": null,
            "min_height": null,
            "min_width": null,
            "object_fit": null,
            "object_position": null,
            "order": null,
            "overflow": null,
            "overflow_x": null,
            "overflow_y": null,
            "padding": null,
            "right": null,
            "top": null,
            "visibility": null,
            "width": null
          }
        },
        "fbf17aa35a3641dc86825b0e26e87608": {
          "model_module": "@jupyter-widgets/controls",
          "model_name": "ProgressStyleModel",
          "model_module_version": "1.5.0",
          "state": {
            "_model_module": "@jupyter-widgets/controls",
            "_model_module_version": "1.5.0",
            "_model_name": "ProgressStyleModel",
            "_view_count": null,
            "_view_module": "@jupyter-widgets/base",
            "_view_module_version": "1.2.0",
            "_view_name": "StyleView",
            "bar_color": null,
            "description_width": ""
          }
        },
        "9eb5c03e20de409ca5c2c1f7509fd61e": {
          "model_module": "@jupyter-widgets/base",
          "model_name": "LayoutModel",
          "model_module_version": "1.2.0",
          "state": {
            "_model_module": "@jupyter-widgets/base",
            "_model_module_version": "1.2.0",
            "_model_name": "LayoutModel",
            "_view_count": null,
            "_view_module": "@jupyter-widgets/base",
            "_view_module_version": "1.2.0",
            "_view_name": "LayoutView",
            "align_content": null,
            "align_items": null,
            "align_self": null,
            "border": null,
            "bottom": null,
            "display": null,
            "flex": null,
            "flex_flow": null,
            "grid_area": null,
            "grid_auto_columns": null,
            "grid_auto_flow": null,
            "grid_auto_rows": null,
            "grid_column": null,
            "grid_gap": null,
            "grid_row": null,
            "grid_template_areas": null,
            "grid_template_columns": null,
            "grid_template_rows": null,
            "height": null,
            "justify_content": null,
            "justify_items": null,
            "left": null,
            "margin": null,
            "max_height": null,
            "max_width": null,
            "min_height": null,
            "min_width": null,
            "object_fit": null,
            "object_position": null,
            "order": null,
            "overflow": null,
            "overflow_x": null,
            "overflow_y": null,
            "padding": null,
            "right": null,
            "top": null,
            "visibility": null,
            "width": null
          }
        },
        "c0855bd5342d4446adab285ffc27b032": {
          "model_module": "@jupyter-widgets/controls",
          "model_name": "DescriptionStyleModel",
          "model_module_version": "1.5.0",
          "state": {
            "_model_module": "@jupyter-widgets/controls",
            "_model_module_version": "1.5.0",
            "_model_name": "DescriptionStyleModel",
            "_view_count": null,
            "_view_module": "@jupyter-widgets/base",
            "_view_module_version": "1.2.0",
            "_view_name": "StyleView",
            "description_width": ""
          }
        },
        "6d4ce9922740447f9a83b1cdafeacc25": {
          "model_module": "@jupyter-widgets/controls",
          "model_name": "HBoxModel",
          "model_module_version": "1.5.0",
          "state": {
            "_dom_classes": [],
            "_model_module": "@jupyter-widgets/controls",
            "_model_module_version": "1.5.0",
            "_model_name": "HBoxModel",
            "_view_count": null,
            "_view_module": "@jupyter-widgets/controls",
            "_view_module_version": "1.5.0",
            "_view_name": "HBoxView",
            "box_style": "",
            "children": [
              "IPY_MODEL_2c572bf838b84596ab65e4bb42048fdc",
              "IPY_MODEL_a747021532af4f4aacd4c08778d238ea",
              "IPY_MODEL_0c26eeaa50444209b01f0f5af031985e"
            ],
            "layout": "IPY_MODEL_74a9ec1e08b24bcc9e74748874e17b7f"
          }
        },
        "2c572bf838b84596ab65e4bb42048fdc": {
          "model_module": "@jupyter-widgets/controls",
          "model_name": "HTMLModel",
          "model_module_version": "1.5.0",
          "state": {
            "_dom_classes": [],
            "_model_module": "@jupyter-widgets/controls",
            "_model_module_version": "1.5.0",
            "_model_name": "HTMLModel",
            "_view_count": null,
            "_view_module": "@jupyter-widgets/controls",
            "_view_module_version": "1.5.0",
            "_view_name": "HTMLView",
            "description": "",
            "description_tooltip": null,
            "layout": "IPY_MODEL_e34ac27d6c6249918f874994d47c639e",
            "placeholder": "​",
            "style": "IPY_MODEL_26207b36890d4f5b802aa2e1aedc8093",
            "value": "model.safetensors: 100%"
          }
        },
        "a747021532af4f4aacd4c08778d238ea": {
          "model_module": "@jupyter-widgets/controls",
          "model_name": "FloatProgressModel",
          "model_module_version": "1.5.0",
          "state": {
            "_dom_classes": [],
            "_model_module": "@jupyter-widgets/controls",
            "_model_module_version": "1.5.0",
            "_model_name": "FloatProgressModel",
            "_view_count": null,
            "_view_module": "@jupyter-widgets/controls",
            "_view_module_version": "1.5.0",
            "_view_name": "ProgressView",
            "bar_style": "success",
            "description": "",
            "description_tooltip": null,
            "layout": "IPY_MODEL_0c514400b59140cbbb99c0e59315bec6",
            "max": 242043056,
            "min": 0,
            "orientation": "horizontal",
            "style": "IPY_MODEL_8ab6a8d4d42b451981e98c6384a62ac9",
            "value": 242043056
          }
        },
        "0c26eeaa50444209b01f0f5af031985e": {
          "model_module": "@jupyter-widgets/controls",
          "model_name": "HTMLModel",
          "model_module_version": "1.5.0",
          "state": {
            "_dom_classes": [],
            "_model_module": "@jupyter-widgets/controls",
            "_model_module_version": "1.5.0",
            "_model_name": "HTMLModel",
            "_view_count": null,
            "_view_module": "@jupyter-widgets/controls",
            "_view_module_version": "1.5.0",
            "_view_name": "HTMLView",
            "description": "",
            "description_tooltip": null,
            "layout": "IPY_MODEL_528a4cb81a1f41c1b2d2b7214cec81b4",
            "placeholder": "​",
            "style": "IPY_MODEL_3af8ccc85146454185a5954557a1d0b0",
            "value": " 242M/242M [00:03&lt;00:00, 75.6MB/s]"
          }
        },
        "74a9ec1e08b24bcc9e74748874e17b7f": {
          "model_module": "@jupyter-widgets/base",
          "model_name": "LayoutModel",
          "model_module_version": "1.2.0",
          "state": {
            "_model_module": "@jupyter-widgets/base",
            "_model_module_version": "1.2.0",
            "_model_name": "LayoutModel",
            "_view_count": null,
            "_view_module": "@jupyter-widgets/base",
            "_view_module_version": "1.2.0",
            "_view_name": "LayoutView",
            "align_content": null,
            "align_items": null,
            "align_self": null,
            "border": null,
            "bottom": null,
            "display": null,
            "flex": null,
            "flex_flow": null,
            "grid_area": null,
            "grid_auto_columns": null,
            "grid_auto_flow": null,
            "grid_auto_rows": null,
            "grid_column": null,
            "grid_gap": null,
            "grid_row": null,
            "grid_template_areas": null,
            "grid_template_columns": null,
            "grid_template_rows": null,
            "height": null,
            "justify_content": null,
            "justify_items": null,
            "left": null,
            "margin": null,
            "max_height": null,
            "max_width": null,
            "min_height": null,
            "min_width": null,
            "object_fit": null,
            "object_position": null,
            "order": null,
            "overflow": null,
            "overflow_x": null,
            "overflow_y": null,
            "padding": null,
            "right": null,
            "top": null,
            "visibility": null,
            "width": null
          }
        },
        "e34ac27d6c6249918f874994d47c639e": {
          "model_module": "@jupyter-widgets/base",
          "model_name": "LayoutModel",
          "model_module_version": "1.2.0",
          "state": {
            "_model_module": "@jupyter-widgets/base",
            "_model_module_version": "1.2.0",
            "_model_name": "LayoutModel",
            "_view_count": null,
            "_view_module": "@jupyter-widgets/base",
            "_view_module_version": "1.2.0",
            "_view_name": "LayoutView",
            "align_content": null,
            "align_items": null,
            "align_self": null,
            "border": null,
            "bottom": null,
            "display": null,
            "flex": null,
            "flex_flow": null,
            "grid_area": null,
            "grid_auto_columns": null,
            "grid_auto_flow": null,
            "grid_auto_rows": null,
            "grid_column": null,
            "grid_gap": null,
            "grid_row": null,
            "grid_template_areas": null,
            "grid_template_columns": null,
            "grid_template_rows": null,
            "height": null,
            "justify_content": null,
            "justify_items": null,
            "left": null,
            "margin": null,
            "max_height": null,
            "max_width": null,
            "min_height": null,
            "min_width": null,
            "object_fit": null,
            "object_position": null,
            "order": null,
            "overflow": null,
            "overflow_x": null,
            "overflow_y": null,
            "padding": null,
            "right": null,
            "top": null,
            "visibility": null,
            "width": null
          }
        },
        "26207b36890d4f5b802aa2e1aedc8093": {
          "model_module": "@jupyter-widgets/controls",
          "model_name": "DescriptionStyleModel",
          "model_module_version": "1.5.0",
          "state": {
            "_model_module": "@jupyter-widgets/controls",
            "_model_module_version": "1.5.0",
            "_model_name": "DescriptionStyleModel",
            "_view_count": null,
            "_view_module": "@jupyter-widgets/base",
            "_view_module_version": "1.2.0",
            "_view_name": "StyleView",
            "description_width": ""
          }
        },
        "0c514400b59140cbbb99c0e59315bec6": {
          "model_module": "@jupyter-widgets/base",
          "model_name": "LayoutModel",
          "model_module_version": "1.2.0",
          "state": {
            "_model_module": "@jupyter-widgets/base",
            "_model_module_version": "1.2.0",
            "_model_name": "LayoutModel",
            "_view_count": null,
            "_view_module": "@jupyter-widgets/base",
            "_view_module_version": "1.2.0",
            "_view_name": "LayoutView",
            "align_content": null,
            "align_items": null,
            "align_self": null,
            "border": null,
            "bottom": null,
            "display": null,
            "flex": null,
            "flex_flow": null,
            "grid_area": null,
            "grid_auto_columns": null,
            "grid_auto_flow": null,
            "grid_auto_rows": null,
            "grid_column": null,
            "grid_gap": null,
            "grid_row": null,
            "grid_template_areas": null,
            "grid_template_columns": null,
            "grid_template_rows": null,
            "height": null,
            "justify_content": null,
            "justify_items": null,
            "left": null,
            "margin": null,
            "max_height": null,
            "max_width": null,
            "min_height": null,
            "min_width": null,
            "object_fit": null,
            "object_position": null,
            "order": null,
            "overflow": null,
            "overflow_x": null,
            "overflow_y": null,
            "padding": null,
            "right": null,
            "top": null,
            "visibility": null,
            "width": null
          }
        },
        "8ab6a8d4d42b451981e98c6384a62ac9": {
          "model_module": "@jupyter-widgets/controls",
          "model_name": "ProgressStyleModel",
          "model_module_version": "1.5.0",
          "state": {
            "_model_module": "@jupyter-widgets/controls",
            "_model_module_version": "1.5.0",
            "_model_name": "ProgressStyleModel",
            "_view_count": null,
            "_view_module": "@jupyter-widgets/base",
            "_view_module_version": "1.2.0",
            "_view_name": "StyleView",
            "bar_color": null,
            "description_width": ""
          }
        },
        "528a4cb81a1f41c1b2d2b7214cec81b4": {
          "model_module": "@jupyter-widgets/base",
          "model_name": "LayoutModel",
          "model_module_version": "1.2.0",
          "state": {
            "_model_module": "@jupyter-widgets/base",
            "_model_module_version": "1.2.0",
            "_model_name": "LayoutModel",
            "_view_count": null,
            "_view_module": "@jupyter-widgets/base",
            "_view_module_version": "1.2.0",
            "_view_name": "LayoutView",
            "align_content": null,
            "align_items": null,
            "align_self": null,
            "border": null,
            "bottom": null,
            "display": null,
            "flex": null,
            "flex_flow": null,
            "grid_area": null,
            "grid_auto_columns": null,
            "grid_auto_flow": null,
            "grid_auto_rows": null,
            "grid_column": null,
            "grid_gap": null,
            "grid_row": null,
            "grid_template_areas": null,
            "grid_template_columns": null,
            "grid_template_rows": null,
            "height": null,
            "justify_content": null,
            "justify_items": null,
            "left": null,
            "margin": null,
            "max_height": null,
            "max_width": null,
            "min_height": null,
            "min_width": null,
            "object_fit": null,
            "object_position": null,
            "order": null,
            "overflow": null,
            "overflow_x": null,
            "overflow_y": null,
            "padding": null,
            "right": null,
            "top": null,
            "visibility": null,
            "width": null
          }
        },
        "3af8ccc85146454185a5954557a1d0b0": {
          "model_module": "@jupyter-widgets/controls",
          "model_name": "DescriptionStyleModel",
          "model_module_version": "1.5.0",
          "state": {
            "_model_module": "@jupyter-widgets/controls",
            "_model_module_version": "1.5.0",
            "_model_name": "DescriptionStyleModel",
            "_view_count": null,
            "_view_module": "@jupyter-widgets/base",
            "_view_module_version": "1.2.0",
            "_view_name": "StyleView",
            "description_width": ""
          }
        },
        "2ae9a060694b4d5eb10a849e877e34dd": {
          "model_module": "@jupyter-widgets/controls",
          "model_name": "HBoxModel",
          "model_module_version": "1.5.0",
          "state": {
            "_dom_classes": [],
            "_model_module": "@jupyter-widgets/controls",
            "_model_module_version": "1.5.0",
            "_model_name": "HBoxModel",
            "_view_count": null,
            "_view_module": "@jupyter-widgets/controls",
            "_view_module_version": "1.5.0",
            "_view_name": "HBoxView",
            "box_style": "",
            "children": [
              "IPY_MODEL_d8bd71d4ba9449a0973dfa3b4f7ef282",
              "IPY_MODEL_c92ec10808574a18b263e0ff684400dc",
              "IPY_MODEL_2421f029f3034fb5826ee85c50a4279f"
            ],
            "layout": "IPY_MODEL_8f7535fd4de84bff9abc5fe8cde62a75"
          }
        },
        "d8bd71d4ba9449a0973dfa3b4f7ef282": {
          "model_module": "@jupyter-widgets/controls",
          "model_name": "HTMLModel",
          "model_module_version": "1.5.0",
          "state": {
            "_dom_classes": [],
            "_model_module": "@jupyter-widgets/controls",
            "_model_module_version": "1.5.0",
            "_model_name": "HTMLModel",
            "_view_count": null,
            "_view_module": "@jupyter-widgets/controls",
            "_view_module_version": "1.5.0",
            "_view_name": "HTMLView",
            "description": "",
            "description_tooltip": null,
            "layout": "IPY_MODEL_a3ab5833d87347f9ba4e2b7e0d852860",
            "placeholder": "​",
            "style": "IPY_MODEL_b41d4802d6104b3783b7d98d72729efe",
            "value": "generation_config.json: 100%"
          }
        },
        "c92ec10808574a18b263e0ff684400dc": {
          "model_module": "@jupyter-widgets/controls",
          "model_name": "FloatProgressModel",
          "model_module_version": "1.5.0",
          "state": {
            "_dom_classes": [],
            "_model_module": "@jupyter-widgets/controls",
            "_model_module_version": "1.5.0",
            "_model_name": "FloatProgressModel",
            "_view_count": null,
            "_view_module": "@jupyter-widgets/controls",
            "_view_module_version": "1.5.0",
            "_view_name": "ProgressView",
            "bar_style": "success",
            "description": "",
            "description_tooltip": null,
            "layout": "IPY_MODEL_630e104b2e1a42d1a74eae9528177117",
            "max": 147,
            "min": 0,
            "orientation": "horizontal",
            "style": "IPY_MODEL_76fa0e7de3414e5ab9cca85dfd063255",
            "value": 147
          }
        },
        "2421f029f3034fb5826ee85c50a4279f": {
          "model_module": "@jupyter-widgets/controls",
          "model_name": "HTMLModel",
          "model_module_version": "1.5.0",
          "state": {
            "_dom_classes": [],
            "_model_module": "@jupyter-widgets/controls",
            "_model_module_version": "1.5.0",
            "_model_name": "HTMLModel",
            "_view_count": null,
            "_view_module": "@jupyter-widgets/controls",
            "_view_module_version": "1.5.0",
            "_view_name": "HTMLView",
            "description": "",
            "description_tooltip": null,
            "layout": "IPY_MODEL_658aa02ba0094e80920740ed7bbc3ecb",
            "placeholder": "​",
            "style": "IPY_MODEL_d17737ed731e4dd3af95ff543c6d6b29",
            "value": " 147/147 [00:00&lt;00:00, 2.03kB/s]"
          }
        },
        "8f7535fd4de84bff9abc5fe8cde62a75": {
          "model_module": "@jupyter-widgets/base",
          "model_name": "LayoutModel",
          "model_module_version": "1.2.0",
          "state": {
            "_model_module": "@jupyter-widgets/base",
            "_model_module_version": "1.2.0",
            "_model_name": "LayoutModel",
            "_view_count": null,
            "_view_module": "@jupyter-widgets/base",
            "_view_module_version": "1.2.0",
            "_view_name": "LayoutView",
            "align_content": null,
            "align_items": null,
            "align_self": null,
            "border": null,
            "bottom": null,
            "display": null,
            "flex": null,
            "flex_flow": null,
            "grid_area": null,
            "grid_auto_columns": null,
            "grid_auto_flow": null,
            "grid_auto_rows": null,
            "grid_column": null,
            "grid_gap": null,
            "grid_row": null,
            "grid_template_areas": null,
            "grid_template_columns": null,
            "grid_template_rows": null,
            "height": null,
            "justify_content": null,
            "justify_items": null,
            "left": null,
            "margin": null,
            "max_height": null,
            "max_width": null,
            "min_height": null,
            "min_width": null,
            "object_fit": null,
            "object_position": null,
            "order": null,
            "overflow": null,
            "overflow_x": null,
            "overflow_y": null,
            "padding": null,
            "right": null,
            "top": null,
            "visibility": null,
            "width": null
          }
        },
        "a3ab5833d87347f9ba4e2b7e0d852860": {
          "model_module": "@jupyter-widgets/base",
          "model_name": "LayoutModel",
          "model_module_version": "1.2.0",
          "state": {
            "_model_module": "@jupyter-widgets/base",
            "_model_module_version": "1.2.0",
            "_model_name": "LayoutModel",
            "_view_count": null,
            "_view_module": "@jupyter-widgets/base",
            "_view_module_version": "1.2.0",
            "_view_name": "LayoutView",
            "align_content": null,
            "align_items": null,
            "align_self": null,
            "border": null,
            "bottom": null,
            "display": null,
            "flex": null,
            "flex_flow": null,
            "grid_area": null,
            "grid_auto_columns": null,
            "grid_auto_flow": null,
            "grid_auto_rows": null,
            "grid_column": null,
            "grid_gap": null,
            "grid_row": null,
            "grid_template_areas": null,
            "grid_template_columns": null,
            "grid_template_rows": null,
            "height": null,
            "justify_content": null,
            "justify_items": null,
            "left": null,
            "margin": null,
            "max_height": null,
            "max_width": null,
            "min_height": null,
            "min_width": null,
            "object_fit": null,
            "object_position": null,
            "order": null,
            "overflow": null,
            "overflow_x": null,
            "overflow_y": null,
            "padding": null,
            "right": null,
            "top": null,
            "visibility": null,
            "width": null
          }
        },
        "b41d4802d6104b3783b7d98d72729efe": {
          "model_module": "@jupyter-widgets/controls",
          "model_name": "DescriptionStyleModel",
          "model_module_version": "1.5.0",
          "state": {
            "_model_module": "@jupyter-widgets/controls",
            "_model_module_version": "1.5.0",
            "_model_name": "DescriptionStyleModel",
            "_view_count": null,
            "_view_module": "@jupyter-widgets/base",
            "_view_module_version": "1.2.0",
            "_view_name": "StyleView",
            "description_width": ""
          }
        },
        "630e104b2e1a42d1a74eae9528177117": {
          "model_module": "@jupyter-widgets/base",
          "model_name": "LayoutModel",
          "model_module_version": "1.2.0",
          "state": {
            "_model_module": "@jupyter-widgets/base",
            "_model_module_version": "1.2.0",
            "_model_name": "LayoutModel",
            "_view_count": null,
            "_view_module": "@jupyter-widgets/base",
            "_view_module_version": "1.2.0",
            "_view_name": "LayoutView",
            "align_content": null,
            "align_items": null,
            "align_self": null,
            "border": null,
            "bottom": null,
            "display": null,
            "flex": null,
            "flex_flow": null,
            "grid_area": null,
            "grid_auto_columns": null,
            "grid_auto_flow": null,
            "grid_auto_rows": null,
            "grid_column": null,
            "grid_gap": null,
            "grid_row": null,
            "grid_template_areas": null,
            "grid_template_columns": null,
            "grid_template_rows": null,
            "height": null,
            "justify_content": null,
            "justify_items": null,
            "left": null,
            "margin": null,
            "max_height": null,
            "max_width": null,
            "min_height": null,
            "min_width": null,
            "object_fit": null,
            "object_position": null,
            "order": null,
            "overflow": null,
            "overflow_x": null,
            "overflow_y": null,
            "padding": null,
            "right": null,
            "top": null,
            "visibility": null,
            "width": null
          }
        },
        "76fa0e7de3414e5ab9cca85dfd063255": {
          "model_module": "@jupyter-widgets/controls",
          "model_name": "ProgressStyleModel",
          "model_module_version": "1.5.0",
          "state": {
            "_model_module": "@jupyter-widgets/controls",
            "_model_module_version": "1.5.0",
            "_model_name": "ProgressStyleModel",
            "_view_count": null,
            "_view_module": "@jupyter-widgets/base",
            "_view_module_version": "1.2.0",
            "_view_name": "StyleView",
            "bar_color": null,
            "description_width": ""
          }
        },
        "658aa02ba0094e80920740ed7bbc3ecb": {
          "model_module": "@jupyter-widgets/base",
          "model_name": "LayoutModel",
          "model_module_version": "1.2.0",
          "state": {
            "_model_module": "@jupyter-widgets/base",
            "_model_module_version": "1.2.0",
            "_model_name": "LayoutModel",
            "_view_count": null,
            "_view_module": "@jupyter-widgets/base",
            "_view_module_version": "1.2.0",
            "_view_name": "LayoutView",
            "align_content": null,
            "align_items": null,
            "align_self": null,
            "border": null,
            "bottom": null,
            "display": null,
            "flex": null,
            "flex_flow": null,
            "grid_area": null,
            "grid_auto_columns": null,
            "grid_auto_flow": null,
            "grid_auto_rows": null,
            "grid_column": null,
            "grid_gap": null,
            "grid_row": null,
            "grid_template_areas": null,
            "grid_template_columns": null,
            "grid_template_rows": null,
            "height": null,
            "justify_content": null,
            "justify_items": null,
            "left": null,
            "margin": null,
            "max_height": null,
            "max_width": null,
            "min_height": null,
            "min_width": null,
            "object_fit": null,
            "object_position": null,
            "order": null,
            "overflow": null,
            "overflow_x": null,
            "overflow_y": null,
            "padding": null,
            "right": null,
            "top": null,
            "visibility": null,
            "width": null
          }
        },
        "d17737ed731e4dd3af95ff543c6d6b29": {
          "model_module": "@jupyter-widgets/controls",
          "model_name": "DescriptionStyleModel",
          "model_module_version": "1.5.0",
          "state": {
            "_model_module": "@jupyter-widgets/controls",
            "_model_module_version": "1.5.0",
            "_model_name": "DescriptionStyleModel",
            "_view_count": null,
            "_view_module": "@jupyter-widgets/base",
            "_view_module_version": "1.2.0",
            "_view_name": "StyleView",
            "description_width": ""
          }
        }
      }
    }
  },
  "cells": [
    {
      "cell_type": "code",
      "source": [
        "!pip install nltk\n",
        "import nltk\n",
        "nltk.download('punkt_tab')"
      ],
      "metadata": {
        "colab": {
          "base_uri": "https://localhost:8080/"
        },
        "id": "0aDCq6Lrm5QE",
        "outputId": "59edc0ff-30d4-4bfa-fed1-a2f25656d1bf"
      },
      "execution_count": null,
      "outputs": [
        {
          "output_type": "stream",
          "name": "stdout",
          "text": [
            "Requirement already satisfied: nltk in /usr/local/lib/python3.11/dist-packages (3.9.1)\n",
            "Requirement already satisfied: click in /usr/local/lib/python3.11/dist-packages (from nltk) (8.1.8)\n",
            "Requirement already satisfied: joblib in /usr/local/lib/python3.11/dist-packages (from nltk) (1.4.2)\n",
            "Requirement already satisfied: regex>=2021.8.3 in /usr/local/lib/python3.11/dist-packages (from nltk) (2024.11.6)\n",
            "Requirement already satisfied: tqdm in /usr/local/lib/python3.11/dist-packages (from nltk) (4.67.1)\n"
          ]
        },
        {
          "output_type": "stream",
          "name": "stderr",
          "text": [
            "[nltk_data] Downloading package punkt_tab to /root/nltk_data...\n",
            "[nltk_data]   Unzipping tokenizers/punkt_tab.zip.\n"
          ]
        },
        {
          "output_type": "execute_result",
          "data": {
            "text/plain": [
              "True"
            ]
          },
          "metadata": {},
          "execution_count": 29
        }
      ]
    },
    {
      "cell_type": "code",
      "source": [
        "!pip install sumy"
      ],
      "metadata": {
        "colab": {
          "base_uri": "https://localhost:8080/"
        },
        "id": "7vKzhmJomFQH",
        "outputId": "8fe7811d-3fcb-43c2-9444-6cc908c27f65"
      },
      "execution_count": null,
      "outputs": [
        {
          "output_type": "stream",
          "name": "stdout",
          "text": [
            "Collecting sumy\n",
            "  Downloading sumy-0.11.0-py2.py3-none-any.whl.metadata (7.5 kB)\n",
            "Collecting docopt<0.7,>=0.6.1 (from sumy)\n",
            "  Downloading docopt-0.6.2.tar.gz (25 kB)\n",
            "  Preparing metadata (setup.py) ... \u001b[?25l\u001b[?25hdone\n",
            "Collecting breadability>=0.1.20 (from sumy)\n",
            "  Downloading breadability-0.1.20.tar.gz (32 kB)\n",
            "  Preparing metadata (setup.py) ... \u001b[?25l\u001b[?25hdone\n",
            "Requirement already satisfied: requests>=2.7.0 in /usr/local/lib/python3.11/dist-packages (from sumy) (2.32.3)\n",
            "Collecting pycountry>=18.2.23 (from sumy)\n",
            "  Downloading pycountry-24.6.1-py3-none-any.whl.metadata (12 kB)\n",
            "Requirement already satisfied: nltk>=3.0.2 in /usr/local/lib/python3.11/dist-packages (from sumy) (3.9.1)\n",
            "Requirement already satisfied: chardet in /usr/local/lib/python3.11/dist-packages (from breadability>=0.1.20->sumy) (5.2.0)\n",
            "Requirement already satisfied: lxml>=2.0 in /usr/local/lib/python3.11/dist-packages (from breadability>=0.1.20->sumy) (5.3.1)\n",
            "Requirement already satisfied: click in /usr/local/lib/python3.11/dist-packages (from nltk>=3.0.2->sumy) (8.1.8)\n",
            "Requirement already satisfied: joblib in /usr/local/lib/python3.11/dist-packages (from nltk>=3.0.2->sumy) (1.4.2)\n",
            "Requirement already satisfied: regex>=2021.8.3 in /usr/local/lib/python3.11/dist-packages (from nltk>=3.0.2->sumy) (2024.11.6)\n",
            "Requirement already satisfied: tqdm in /usr/local/lib/python3.11/dist-packages (from nltk>=3.0.2->sumy) (4.67.1)\n",
            "Requirement already satisfied: charset-normalizer<4,>=2 in /usr/local/lib/python3.11/dist-packages (from requests>=2.7.0->sumy) (3.4.1)\n",
            "Requirement already satisfied: idna<4,>=2.5 in /usr/local/lib/python3.11/dist-packages (from requests>=2.7.0->sumy) (3.10)\n",
            "Requirement already satisfied: urllib3<3,>=1.21.1 in /usr/local/lib/python3.11/dist-packages (from requests>=2.7.0->sumy) (2.3.0)\n",
            "Requirement already satisfied: certifi>=2017.4.17 in /usr/local/lib/python3.11/dist-packages (from requests>=2.7.0->sumy) (2025.1.31)\n",
            "Downloading sumy-0.11.0-py2.py3-none-any.whl (97 kB)\n",
            "\u001b[2K   \u001b[90m━━━━━━━━━━━━━━━━━━━━━━━━━━━━━━━━━━━━━━━━\u001b[0m \u001b[32m97.3/97.3 kB\u001b[0m \u001b[31m6.9 MB/s\u001b[0m eta \u001b[36m0:00:00\u001b[0m\n",
            "\u001b[?25hDownloading pycountry-24.6.1-py3-none-any.whl (6.3 MB)\n",
            "\u001b[2K   \u001b[90m━━━━━━━━━━━━━━━━━━━━━━━━━━━━━━━━━━━━━━━━\u001b[0m \u001b[32m6.3/6.3 MB\u001b[0m \u001b[31m48.8 MB/s\u001b[0m eta \u001b[36m0:00:00\u001b[0m\n",
            "\u001b[?25hBuilding wheels for collected packages: breadability, docopt\n",
            "  Building wheel for breadability (setup.py) ... \u001b[?25l\u001b[?25hdone\n",
            "  Created wheel for breadability: filename=breadability-0.1.20-py2.py3-none-any.whl size=21693 sha256=1596280b91944bff7f66b19a8802d648f80b5a9d089f2228f4e837badf4ada5a\n",
            "  Stored in directory: /root/.cache/pip/wheels/4d/57/58/7e3d7fedf51fe248b7fcee3df6945ae28638e22cddf01eb92b\n",
            "  Building wheel for docopt (setup.py) ... \u001b[?25l\u001b[?25hdone\n",
            "  Created wheel for docopt: filename=docopt-0.6.2-py2.py3-none-any.whl size=13706 sha256=87bee2e916477433754313df50eba2251bf4fb868195f8ddcb302d2d16495e08\n",
            "  Stored in directory: /root/.cache/pip/wheels/1a/b0/8c/4b75c4116c31f83c8f9f047231251e13cc74481cca4a78a9ce\n",
            "Successfully built breadability docopt\n",
            "Installing collected packages: docopt, pycountry, breadability, sumy\n",
            "Successfully installed breadability-0.1.20 docopt-0.6.2 pycountry-24.6.1 sumy-0.11.0\n"
          ]
        }
      ]
    },
    {
      "cell_type": "code",
      "source": [
        "!pip install wandb -qU\n",
        "\n"
      ],
      "metadata": {
        "colab": {
          "base_uri": "https://localhost:8080/"
        },
        "id": "WqGa1gc-KNVZ",
        "outputId": "41bd02b2-d00a-4e10-f40a-e6a2c97e30a6"
      },
      "execution_count": null,
      "outputs": [
        {
          "output_type": "stream",
          "name": "stdout",
          "text": [
            "\u001b[2K   \u001b[90m━━━━━━━━━━━━━━━━━━━━━━━━━━━━━━━━━━━━━━━━\u001b[0m \u001b[32m20.9/20.9 MB\u001b[0m \u001b[31m14.5 MB/s\u001b[0m eta \u001b[36m0:00:00\u001b[0m\n",
            "\u001b[?25h"
          ]
        }
      ]
    },
    {
      "cell_type": "code",
      "source": [
        "#------------------#\n",
        "# LIBRARIES\n",
        "#-----------------------#\n",
        "\n",
        "from google.colab import drive\n",
        "import os\n",
        "import re\n",
        "import zipfile\n",
        "import mailbox\n",
        "from bs4 import BeautifulSoup  # Install if needed: !pip install beautifulsoup4\n",
        "import csv\n",
        "import json\n",
        "import unicodedata\n",
        "#import nltk #.tokenize import word_tokenize\n",
        "import torch\n",
        "from transformers import AutoTokenizer, AutoModel, AutoModelForSequenceClassification, TrainingArguments, Trainer\n",
        "\n",
        "from torch.utils.data import Dataset\n",
        "\n",
        "import wandb\n",
        "from sklearn.model_selection import train_test_split"
      ],
      "metadata": {
        "id": "5Za5tJ5avVjD"
      },
      "execution_count": null,
      "outputs": []
    },
    {
      "cell_type": "code",
      "source": [
        "drive.mount('/content/drive')"
      ],
      "metadata": {
        "colab": {
          "base_uri": "https://localhost:8080/"
        },
        "id": "igqZ_NrZtDNj",
        "outputId": "3a08364b-12cf-4f21-98b7-1d8bbdeea6a9"
      },
      "execution_count": null,
      "outputs": [
        {
          "output_type": "stream",
          "name": "stdout",
          "text": [
            "Mounted at /content/drive\n"
          ]
        }
      ]
    },
    {
      "cell_type": "code",
      "execution_count": null,
      "metadata": {
        "id": "AtEKaqbws7lS"
      },
      "outputs": [],
      "source": [
        "os.chdir('/content/drive/MyDrive/Takeout')"
      ]
    },
    {
      "cell_type": "code",
      "source": [
        "#unzipped\n",
        "zip_file_path = 'takeout-20250401T135415Z-001.zip'\n",
        "\n",
        "with zipfile.ZipFile(zip_file_path, 'r') as zip_ref:\n",
        "    zip_ref.extractall()\n",
        "print(\"Zip file extracted successfully!\")"
      ],
      "metadata": {
        "colab": {
          "base_uri": "https://localhost:8080/"
        },
        "id": "CvAAu6TfwH8q",
        "outputId": "3574de9e-4cf0-4567-ad42-47eef5a44e2b"
      },
      "execution_count": null,
      "outputs": [
        {
          "output_type": "stream",
          "name": "stdout",
          "text": [
            "Zip file extracted successfully!\n"
          ]
        }
      ]
    },
    {
      "cell_type": "code",
      "source": [
        "file_list = os.listdir()\n",
        "print(file_list)"
      ],
      "metadata": {
        "colab": {
          "base_uri": "https://localhost:8080/"
        },
        "id": "2JEgiwWQvpuw",
        "outputId": "43ef4b99-eba8-4c8a-b612-354e2c1e615b"
      },
      "execution_count": null,
      "outputs": [
        {
          "output_type": "stream",
          "name": "stdout",
          "text": [
            "['takeout-20250401T135415Z-001.zip', 'Takeout', '.ipynb_checkpoints', 'email_model', 'emails.json']\n"
          ]
        }
      ]
    },
    {
      "cell_type": "code",
      "source": [
        "!cd Takeout\n",
        "\n",
        "!ls"
      ],
      "metadata": {
        "colab": {
          "base_uri": "https://localhost:8080/"
        },
        "id": "MJ8vMDIjwtSk",
        "outputId": "73424eca-68d5-4f78-9e2e-6074094ce860"
      },
      "execution_count": null,
      "outputs": [
        {
          "output_type": "stream",
          "name": "stdout",
          "text": [
            "Takeout  takeout-20250401T135415Z-001.zip\n"
          ]
        }
      ]
    },
    {
      "cell_type": "code",
      "source": [],
      "metadata": {
        "id": "-zK-3VPL5OYt"
      },
      "execution_count": null,
      "outputs": []
    },
    {
      "cell_type": "code",
      "source": [
        "os.listdir('Takeout/Mail')"
      ],
      "metadata": {
        "colab": {
          "base_uri": "https://localhost:8080/"
        },
        "id": "933BAxkywvQ0",
        "outputId": "9855d9e5-a90c-4fbd-9f7e-bce262816784"
      },
      "execution_count": null,
      "outputs": [
        {
          "output_type": "execute_result",
          "data": {
            "text/plain": [
              "['User settings', 'All mail Including Spam and Trash.mbox']"
            ]
          },
          "metadata": {},
          "execution_count": 6
        }
      ]
    },
    {
      "cell_type": "code",
      "source": [
        "def extract_body(msg):\n",
        "    if msg.is_multipart():\n",
        "        for part in msg.walk():\n",
        "            content_type = part.get_content_type()\n",
        "            if content_type == \"text/plain\":\n",
        "                return part.get_payload(decode=True).decode('utf-8', errors='ignore')\n",
        "            elif content_type == \"text/html\":\n",
        "                soup = BeautifulSoup(part.get_payload(decode=True), \"html.parser\")\n",
        "                return soup.get_text()\n",
        "    else:\n",
        "        return msg.get_payload(decode=True).decode('utf-8', errors='ignore')\n"
      ],
      "metadata": {
        "id": "-9dG0Opc_Rjc"
      },
      "execution_count": null,
      "outputs": []
    },
    {
      "cell_type": "code",
      "source": [
        "# Specify the path to the .mbox file:\n",
        "mbox_file_path = '/content/drive/MyDrive/Takeout/Takeout/Mail/All mail Including Spam and Trash.mbox'\n",
        "\n",
        "# mbox object:\n",
        "mbox = mailbox.mbox(mbox_file_path)\n",
        "\n",
        "# Iterate through messages:\n",
        "for message in mbox:\n",
        "  #print(message)\n",
        "    # Access message headers and content, and labels\n",
        "    subject = message['subject']\n",
        "    sender = message['from']\n",
        "    x_gmail_labels = message['X-Gmail-Labels']\n",
        "    body = extract_body(message)#.get_payload()\n",
        "    #delivered_to = message['Delivered-To']\n",
        "    #received = message['Received']\n",
        "\n",
        "    # print(f\"Subject: {subject}\")\n",
        "    # print(f\"Sender: {sender}\")\n",
        "    # print(f\"X-Gmail-Labels: {x_gmail_labels}\")\n",
        "    # print(f\"Body: {body[:200]}\")\n",
        "    # #print(f\"Delivered-To: {delivered_to}\")\n",
        "    # #print(f\"Received: {received}\")\n",
        "    # print(\"-\" * 50)  # Separator\n",
        "\n",
        "\n",
        "# X-Gmail-Labels: Archived,Important,Opened,Category personal,We could have\n",
        "# Delivered-To: workwithrubyy@gmail.com\n",
        "# Received: by\n",
        "# Subject: Subject: Content-Type: Mime-Version: Date: Sender: Sender:\n",
        "#  To: From: From: Subject: Subject: Content-Type: Mime-Version: Date:\n",
        "#  Sender: Sender: X-Feedback-Id;\n",
        "# X-Mailgun-Tag: CandidateAutoReply\n",
        "# List-Unsubscribe:\n",
        "# Message-Id:"
      ],
      "metadata": {
        "id": "8Fnzj_Laxwmd"
      },
      "execution_count": null,
      "outputs": []
    },
    {
      "cell_type": "code",
      "source": [
        "# save as csv\n",
        "#output_file = \"/content/drive/MyDrive/Takeout/emails.csv\"\n",
        "\n",
        "# with open(output_file, mode=\"w\", newline=\"\", encoding=\"utf-8\") as f:\n",
        "#     writer = csv.writer(f)\n",
        "#     writer.writerow([\"Subject\", \"Sender\", \"Labels\", \"Body\"])  # Column headers\n",
        "\n",
        "#     for message in mbox:\n",
        "#         subject = message[\"subject\"]\n",
        "#         sender = message[\"from\"]\n",
        "#         x_gmail_labels = message[\"X-Gmail-Labels\"]\n",
        "#         body = extract_body(message)\n",
        "\n",
        "#         writer.writerow([subject, sender, x_gmail_labels, body])\n",
        "\n",
        "# print(f\"Emails saved to {output_file}\")\n"
      ],
      "metadata": {
        "id": "GuX68mDi0uZv"
      },
      "execution_count": null,
      "outputs": []
    },
    {
      "cell_type": "code",
      "source": [
        "#save as json\n",
        "emails = []\n",
        "\n",
        "for message in mbox:\n",
        "    email_data = {\n",
        "        \"subject\": message[\"subject\"],\n",
        "        \"sender\": message[\"from\"],\n",
        "        \"labels\": message[\"X-Gmail-Labels\"],\n",
        "        \"body\": extract_body(message),\n",
        "    }\n",
        "    emails.append(email_data)\n",
        "\n",
        "output_file = \"/content/drive/MyDrive/Takeout/emails.json\"\n",
        "with open(output_file, \"w\", encoding=\"utf-8\") as f:\n",
        "    json.dump(emails, f, indent=4)\n",
        "\n",
        "print(f\"Emails saved to {output_file}\")\n"
      ],
      "metadata": {
        "colab": {
          "base_uri": "https://localhost:8080/"
        },
        "id": "K6hVNh9KA2mj",
        "outputId": "d0c5578b-4b27-42aa-86cb-205e0f7fda84"
      },
      "execution_count": null,
      "outputs": [
        {
          "output_type": "stream",
          "name": "stdout",
          "text": [
            "Emails saved to /content/drive/MyDrive/Takeout/emails.json\n"
          ]
        }
      ]
    },
    {
      "cell_type": "code",
      "source": [
        "# # Filter emails with null or empty subject\n",
        "# filtered_emails = [email for email in emails\n",
        "#                    if email.get(\"subject\") is None or email.get(\"subject\") == \"\"]\n",
        "\n",
        "# # Print the filtered emails (or do something else with them)\n",
        "# for email in filtered_emails:\n",
        "#     print(email)"
      ],
      "metadata": {
        "id": "4THaSIhkL6ee"
      },
      "execution_count": null,
      "outputs": []
    },
    {
      "cell_type": "code",
      "source": [],
      "metadata": {
        "id": "sCUf-Dh6L6Um"
      },
      "execution_count": null,
      "outputs": []
    },
    {
      "cell_type": "code",
      "source": [],
      "metadata": {
        "id": "jcEUZpuyrIJn"
      },
      "execution_count": null,
      "outputs": []
    },
    {
      "cell_type": "markdown",
      "source": [
        "2ND STEP: PREPROCESSING"
      ],
      "metadata": {
        "id": "dMQ3ChCiD3C0"
      }
    },
    {
      "cell_type": "code",
      "source": [
        "def clean_email_text(text):\n",
        "  soup = BeautifulSoup(text, \"html.parser\") # Removes HTML tags\n",
        "  text = soup.get_text()\n",
        "\n",
        "  # Remove signatures and disclaimers using regex\n",
        "  text = re.sub(r'(?i)(\\n?--\\n?.+|Thanks,?.*|Sincerely,?.*|Regards,?.*|Best,?.*|Unsubscribe.*|preferences.*)', '', text, flags=re.DOTALL)\n",
        "  #text = re.sub(r'(?i)(Thanks,|Sincerely,|Regards,|Best,|Unsubscribe,|preferences,).*', '', text) # Common signature patterns\n",
        "  text = re.sub(r'(?i)This email.*confidential.*', '', text, flags=re.DOTALL)  # Disclaimer example\n",
        "\n",
        "  # Remove URLs using regex\n",
        "  text = re.sub(r'http\\S+', '', text)\n",
        "\n",
        "  # Remove extra whitespace and newlines\n",
        "  text = ' '.join(text.split())\n",
        "\n",
        "  #   # Remove HTML tags:\n",
        "  # if \"<\" in text and \">\" in text:  # Check if HTML is likely present\n",
        "  #     soup = BeautifulSoup(text, \"html.parser\")\n",
        "  #     text = soup.get_text()\n",
        "\n",
        "  # Remove non-ASCII characters:\n",
        "  text = text.encode(\"ascii\", \"ignore\").decode(\"ascii\")\n",
        "\n",
        "  # Normalize Unicode characters (e.g., fancy quotes, right-single quote, non-breaking spaces)\n",
        "  text = unicodedata.normalize(\"NFKD\", text)\n",
        "\n",
        "  # Remove or replace emojis (using regex):\n",
        "  text = re.sub(r'[\\U0001F600-\\U0001F64F]', '', text)  # removes all emojis\n",
        "  # Or to remove them entirely:\n",
        "  # text = re.sub(r'[\\U0001F600-\\U0001F64F]', '', text)\n",
        "\n",
        "    # ... (Add more cleaning steps as needed) ...\n",
        "  return text\n",
        "\n",
        "\n",
        "# for email in emails:\n",
        "#     email['body'] = clean_email_text(email['body'])"
      ],
      "metadata": {
        "id": "521JEqZYCpHs"
      },
      "execution_count": null,
      "outputs": []
    },
    {
      "cell_type": "code",
      "source": [
        "#TOKENIZE AND VECTORIZATION\n",
        "#NOTE: Ceell takes up to 15 mins to run, so don't run often\n",
        "\n",
        "# nltk.download('punkt_tab')\n",
        "\n",
        "\n",
        "# for email in emails:\n",
        "#     email[\"cleaned_body\"] = clean_email_text(email[\"body\"])  # Clean the body text\n",
        "#     email[\"tokens\"] = word_tokenize(email[\"cleaned_body\"])  # Tokenize\n",
        "\n",
        "# # Save the updated data with cleaned text and tokens\n",
        "# output_file = \"/content/drive/MyDrive/Takeout/emails_cleaned_tokenized.json\"\n",
        "# with open(output_file, \"w\", encoding=\"utf-8\") as f:\n",
        "#     json.dump(emails, f, indent=4)\n",
        "\n",
        "# print(f\"Cleaned emails saved to {output_file}\")\n",
        "\n",
        "\n",
        "model_name = \"distilbert-base-uncased\"\n",
        "\n",
        "\n",
        "#tokenizer = AutoTokenizer.from_pretrained(\"bert-base-uncased\") #have to chnage to distilbert\n",
        "tokenizer = AutoTokenizer.from_pretrained(model_name)\n",
        "# Load pre-trained tokenizer and model:\n",
        "model = AutoModel.from_pretrained(model_name)  # Use AutoModel for embedding generation\n",
        "\n",
        "\n",
        "# CLEAN TEXT (using function) AND TOKENIZE\n",
        "for email in emails:\n",
        "    email[\"cleaned_body\"] = clean_email_text(email[\"body\"])  # Clean text\n",
        "\n",
        "    # Tokenize using BERT's tokenizer\n",
        "    email[\"encoded\"] = tokenizer(\n",
        "        email[\"cleaned_body\"],\n",
        "        padding=True,\n",
        "        truncation=True,\n",
        "        max_length=512,\n",
        "        return_tensors=\"pt\"\n",
        "    )\n",
        "\n",
        "#VECTORIZE\n",
        "def tvectorize(tokenized_input):\n",
        "  with torch.no_grad(): #saves memory cuz no gradient computation\n",
        "    outputs = model(**tokenized_input)\n",
        "  embeddings = outputs.last_hidden_state[:, 0, :].detach().numpy()  # Get [CLS] token embedding #converts the embedding from a PyTorch tensor to a NumPy array.\n",
        "  return embeddings\n",
        "\n",
        "# Apply:\n",
        "# using BERT to convert the text of each email into a meaningful numerical vector representation (embedding).\n",
        "for email in emails:\n",
        "    email['embeddings'] = tvectorize(email['encoded'])"
      ],
      "metadata": {
        "colab": {
          "base_uri": "https://localhost:8080/",
          "height": 288,
          "referenced_widgets": [
            "4cb1db875775436f86d3dd6036117a48",
            "d424b1c0b4654b81a5c3f14b27769a45",
            "bfc680159cff4361a3361b787792d83f",
            "b2ee3ec7a10344da8003a068a27cf65b",
            "2d2d901a55f747bfa484d4fb1e854830",
            "4826b65a97d9451aa1080ab47cca93bf",
            "ee98ec57191c488096e4f26618806f13",
            "8734531f2361439bb9be2247d3e374a8",
            "68164a55752842c89398d7d366a1ad1f",
            "919ce5d6383d412fbbdeb8fa47773ddd",
            "ec0f7d6cd4a44260b219e06d9c76a6fb",
            "7e69e6d8235144f0ba4ea348b864ae4a",
            "bf2019d22d9f47f08af69dbda0dd243e",
            "44885f3d0b6d44c7be01aca6354996e3",
            "07580c4b8f5e4838a881aabcec39f581",
            "622da74aa16f43979da192cc43afd3e2",
            "31066380d50a4914a124a1cda965af8b",
            "a292bb05b3374886b8712f39c722fbc2",
            "ac8bce20732749fe8869c06be334e87f",
            "f974b8c85d7c4957ac017c3c6c58c506",
            "0f1cf982108d4cce939e11c128610d58",
            "37da5f4eb16d49ce8741edbb4479089b",
            "4a3382a9e3a042ffbb58418ae0918a5d",
            "568e2590bd7c4b40aefc360010cca64f",
            "e3dcbf098a0a430c8d427251e6004a07",
            "d9bae198f26f4a80a9696e56c99ce39d",
            "59036d08df4f4a67872d7873369e0fbb",
            "1fd6df0b96bd4c0695fcfa2fc8bba62a",
            "e2b852fa33064363a92634cc0ca21af6",
            "5530c90fe1204f78a2e6b15490e4d9f4",
            "232d4c6f1d20455f8d00970a89af7560",
            "5048c40c438b40f68ffa4c4060336b25",
            "0e2bed5c345e4383b5b72b710ccb226f",
            "0c7cdfb25c534bd380ff5b5a0d72693e",
            "d202168a44d5443e91172dc26d9ac7d3",
            "cb6a9034fef94e8294c4dd670e00d4d3",
            "617b7d253b174fd9a825aa47156fcb9e",
            "1688bf1c00b047589dee5312fe64d8c4",
            "eb54778f5b6b4962b166fdf14802aaf5",
            "a48ee676f91b4a5382796f7329845e0a",
            "7f8d1fd2d3704e8693cced182c297380",
            "5ad27cb007654357940aae27bb6ec09a",
            "0b2b4f162df3437589022ef7b36654e5",
            "5eef0993b9734358b3d16b84f9f6469d",
            "a1cfb3e5db79472ab89d7537e61c7ab6",
            "f7951c3899d24a7f8321e2a5d6ddbb3b",
            "b9208e60427846a1a470d9bdbb7bf752",
            "3bc2e0422d6748f297237ae0e5e09c34",
            "1756ca9c27c342919c9a1131bab4a288",
            "319d8ea1a7024c5e8b5f3837f4da4613",
            "9a078664ea0a42d9baf87e83d0a26700",
            "9685f8f1157b491f870493f16950e623",
            "4bd95cf2eeae43509e45fc84e9cd7835",
            "46c392bc723a480787117f06b5b67e49",
            "480cde2639be4fa6a5e3ed6762815e24"
          ]
        },
        "id": "VNzhC70KIMvm",
        "outputId": "f048e814-7818-41c5-87bd-351c1fd43cc2"
      },
      "execution_count": null,
      "outputs": [
        {
          "output_type": "stream",
          "name": "stderr",
          "text": [
            "/usr/local/lib/python3.11/dist-packages/huggingface_hub/utils/_auth.py:94: UserWarning: \n",
            "The secret `HF_TOKEN` does not exist in your Colab secrets.\n",
            "To authenticate with the Hugging Face Hub, create a token in your settings tab (https://huggingface.co/settings/tokens), set it as secret in your Google Colab and restart your session.\n",
            "You will be able to reuse this secret in all of your notebooks.\n",
            "Please note that authentication is recommended but still optional to access public models or datasets.\n",
            "  warnings.warn(\n"
          ]
        },
        {
          "output_type": "display_data",
          "data": {
            "text/plain": [
              "tokenizer_config.json:   0%|          | 0.00/48.0 [00:00<?, ?B/s]"
            ],
            "application/vnd.jupyter.widget-view+json": {
              "version_major": 2,
              "version_minor": 0,
              "model_id": "4cb1db875775436f86d3dd6036117a48"
            }
          },
          "metadata": {}
        },
        {
          "output_type": "display_data",
          "data": {
            "text/plain": [
              "config.json:   0%|          | 0.00/483 [00:00<?, ?B/s]"
            ],
            "application/vnd.jupyter.widget-view+json": {
              "version_major": 2,
              "version_minor": 0,
              "model_id": "7e69e6d8235144f0ba4ea348b864ae4a"
            }
          },
          "metadata": {}
        },
        {
          "output_type": "display_data",
          "data": {
            "text/plain": [
              "vocab.txt:   0%|          | 0.00/232k [00:00<?, ?B/s]"
            ],
            "application/vnd.jupyter.widget-view+json": {
              "version_major": 2,
              "version_minor": 0,
              "model_id": "4a3382a9e3a042ffbb58418ae0918a5d"
            }
          },
          "metadata": {}
        },
        {
          "output_type": "display_data",
          "data": {
            "text/plain": [
              "tokenizer.json:   0%|          | 0.00/466k [00:00<?, ?B/s]"
            ],
            "application/vnd.jupyter.widget-view+json": {
              "version_major": 2,
              "version_minor": 0,
              "model_id": "0c7cdfb25c534bd380ff5b5a0d72693e"
            }
          },
          "metadata": {}
        },
        {
          "output_type": "display_data",
          "data": {
            "text/plain": [
              "model.safetensors:   0%|          | 0.00/268M [00:00<?, ?B/s]"
            ],
            "application/vnd.jupyter.widget-view+json": {
              "version_major": 2,
              "version_minor": 0,
              "model_id": "a1cfb3e5db79472ab89d7537e61c7ab6"
            }
          },
          "metadata": {}
        }
      ]
    },
    {
      "cell_type": "code",
      "source": [
        "email[\"cleaned_body\"]"
      ],
      "metadata": {
        "colab": {
          "base_uri": "https://localhost:8080/",
          "height": 73
        },
        "id": "5A-ew0l2L-jG",
        "outputId": "349283a0-21c1-4cd2-80b2-395a07dbde3c"
      },
      "execution_count": null,
      "outputs": [
        {
          "output_type": "execute_result",
          "data": {
            "text/plain": [
              "' CIDER                                                                                                                             workwithrubyy Cider#7445964406748.7{link}  # 1 : 2024/12/7: 361007163414 ()  : 2024/12/12-2024/12/15    Esteem Abuye 9062601351    874-0011Japan   10,400 5,800 6,000 13,200 5,200 5,900 5,800 4,900 customerservice.jp@shopcider.com 20 App store App store App store App store Google Play Google Play Google Play Google Play    CIDER  hi@shopcider.com || Cider (SG) Holding PTE. LTD. 112 ROBINSON ROAD #03-01 ROBINSON 112 SINGAPORE  2024 Cider '"
            ],
            "application/vnd.google.colaboratory.intrinsic+json": {
              "type": "string"
            }
          },
          "metadata": {},
          "execution_count": 12
        }
      ]
    },
    {
      "cell_type": "code",
      "source": [
        "#email[\"encoded\"]"
      ],
      "metadata": {
        "id": "V9v6YmTrvxtM"
      },
      "execution_count": null,
      "outputs": []
    },
    {
      "cell_type": "code",
      "source": [
        "# email['embeddings']"
      ],
      "metadata": {
        "id": "xujkZwnwNzvI"
      },
      "execution_count": null,
      "outputs": []
    },
    {
      "cell_type": "code",
      "source": [
        "# missing_subjects = [email for email in emails if email.get(\"subject\") is None]\n",
        "# print(f\"Number of emails with missing subjects: {len(missing_subjects)}\")\n",
        "\n",
        "# for email in missing_subjects[:5]:  # Show first 5\n",
        "#     print(email)\n",
        "\n"
      ],
      "metadata": {
        "id": "fYeAZATZrXnR"
      },
      "execution_count": null,
      "outputs": []
    },
    {
      "cell_type": "code",
      "source": [],
      "metadata": {
        "id": "iaS9TfpQo8r-"
      },
      "execution_count": null,
      "outputs": []
    },
    {
      "cell_type": "code",
      "source": [],
      "metadata": {
        "id": "OLXdvQcipEaP"
      },
      "execution_count": null,
      "outputs": []
    },
    {
      "cell_type": "code",
      "source": [
        "#defining labels, # make sure to ignore system labels (inbox, starred...)\n",
        "\n",
        "#mapping each email's labels to numbers\n",
        "def assign_label(labels, label_mapping, email):\n",
        "    \"\"\"Assigns a label to an email based on existing labels or content-based logic.\"\"\"\n",
        "\n",
        "    # 1️⃣ Try using predefined labels first\n",
        "    for label in labels.split(\",\"):\n",
        "        label = label.strip()  # Remove spaces or newline characters\n",
        "        if label in label_mapping:\n",
        "            return label_mapping[label]  # Return the first matching label\n",
        "\n",
        "    # 2️⃣ Use subject/body-based logic if no label is found\n",
        "    subject = (email.get(\"subject\") or \"\").lower()\n",
        "    body = (email.get(\"cleaned_body\") or \"\").lower() # Use .get() with a default value\n",
        "\n",
        "\n",
        "    if any(word in subject for word in [\"regret\", \"we regret\", \"declined\", \"not moving forward\"]) or \\\n",
        "       any(word in body for word in [\"regret\", \"pursue other candidates\", \"to move forward\", \"not selected\", \"unsuccessful\", \"unfortunately\"]):\n",
        "        return label_mapping[\"We could have\"]\n",
        "\n",
        "    elif any(word in subject for word in [\"interview\", \"assessment\", \"invitation\", \"schedule\"]) or \\\n",
        "         any(word in body for word in [\"interview\", \"assessment\", \"invitation\", \"schedule\", \"time slot\", \"HR meeting\", \"meeting scheduled\"]):\n",
        "        return label_mapping[\"Interviews\"]\n",
        "\n",
        "    elif \"offer\" in subject or \"offer\" in body:\n",
        "        return label_mapping[\"Offer\"]\n",
        "\n",
        "    elif any(word in subject for word in [\"order confirmation\", \"shipment\", \"your package\", \"envío\", \"order\", \"order status\"]) or \\\n",
        "         any(word in body for word in [\"receipt\", \"pedido\", \"tracking number\", \"order number\", \"tracking\", \"delivery\", \"purchase\", \"refund\", \"order\", \"order status\", \"delivery expected\", \"discount\", \"promo code\", \"order status\", \"return policy\"]):\n",
        "        return label_mapping[\"Shopping\"]\n",
        "\n",
        "    elif any(word in subject for word in [\"invoice\", \"payment due\", \"billing statement\", \"tax\", \"refund\", \"salary\", \"bank statement\"]) or \\\n",
        "         any(word in body for word in [\"payment reminder\", \"amount due\", \"overdue invoice\", \"tax\", \"refund\", \"salary\", \"bank statement\"]):\n",
        "        return label_mapping[\"Finances\"]\n",
        "\n",
        "    elif any(word in subject for word in [\"exam\", \"class schedule\", \"course enrollment\"]) or \\\n",
        "         any(word in body for word in [\"assignment\", \"university\", \"professor\", \"grades\", \"lecture\", \"syllabus\", \"research\", \"homework\", \"enrollment\", \"course\", \"semester\", \"assignment deadline\"]):\n",
        "        return label_mapping[\"School\"]\n",
        "\n",
        "    elif any(word in subject for word in [\"application\", \"thank you\", \"your submission\", \"cover letter\"]) or \\\n",
        "         any(word in body for word in [\"thank you for your application\", \"application\", \"we received your application\", \"cover letter\", \"resume submitted\", \"position applied\"]):\n",
        "        return label_mapping[\"Applications\"]\n",
        "\n",
        "    elif any(word in subject for word in [\"newsletter\", \"subscribe\", \"weekly update\", \"product update\", \"new feature\", \"community news\"]) or \\\n",
        "         any(word in body for word in [\"unsubscribe\", \"manage preferences\", \"stay informed\", \"product update\", \"new feature\", \"community news\"]):\n",
        "        return label_mapping[\"Updates\"]\n",
        "\n",
        "    return label_mapping.get(\"Other\", -1)  # If no match is found, default to 'Other'\n",
        "\n",
        "#define label mappings\n",
        "label_mapping = {\n",
        "    \"Shopping\": 0,\n",
        "    \"Updates\": 1,\n",
        "    \"School\": 2,\n",
        "    \"We could have\": 3,\n",
        "    \"Socials\": 4,\n",
        "    \"Forums\": 5,\n",
        "    \"Promotions\": 6,\n",
        "    \"Interviews\": 7,\n",
        "    \"Offer\": 8,\n",
        "    \"Finances\": 9,\n",
        "    \"Applications\": 10,\n",
        "    \"Other\": 11\n",
        "}\n",
        "\n",
        "# Apply to each email:\n",
        "for email in emails:\n",
        "    email[\"numeric_label\"] = assign_label(email[\"labels\"], label_mapping, email)\n"
      ],
      "metadata": {
        "id": "1fHuKrKMuYpm"
      },
      "execution_count": null,
      "outputs": []
    },
    {
      "cell_type": "code",
      "source": [],
      "metadata": {
        "id": "qfvk1Edque6V"
      },
      "execution_count": null,
      "outputs": []
    },
    {
      "cell_type": "markdown",
      "source": [
        "**FINE TUNE A SMALL TRANSFORMER MODEL**\n",
        " - Choose model\n",
        " - train it on required tasks\n",
        " - evaluation and finetuning (tweaking)\n",
        "\n",
        "MODEL REQUIREMENTS:\n",
        "- One that's fast and efficient,\n",
        "- capable of sequence classification,\n",
        "- can be fine-tuned for email replies and few-shot learning, and\n",
        "- is suitable for summarizing long email threads."
      ],
      "metadata": {
        "id": "ysVdNo1swjR1"
      }
    },
    {
      "cell_type": "code",
      "source": [],
      "metadata": {
        "id": "U_iCqZHs2zVv"
      },
      "execution_count": null,
      "outputs": []
    },
    {
      "cell_type": "markdown",
      "source": [
        "**choices**:\n",
        "\n",
        "- DistilBERT: retains much of BERT's performance on various tasks, including sequence classification\n",
        "BUT may not be the absoulte best for very long sequences or complicated tasks\n",
        "\n",
        "- longformer: can handle much longer sequences than traditional transformers, making it potentially well-suited for long email threads and summarization tasks\n",
        "BUT needs more computational resources\n",
        "\n",
        "\n",
        "Due to our computational resources, we're going with DistilBERT\n"
      ],
      "metadata": {
        "id": "zizMwooH20lp"
      }
    },
    {
      "cell_type": "code",
      "source": [],
      "metadata": {
        "id": "1k0ogLKp027N"
      },
      "execution_count": null,
      "outputs": []
    },
    {
      "cell_type": "code",
      "source": [
        "model = AutoModelForSequenceClassification.from_pretrained(model_name, num_labels=len(label_mapping))"
      ],
      "metadata": {
        "id": "EPaea8dL2CSK",
        "colab": {
          "base_uri": "https://localhost:8080/"
        },
        "outputId": "c010c5a7-4c43-4947-8e9e-d2ebd7135170"
      },
      "execution_count": null,
      "outputs": [
        {
          "output_type": "stream",
          "name": "stderr",
          "text": [
            "Some weights of DistilBertForSequenceClassification were not initialized from the model checkpoint at distilbert-base-uncased and are newly initialized: ['classifier.bias', 'classifier.weight', 'pre_classifier.bias', 'pre_classifier.weight']\n",
            "You should probably TRAIN this model on a down-stream task to be able to use it for predictions and inference.\n"
          ]
        }
      ]
    },
    {
      "cell_type": "code",
      "source": [
        "class EmailDataset(Dataset):\n",
        "  def __init__(self, emails, tokenizer, label_mapping):\n",
        "    self.emails = emails\n",
        "    self.tokenizer = tokenizer\n",
        "    self.label_mapping = label_mapping\n",
        "\n",
        "  def __len__(self):\n",
        "    return len(self.emails)\n",
        "\n",
        "  def __getitem__(self, idx):\n",
        "    email = self.emails[idx]\n",
        "    text = email[\"cleaned_body\"]\n",
        "    label = email[\"numeric_label\"]\n",
        "\n",
        "    encoded_input = self.tokenizer(text, padding=\"max_length\", truncation=True, return_tensors=\"pt\")\n",
        "    #return{**encoded_input, \"labels\": torch.tensor(label, dtype=torch.long)}\n",
        "    return {\"input_ids\": encoded_input[\"input_ids\"].squeeze(0), \"attention_mask\": encoded_input[\"attention_mask\"].squeeze(0), \"labels\": torch.tensor(label, dtype=torch.long)}\n",
        "\n"
      ],
      "metadata": {
        "id": "x4OZoAHk9RSo"
      },
      "execution_count": null,
      "outputs": []
    },
    {
      "cell_type": "code",
      "source": [],
      "metadata": {
        "id": "CLb3UF5pKGAI"
      },
      "execution_count": null,
      "outputs": []
    },
    {
      "cell_type": "code",
      "source": [
        "# Prepare dataset\n",
        "dataset = EmailDataset(emails, tokenizer, label_mapping)  # Create the dataset\n",
        "\n",
        "# Split into train and validation sets\n",
        "train_dataset, val_dataset = train_test_split(dataset, test_size=0.3, random_state=42)\n",
        "\n",
        "# Training arguments\n",
        "training_args = TrainingArguments(\n",
        "    output_dir=\"./email_model\",\n",
        "    evaluation_strategy=\"epoch\",\n",
        "    save_strategy=\"epoch\",\n",
        "    learning_rate=3e-5, #try 3e-5 (slightly higher) or 1e-5 (slightly lower).\n",
        "    per_device_train_batch_size=8, #if run out of memory, do 8 instead\n",
        "    per_device_eval_batch_size=16,\n",
        "    num_train_epochs=5, #or 5. try 5 later\n",
        "    weight_decay=0.01, #can increase to 0.05\n",
        "    fp16=True,\n",
        "    report_to=\"none\",  # Disable wandb logging as I don't want to use it\n",
        "    logging_dir='./logs',            # directory for storing logs\n",
        "    logging_strategy='steps',       # log for every global_step\n",
        "    logging_steps=10\n",
        ")\n",
        "\n",
        "# Initialize trainer\n",
        "trainer = Trainer(\n",
        "    model=model,\n",
        "    args=training_args,\n",
        "    train_dataset=train_dataset,  # Train data\n",
        "    eval_dataset=val_dataset  # Validation data\n",
        ")\n",
        "\n",
        "trainer.train()\n",
        "#trainer.train(resume_from_checkpoint=True)\n"
      ],
      "metadata": {
        "colab": {
          "base_uri": "https://localhost:8080/",
          "height": 447
        },
        "id": "W0sSzoZQJi-i",
        "outputId": "d976590e-86f3-45ea-e23d-7e2110b50822"
      },
      "execution_count": null,
      "outputs": [
        {
          "metadata": {
            "tags": null
          },
          "name": "stderr",
          "output_type": "stream",
          "text": [
            "/usr/local/lib/python3.11/dist-packages/transformers/training_args.py:1611: FutureWarning: `evaluation_strategy` is deprecated and will be removed in version 4.46 of 🤗 Transformers. Use `eval_strategy` instead\n",
            "  warnings.warn(\n"
          ]
        },
        {
          "data": {
            "text/html": [
              "\n",
              "    <div>\n",
              "      \n",
              "      <progress value='146' max='305' style='width:300px; height:20px; vertical-align: middle;'></progress>\n",
              "      [146/305 1:16:27 < 1:24:25, 0.03 it/s, Epoch 2.38/5]\n",
              "    </div>\n",
              "    <table border=\"1\" class=\"dataframe\">\n",
              "  <thead>\n",
              " <tr style=\"text-align: left;\">\n",
              "      <th>Epoch</th>\n",
              "      <th>Training Loss</th>\n",
              "      <th>Validation Loss</th>\n",
              "    </tr>\n",
              "  </thead>\n",
              "  <tbody>\n",
              "    <tr>\n",
              "      <td>1</td>\n",
              "      <td>1.430900</td>\n",
              "      <td>1.497686</td>\n",
              "    </tr>\n",
              "    <tr>\n",
              "      <td>2</td>\n",
              "      <td>1.208200</td>\n",
              "      <td>1.242412</td>\n",
              "    </tr>\n",
              "  </tbody>\n",
              "</table><p>"
            ],
            "text/plain": [
              "<IPython.core.display.HTML object>"
            ]
          },
          "metadata": {},
          "output_type": "display_data"
        },
        {
          "output_type": "display_data",
          "data": {
            "text/plain": [
              "<IPython.core.display.HTML object>"
            ],
            "text/html": [
              "\n",
              "    <div>\n",
              "      \n",
              "      <progress value='305' max='305' style='width:300px; height:20px; vertical-align: middle;'></progress>\n",
              "      [305/305 2:39:49, Epoch 5/5]\n",
              "    </div>\n",
              "    <table border=\"1\" class=\"dataframe\">\n",
              "  <thead>\n",
              " <tr style=\"text-align: left;\">\n",
              "      <th>Epoch</th>\n",
              "      <th>Training Loss</th>\n",
              "      <th>Validation Loss</th>\n",
              "    </tr>\n",
              "  </thead>\n",
              "  <tbody>\n",
              "    <tr>\n",
              "      <td>1</td>\n",
              "      <td>1.430900</td>\n",
              "      <td>1.497686</td>\n",
              "    </tr>\n",
              "    <tr>\n",
              "      <td>2</td>\n",
              "      <td>1.208200</td>\n",
              "      <td>1.242412</td>\n",
              "    </tr>\n",
              "    <tr>\n",
              "      <td>3</td>\n",
              "      <td>0.858300</td>\n",
              "      <td>1.151108</td>\n",
              "    </tr>\n",
              "    <tr>\n",
              "      <td>4</td>\n",
              "      <td>0.847000</td>\n",
              "      <td>1.116218</td>\n",
              "    </tr>\n",
              "    <tr>\n",
              "      <td>5</td>\n",
              "      <td>0.528800</td>\n",
              "      <td>1.101836</td>\n",
              "    </tr>\n",
              "  </tbody>\n",
              "</table><p>"
            ]
          },
          "metadata": {}
        },
        {
          "output_type": "execute_result",
          "data": {
            "text/plain": [
              "TrainOutput(global_step=305, training_loss=1.084147961413274, metrics={'train_runtime': 9627.7795, 'train_samples_per_second': 0.253, 'train_steps_per_second': 0.032, 'total_flos': 322615639388160.0, 'train_loss': 1.084147961413274, 'epoch': 5.0})"
            ]
          },
          "metadata": {},
          "execution_count": 18
        }
      ]
    },
    {
      "cell_type": "code",
      "source": [
        "trainer.evaluate()"
      ],
      "metadata": {
        "colab": {
          "base_uri": "https://localhost:8080/",
          "height": 129
        },
        "id": "khKoZxjfMfjz",
        "outputId": "1efdd5c2-2768-465a-acc5-99fa56a7237c"
      },
      "execution_count": null,
      "outputs": [
        {
          "output_type": "display_data",
          "data": {
            "text/plain": [
              "<IPython.core.display.HTML object>"
            ],
            "text/html": [
              "\n",
              "    <div>\n",
              "      \n",
              "      <progress value='14' max='14' style='width:300px; height:20px; vertical-align: middle;'></progress>\n",
              "      [14/14 02:56]\n",
              "    </div>\n",
              "    "
            ]
          },
          "metadata": {}
        },
        {
          "output_type": "execute_result",
          "data": {
            "text/plain": [
              "{'eval_loss': 1.101836085319519,\n",
              " 'eval_runtime': 194.3467,\n",
              " 'eval_samples_per_second': 1.081,\n",
              " 'eval_steps_per_second': 0.072,\n",
              " 'epoch': 5.0}"
            ]
          },
          "metadata": {},
          "execution_count": 19
        }
      ]
    },
    {
      "cell_type": "code",
      "source": [],
      "metadata": {
        "id": "G_75m9d5Mhqd"
      },
      "execution_count": null,
      "outputs": []
    },
    {
      "cell_type": "code",
      "source": [
        "#evaluate model\n",
        "from sklearn.metrics import accuracy_score, precision_recall_fscore_support\n",
        "\n",
        "def compute_metrics(pred):\n",
        "    labels = pred.label_ids\n",
        "    preds = pred.predictions.argmax(-1)\n",
        "    precision, recall, f1, _ = precision_recall_fscore_support(labels, preds, average='weighted')\n",
        "    acc = accuracy_score(labels, preds)\n",
        "    return {\"accuracy\": acc, \"precision\": precision, \"recall\": recall, \"f1\": f1}\n",
        "\n",
        "trainer.compute_metrics = compute_metrics\n",
        "trainer.evaluate()\n"
      ],
      "metadata": {
        "colab": {
          "base_uri": "https://localhost:8080/",
          "height": 260
        },
        "id": "4gTf6SwdF5Tx",
        "outputId": "655072e9-05d6-4c6b-f84a-041c0c84d2fe"
      },
      "execution_count": null,
      "outputs": [
        {
          "output_type": "display_data",
          "data": {
            "text/plain": [
              "<IPython.core.display.HTML object>"
            ],
            "text/html": [
              "\n",
              "    <div>\n",
              "      \n",
              "      <progress value='28' max='14' style='width:300px; height:20px; vertical-align: middle;'></progress>\n",
              "      [14/14 17:46]\n",
              "    </div>\n",
              "    "
            ]
          },
          "metadata": {}
        },
        {
          "output_type": "stream",
          "name": "stderr",
          "text": [
            "/usr/local/lib/python3.11/dist-packages/sklearn/metrics/_classification.py:1565: UndefinedMetricWarning: Precision is ill-defined and being set to 0.0 in labels with no predicted samples. Use `zero_division` parameter to control this behavior.\n",
            "  _warn_prf(average, modifier, f\"{metric.capitalize()} is\", len(result))\n"
          ]
        },
        {
          "output_type": "execute_result",
          "data": {
            "text/plain": [
              "{'eval_loss': 1.101836085319519,\n",
              " 'eval_accuracy': 0.6619047619047619,\n",
              " 'eval_precision': 0.6195770895770896,\n",
              " 'eval_recall': 0.6619047619047619,\n",
              " 'eval_f1': 0.6250918161613804,\n",
              " 'eval_runtime': 242.6898,\n",
              " 'eval_samples_per_second': 0.865,\n",
              " 'eval_steps_per_second': 0.058,\n",
              " 'epoch': 5.0}"
            ]
          },
          "metadata": {},
          "execution_count": 20
        }
      ]
    },
    {
      "cell_type": "code",
      "source": [
        "#test predictions\n",
        "def classify_email(text):\n",
        "    inputs = tokenizer(text, return_tensors=\"pt\", truncation=True, max_length=512)\n",
        "    outputs = model(**inputs)\n",
        "    predicted_label = outputs.logits.argmax(-1).item()\n",
        "    return predicted_label\n",
        "\n",
        "new_email = \"you just got admission into the university, congratulations!\"\n",
        "print(classify_email(new_email))  # See predicted label\n"
      ],
      "metadata": {
        "colab": {
          "base_uri": "https://localhost:8080/"
        },
        "id": "9Sjc5dxRF62D",
        "outputId": "1ab7567a-1d3b-4570-f2ad-4dc7c1487949"
      },
      "execution_count": null,
      "outputs": [
        {
          "output_type": "stream",
          "name": "stdout",
          "text": [
            "11\n"
          ]
        }
      ]
    },
    {
      "cell_type": "code",
      "source": [
        "import numpy as np\n",
        "from sklearn.metrics import classification_report\n",
        "\n",
        "predictions, labels, _ = trainer.predict(val_dataset)\n",
        "preds = np.argmax(predictions, axis=1)\n",
        "print(classification_report(labels, preds))\n"
      ],
      "metadata": {
        "colab": {
          "base_uri": "https://localhost:8080/",
          "height": 461
        },
        "id": "61mtQpkMh5u7",
        "outputId": "ae74fa00-2168-4c6b-b79f-afc7eee992fe"
      },
      "execution_count": null,
      "outputs": [
        {
          "output_type": "display_data",
          "data": {
            "text/plain": [
              "<IPython.core.display.HTML object>"
            ],
            "text/html": []
          },
          "metadata": {}
        },
        {
          "output_type": "stream",
          "name": "stderr",
          "text": [
            "/usr/local/lib/python3.11/dist-packages/sklearn/metrics/_classification.py:1565: UndefinedMetricWarning: Precision is ill-defined and being set to 0.0 in labels with no predicted samples. Use `zero_division` parameter to control this behavior.\n",
            "  _warn_prf(average, modifier, f\"{metric.capitalize()} is\", len(result))\n"
          ]
        },
        {
          "output_type": "stream",
          "name": "stdout",
          "text": [
            "              precision    recall  f1-score   support\n",
            "\n",
            "           0       1.00      0.12      0.22         8\n",
            "           2       0.00      0.00      0.00        16\n",
            "           3       0.58      0.67      0.62        21\n",
            "           7       0.57      0.68      0.62        37\n",
            "           8       0.33      0.25      0.29         4\n",
            "           9       0.00      0.00      0.00         1\n",
            "          10       0.65      0.75      0.70        52\n",
            "          11       0.76      0.83      0.79        71\n",
            "\n",
            "    accuracy                           0.66       210\n",
            "   macro avg       0.49      0.41      0.40       210\n",
            "weighted avg       0.62      0.66      0.63       210\n",
            "\n"
          ]
        },
        {
          "output_type": "stream",
          "name": "stderr",
          "text": [
            "/usr/local/lib/python3.11/dist-packages/sklearn/metrics/_classification.py:1565: UndefinedMetricWarning: Precision is ill-defined and being set to 0.0 in labels with no predicted samples. Use `zero_division` parameter to control this behavior.\n",
            "  _warn_prf(average, modifier, f\"{metric.capitalize()} is\", len(result))\n",
            "/usr/local/lib/python3.11/dist-packages/sklearn/metrics/_classification.py:1565: UndefinedMetricWarning: Precision is ill-defined and being set to 0.0 in labels with no predicted samples. Use `zero_division` parameter to control this behavior.\n",
            "  _warn_prf(average, modifier, f\"{metric.capitalize()} is\", len(result))\n",
            "/usr/local/lib/python3.11/dist-packages/sklearn/metrics/_classification.py:1565: UndefinedMetricWarning: Precision is ill-defined and being set to 0.0 in labels with no predicted samples. Use `zero_division` parameter to control this behavior.\n",
            "  _warn_prf(average, modifier, f\"{metric.capitalize()} is\", len(result))\n"
          ]
        }
      ]
    },
    {
      "cell_type": "code",
      "source": [
        "label_mapping = {\n",
        "    \"Shopping\": 0,\n",
        "    \"Updates\": 1,\n",
        "    \"School\": 2,\n",
        "    \"We could have\": 3,\n",
        "    \"Socials\": 4,\n",
        "    \"Forums\": 5,\n",
        "    \"Promotions\": 6,\n",
        "    \"Interviews\": 7,\n",
        "    \"Offer\": 8,\n",
        "    \"Finances\": 9,\n",
        "    \"Applications\": 10,\n",
        "    \"Other\": 11\n",
        "}"
      ],
      "metadata": {
        "id": "TwQoAMM7Q5fw"
      },
      "execution_count": null,
      "outputs": []
    },
    {
      "cell_type": "code",
      "source": [],
      "metadata": {
        "id": "-xiXNzrBi7fV"
      },
      "execution_count": null,
      "outputs": []
    },
    {
      "cell_type": "code",
      "source": [],
      "metadata": {
        "id": "BpdzHhRmiuXV"
      },
      "execution_count": null,
      "outputs": []
    },
    {
      "cell_type": "code",
      "source": [
        "Extractive Summarization vs. Abstractive\n",
        "Now that  classification model is trained, summarization is a separate task.\n",
        "\n",
        "- Extractive Summarization: Picks the most important sentences from the email.\n",
        "\n",
        "- Abstractive Summarization: Generates a completely new summary.\n",
        "\n",
        "can use extractive summarization because:\n",
        " - It's computationally cheaper.\n",
        " - More reliable for emails (e.g., extracting key points from long messages)."
      ],
      "metadata": {
        "id": "jioH_0bBQ5jV"
      },
      "execution_count": null,
      "outputs": []
    },
    {
      "cell_type": "code",
      "source": [],
      "metadata": {
        "id": "mO-clRHEitTE"
      },
      "execution_count": null,
      "outputs": []
    },
    {
      "cell_type": "code",
      "source": [
        "email_text = \"\"\"How's 2025 treating you - like a VIP\\r\\n(totally on point)? Or are you already feeling the January vibe after\\r\\na Detty December? (I'm sure you gerrit) \\r\\n\\r\\n_WELL, JANUARY MIGHT FEEL LIKE IT HAS 100 DAYS, BUT DON\\u2019T WORRY,\\r\\nWITH ME, YOU WON\\u2019T EVEN NOTICE THE CLOCK TICKING \\ud83d\\ude01\\ud83d\\ude01! _\\r\\n\\r\\nTo make it even spicier, this 2025, connect with your fellow stock\\r\\ninvestors, steal\\u2026 sorry,\\ud83e\\udd23\\ud83e\\udd23 learn from their wins and losses,\\r\\nand drop your own market gist like the investment guru you are. \\r\\n\\r\\n_LET\\u2019S MAKE THOSE NAIRA (AND DOLLARS) WORK HARDER THAN WE DO!\\u00a0_ \\r\\n\\r\\nLet\\u2019s dive right into the business of today!\\r\\n\\r\\n \\t\\t 20 Years?! Quantum Computing's Shocking Truth \\r\\n\\r\\nLast year, quantum computing stocks were a thing but this new year,\\r\\nsomeone But this year? Someone just slammed the brakes on the train,\\r\\nand let\\u2019s just say\\u2026_IT WASN\\u2019T CUTE. \\ud83d\\ude2c_\\r\\n\\r\\nBefore I continue with the gist lemme tell you a little bit about the\\r\\nQuantum computing stocks. Basically, they are shares of companies\\r\\ndeveloping and investing in quantum computing technology. This\\r\\nemerging field uses quantum-mechanical phenomena to perform\\r\\ncalculations exponentially faster than classical computers. Companies\\r\\nlike Rigetti Computing ($RGTI), IonQ ($IONQ), and D-Wave Quantum\\r\\n($QBTS) are leading players in this space, attracting investors eager\\r\\nto capitalize on the potential breakthroughs.\\r\\n\\r\\n_BUT THEN THIS WEEK, JENSEN HUANG HAPPENED!!_ \\r\\n\\r\\nYep! Tech legend and Nvidia CEO Jensen Huang decided to casually pop\\r\\nthe bubble, telling analysts that \\u201cvery useful quantum computers\\u201d\\r\\nare still 20 years away. Yes, TWENTY. Not five. Not ten. Twenty\\r\\nyears!!!!. \\ud83e\\udee0 \\r\\n\\r\\nThe Street, of course, did not like the sound of that and of course\\r\\nyou know what follows next\\u2026 _A DIP!!!_ Rigetti Computing saw its\\r\\nstock drop by 45%, IonQ fell off the cliff by 39%, D-Wave Quantum went\\r\\ndown by 36%, and Quantum Computing took a hit at 43%.\\r\\n\\r\\nWhat a heartbreak.\\ud83d\\udc94 \\r\\n\\r\\n(... rest of your email content ...)\"\"\"\n",
        "\n",
        "# ... (your summarization code) ...\n",
        "\n",
        "parser = PlaintextParser.from_string(email_text, Tokenizer(\"english\")) # Pass email_text here\n",
        "# ... (rest of your summarization code) ..."
      ],
      "metadata": {
        "id": "ElqmRFI4l15s"
      },
      "execution_count": null,
      "outputs": []
    },
    {
      "cell_type": "code",
      "source": [
        "a_text= \"\"\" Meta came with $800 million in hand, thinking it could do what it always does: buy a South Korean AI chip startup, absorb it, and move on. But guess what? The company straight-up said, “Nah, we’re good.\" Who rejects $800 million just like that?!\n",
        "\n",
        "Whoa! FuriosaAI didn’t even flinch. Not a “let’s negotiate” or “make it $1 billion, and we’ll think about it.”\n",
        "\n",
        "Uncle Mark got a cold, hard NO. I’m not saying I enjoy billionaire heartbreak, but this one? Took me OUT 🤣🤣. Because… when was the last time Uncle Mark didn’t get what he wanted? This man bought Instagram, snatched WhatsApp before anyone could blink and casually picked up Oculus. But FuriosaAI? Oh! They rejected his $800M. Ooops!\n",
        "\n",
        "FuriosaAI is a small but mighty AI chip company, and Meta wanted them to boost its AI game. But these guys are playing the long game. They’d rather build their empire than become another Meta-owned brand. They’re not here to be part of Uncle Mark’s shopping cart. They want full control over their future.\n",
        "\n",
        "Meanwhile, Uncle Mark is still on his AI buy-a-thon, pouring $65 billion into AI because he’s tired of depending on Nvidia. But this particular deal? It’s Dead on Arrival.\n",
        "\n",
        "FuriosaAI is choosing the long road, betting on itself instead of taking an easy exit. Dollar Tree Just Sold a Whole Business for $1B… After Buying It for $9B\n",
        "You know Dollar Tree, right? That big American discount store where everything is supposed to be cheap? Well, they just sold off their Family Dollar chain for $1 billion after buying it for $9 billion back in 2015.\n",
        "\n",
        "Imagine buying something for 9,000 naira and selling it years later for 1,000 naira. Omo, this one is paining me on their behalf. A whole $8 billion loss. But funny enough, investors are actually CELEBRATING..Why? Because Family Dollar was that one friend who keeps borrowing money but never pays it back. (You know the type. If you don’t, you might BE the type. 👀)\n",
        "Family Dollar wasn’t just struggling; it was fighting for its life against big players like Walmart, Amazon, Shein, and Temu.\n",
        "\n",
        "Inflation also made things worse because people stopped spending on things like home decor and clothes, which are exactly the products Family Dollar needed to make real money.\n",
        "\n",
        "\n",
        "Dollar Tree had been trying to offload this liability for nearly a year, and now they’ve finally found some private investors to take it off their hands.\n",
        "\n",
        "The moment Dollar Tree cut off the dead weight, its stock price jumped 6% like a toxic ex finally leaving the group chat. But that’s not the end of their troubles... They still have wahala ahead. Yes!\n",
        "\n",
        "With rising costs from global supply chain issues and new trade policies making imports more expensive, Dollar Tree is about to start bleeding an extra $20 million per month in costs, which means it's going to cost them $20 million per month to do business. 👀\n",
        "Trump’s Tariff Saga Continues Another day, another tariff! This time, foreign automakers in the US are in the hot seat!\n",
        "\n",
        "Yep, Trump just announced a 25% tariff on foreign-made cars and auto parts, and you know what? This is just the beginning because on April 2 (the new date for Liberation Day), more tariffs will hit imported goods from major U.S. trading partners.\n",
        "\n",
        "And no, this isn’t some April Fool’s prank. Trump deliberately set the date for April 2 to avoid any confusion. Companies importing vehicles from Mexico and Canada under the USMCA (United States-Mexico-Canada Agreement) won’t immediately face the 25% tariff that Trump is imposing on foreign-made cars and auto parts.\n",
        "\n",
        "Instead, they will receive \"special consideration\" (likely exemptions or delays) until the U.S. Commerce Department creates a formal process for applying these tariffs.\n",
        "\n",
        "This move is part of Trump's strategy to push companies to manufacture more products within the U.S. instead of relying on imports. This announcement isn’t sitting so well with automakers across all nations, and some are saying this could backfire, making cars more expensive and leading to job losses instead of job creation.\n",
        "\n",
        "What do you think?? I would like to hear your thoughts on Trove Social.\n",
        "Waymo’s Next Stop is Washington, D.C. Waymo has been rolling out its robotaxis in different parts of the US, and now they’re bringing their robot taxis to Washington, D.C., America’s capital city.\n",
        "\n",
        "But before you start dreaming of hopping into a car with no driver, calm down first.\n",
        " \"\"\""
      ],
      "metadata": {
        "id": "SaOulpaBks0K"
      },
      "execution_count": null,
      "outputs": []
    },
    {
      "cell_type": "code",
      "source": [
        "text= \"\"\" Meta came with $800 million in hand, thinking it could do what it always does: buy a South Korean AI chip startup, absorb it, and move on. But guess\n",
        "what? The company straight-up said, “Nah, we’re good.\" Who rejects $800 million just like that?!  Whoa! FuriosaAI didn’t even flinch. Not a “let’s negotiate” or\n",
        "“make it $1 billion, and we’ll think about it.” Uncle Mark got a cold, hard NO. I’m not saying I enjoy billionaire heartbreak, but this one? Took me OUT.\n",
        "Because… when was the last time Uncle Mark didn’t get what he wanted? This man bought Instagram, snatched WhatsApp before anyone could blink and casually picked\n",
        "up Oculus. But FuriosaAI? Oh! They rejected his $800M. Ooops! FuriosaAI is a small but mighty AI chip company, and Meta wanted them to boost its AI game. But\n",
        "these guys are playing the long game. They’d rather build their empire than become another Meta-owned brand. They’re not here to be part of Uncle Mark’s shopping\n",
        "cart. They want full control over their future. Meanwhile, Uncle Mark is still on his AI buy-a-thon, pouring $65 billion into AI because he’s tired of\n",
        "depending on Nvidia. But this particular deal? It’s Dead on Arrival. FuriosaAI is choosing the long road, betting on itself instead of taking an easy exit.\n",
        "Dollar Tree Just Sold a Whole Business for $1B… After Buying It for $9B You know Dollar Tree, right? That big American discount store where everything is\n",
        "supposed to be cheap? Well, they just sold off their Family Dollar chain for $1 billion after buying it for $9 billion back in 2015.\n",
        "\n",
        "Imagine buying something for 9,000 naira and selling it years later for 1,000 naira. Omo, this one is paining me on their behalf. A whole $8 billion loss. But\n",
        "funny enough, investors are actually CELEBRATING..Why? Because Family Dollar was that one friend who keeps borrowing money but never pays it back. (You know the\n",
        "type. If you don’t, you might BE the type.) Family Dollar wasn’t just struggling; it was fighting for its life against big players like Walmart, Amazon, Shein,\n",
        "and Temu.\n",
        "\n",
        "Inflation also made things worse because people stopped spending on things like home decor and clothes, which are exactly the products Family Dollar needed to\n",
        "make real money. Dollar Tree had been trying to offload this liability for nearly a year, and now they’ve finally found some private investors to take it off\n",
        "their hands.  The moment Dollar Tree cut off the dead weight, its stock price jumped 6% like a toxic ex finally leaving the group chat. But that’s not the end\n",
        "of their troubles... They still have wahala ahead. Yes! With rising costs from global supply chain issues and new trade policies making imports more expensive,\n",
        "Dollar Tree is about to start bleeding an extra $20 million per month in costs, which means it's going to cost them $20 million per month to do business.\n",
        "Trump’s Tariff Saga Continues Another day, another tariff! This time, foreign automakers in the US are in the hot seat!  Yep, Trump just announced a 25% tariff\n",
        "on foreign-made cars and auto parts, and you know what? This is just the beginning because on April 2 (the new date for Liberation Day), more tariffs will hit\n",
        "imported goods from major U.S. trading partners. And no, this isn’t some April Fool’s prank. Trump deliberately set the date for April 2 to avoid any confusion.\n",
        "Companies importing vehicles from Mexico and Canada under the USMCA (United States-Mexico-Canada Agreement) won’t immediately face the 25% tariff that Trump is\n",
        "imposing on foreign-made cars and auto parts. Instead, they will receive \"special consideration\" (likely exemptions or delays) until the U.S. Commerce\n",
        "Department creates a formal process for applying these tariffs. This move is part of Trump's strategy to push companies to manufacture more products within the\n",
        "U.S. instead of relying on imports. This announcement isn’t sitting so well with automakers across all nations, and some are saying this could backfire, making\n",
        "cars more expensive and leading to job losses instead of job creation. What do you think?? I would like to hear your thoughts on Trove Social.\n",
        "Waymo’s Next Stop is Washington, D.C. Waymo has been rolling out its robotaxis in different parts of the US, and now they’re bringing their robot taxis to\n",
        "Washington, D.C., America’s capital city. But before you start dreaming of hopping into a car with no driver, calm down first. For now, the taxis will still\n",
        "have a safety driver sitting behind the wheel, just in case something goes wrong. The government has rules that don’t allow fully driverless taxis yet, so\n",
        "they’re still in the testing phase, mapping the roads and learning the city's layout.  If all goes well, by next year, people in Washington will be able to order\n",
        "a driverless taxi through the Waymo app; no driver to speak with, no steering, just pure tech magic. Waymo is already operating in Phoenix, Los Angeles, San\n",
        "Francisco, and Austin, where they even partnered with Uber. Now, they’re expanding to Miami and Washington next year, and they also plan to launch in Atlanta\n",
        "later this year.\n",
        "\n",
        " \"\"\""
      ],
      "metadata": {
        "id": "Yc0YyVzIv-s3"
      },
      "execution_count": null,
      "outputs": []
    },
    {
      "cell_type": "code",
      "source": [
        "#extractive summarization\n",
        "from sumy.parsers.plaintext import PlaintextParser\n",
        "from sumy.nlp.tokenizers import Tokenizer\n",
        "from sumy.summarizers.lsa import LsaSummarizer\n",
        "\n",
        "parser = PlaintextParser.from_string(text, Tokenizer(\"english\"))\n",
        "summarizer = LsaSummarizer()\n",
        "summary = summarizer(parser.document, 3)  # Extract top 3 sentences\n",
        "\n",
        "for sent in summary:\n",
        "    print(sent)\n",
        "#print(\" \".join(str(sent) for sent in summary))\n"
      ],
      "metadata": {
        "colab": {
          "base_uri": "https://localhost:8080/"
        },
        "id": "GUYrkskFi1_n",
        "outputId": "5a4bd11b-2235-4d3f-803c-8fdca12483db"
      },
      "execution_count": null,
      "outputs": [
        {
          "output_type": "stream",
          "name": "stdout",
          "text": [
            "Family Dollar wasn’t just struggling; it was fighting for its life against big players like Walmart, Amazon, Shein, and Temu.\n",
            "Instead, they will receive \"special consideration\" (likely exemptions or delays) until the U.S. Commerce Department creates a formal process for applying these tariffs.\n",
            "Waymo is already operating in Phoenix, Los Angeles, San Francisco, and Austin, where they even partnered with Uber.\n"
          ]
        }
      ]
    },
    {
      "cell_type": "code",
      "source": [
        "SUMMARIZATION WORKS 60% WELL\n",
        "\n",
        "CLASSIFICATION-- NOT SO GOOD"
      ],
      "metadata": {
        "id": "BpQSLgzEl_bm"
      },
      "execution_count": null,
      "outputs": []
    },
    {
      "cell_type": "code",
      "source": [
        "#abstractive summarization\n",
        "\n",
        "from transformers import T5ForConditionalGeneration, T5Tokenizer\n",
        "\n",
        "# Load T5-small (lightweight version for Colab)\n",
        "model_name = \"t5-small\"\n",
        "tokenizer = T5Tokenizer.from_pretrained(model_name)\n",
        "model = T5ForConditionalGeneration.from_pretrained(model_name)\n",
        "\n",
        "def summarize_email(email_text, max_length=50):\n",
        "    # Prepend \"summarize: \" for T5\n",
        "    input_text = \"summarize: \" + email_text\n",
        "    inputs = tokenizer(input_text, return_tensors=\"pt\", truncation=True, padding=True, max_length=512)\n",
        "\n",
        "    # Generate summary\n",
        "    summary_ids = model.generate(inputs.input_ids, max_length=max_length, min_length=10, length_penalty=2.0, num_beams=4, early_stopping=True)\n",
        "    summary = tokenizer.decode(summary_ids[0], skip_special_tokens=True)\n",
        "    return summary\n"
      ],
      "metadata": {
        "colab": {
          "base_uri": "https://localhost:8080/",
          "height": 266,
          "referenced_widgets": [
            "6cdd326741e945b9bd98d0dd3b6d8eb6",
            "be3cd96aee5b43d99b25f9fd681177b2",
            "fbcc94a14400448695f9ec7fa5afec74",
            "aebd0e53e6a2458ca900f41ebfe2b1ee",
            "727b6ef512ea46ebac4e70ad5fccb8ac",
            "41a25175de6747a6a8c528fa6f0eefc2",
            "f710d52b7ec64cb68be028c83f980903",
            "f45519057ce14ebfad4e12641707a0d0",
            "b711b3e6cbad488aade1a887eb3297d5",
            "f5c70987b0fd424faee2878846f172b4",
            "b0b248f6fce94fcaabd9d184ea4dbc14",
            "a6bc6cfead95406a83c3d756e28270ba",
            "f4411eb5d6e7494f993ada09a15f1708",
            "1aef2b0c87784e07bc2d46da8ee90c6c",
            "9ba3c78fcb9541c69044799ca2284c58",
            "77ae6da3032b43d9a78f05a7c33e0823",
            "1f23438ccc4e4b9aa41eb874c84c6d0a",
            "c1c1f70d0cd449aeb26b030b17512bc2",
            "c983b94c850b437a98eb71540ba8b869",
            "ac3dbc65aa254d47a2f67da1142130c1",
            "b9f58e8312f74c12929da0f71601e3b2",
            "27a18ce2e03944cdb59a8817af87f3d6",
            "d46b40ea720e4daa94c22dd6a3d7a3fd",
            "1be2db2479bd48e2aa79a5132f3af997",
            "144f21e16e784814ac94ec8cdeb45cbc",
            "2cd9c7d81692406fa368a3e0931ed53e",
            "cbabb48af89c46b9878441e5e3ac8b22",
            "9a2539f8e8744356a14087311f5c58c1",
            "dd728ed8d0a24049acce7e1ca6114068",
            "b6bdebabc41847bea7db985f3304acf5",
            "fbc31fc7fafb43b88f4880e07025b12f",
            "95856df045c3465fbf94ef04514f9add",
            "ca09e6abe7e44ad8acff67d5f2631e81",
            "7790bfc51eb54837961ed331120cb6b0",
            "826b5d2b068f42f28fc19b85eeb0d363",
            "6dfeeae8ee78483e97b83733079a6126",
            "2c9a6b09dc4a48188b969a7c4605c850",
            "7eaee5a14ce0438995ce445baabc2da1",
            "608d6f33a8594f70bac8c87845f7b8de",
            "22aafab9ee154bbe8268057d1c3f4a10",
            "8d845a3c1c9747179b1eba631c284b38",
            "fbf17aa35a3641dc86825b0e26e87608",
            "9eb5c03e20de409ca5c2c1f7509fd61e",
            "c0855bd5342d4446adab285ffc27b032",
            "6d4ce9922740447f9a83b1cdafeacc25",
            "2c572bf838b84596ab65e4bb42048fdc",
            "a747021532af4f4aacd4c08778d238ea",
            "0c26eeaa50444209b01f0f5af031985e",
            "74a9ec1e08b24bcc9e74748874e17b7f",
            "e34ac27d6c6249918f874994d47c639e",
            "26207b36890d4f5b802aa2e1aedc8093",
            "0c514400b59140cbbb99c0e59315bec6",
            "8ab6a8d4d42b451981e98c6384a62ac9",
            "528a4cb81a1f41c1b2d2b7214cec81b4",
            "3af8ccc85146454185a5954557a1d0b0",
            "2ae9a060694b4d5eb10a849e877e34dd",
            "d8bd71d4ba9449a0973dfa3b4f7ef282",
            "c92ec10808574a18b263e0ff684400dc",
            "2421f029f3034fb5826ee85c50a4279f",
            "8f7535fd4de84bff9abc5fe8cde62a75",
            "a3ab5833d87347f9ba4e2b7e0d852860",
            "b41d4802d6104b3783b7d98d72729efe",
            "630e104b2e1a42d1a74eae9528177117",
            "76fa0e7de3414e5ab9cca85dfd063255",
            "658aa02ba0094e80920740ed7bbc3ecb",
            "d17737ed731e4dd3af95ff543c6d6b29"
          ]
        },
        "id": "MCTpbyStvgor",
        "outputId": "1f98e12e-2750-4836-877d-e36e49b520f5"
      },
      "execution_count": null,
      "outputs": [
        {
          "output_type": "display_data",
          "data": {
            "text/plain": [
              "tokenizer_config.json:   0%|          | 0.00/2.32k [00:00<?, ?B/s]"
            ],
            "application/vnd.jupyter.widget-view+json": {
              "version_major": 2,
              "version_minor": 0,
              "model_id": "6cdd326741e945b9bd98d0dd3b6d8eb6"
            }
          },
          "metadata": {}
        },
        {
          "output_type": "display_data",
          "data": {
            "text/plain": [
              "spiece.model:   0%|          | 0.00/792k [00:00<?, ?B/s]"
            ],
            "application/vnd.jupyter.widget-view+json": {
              "version_major": 2,
              "version_minor": 0,
              "model_id": "a6bc6cfead95406a83c3d756e28270ba"
            }
          },
          "metadata": {}
        },
        {
          "output_type": "display_data",
          "data": {
            "text/plain": [
              "tokenizer.json:   0%|          | 0.00/1.39M [00:00<?, ?B/s]"
            ],
            "application/vnd.jupyter.widget-view+json": {
              "version_major": 2,
              "version_minor": 0,
              "model_id": "d46b40ea720e4daa94c22dd6a3d7a3fd"
            }
          },
          "metadata": {}
        },
        {
          "output_type": "stream",
          "name": "stderr",
          "text": [
            "You are using the default legacy behaviour of the <class 'transformers.models.t5.tokenization_t5.T5Tokenizer'>. This is expected, and simply means that the `legacy` (previous) behavior will be used so nothing changes for you. If you want to use the new behaviour, set `legacy=False`. This should only be set if you understand what it means, and thoroughly read the reason why this was added as explained in https://github.com/huggingface/transformers/pull/24565\n"
          ]
        },
        {
          "output_type": "display_data",
          "data": {
            "text/plain": [
              "config.json:   0%|          | 0.00/1.21k [00:00<?, ?B/s]"
            ],
            "application/vnd.jupyter.widget-view+json": {
              "version_major": 2,
              "version_minor": 0,
              "model_id": "7790bfc51eb54837961ed331120cb6b0"
            }
          },
          "metadata": {}
        },
        {
          "output_type": "display_data",
          "data": {
            "text/plain": [
              "model.safetensors:   0%|          | 0.00/242M [00:00<?, ?B/s]"
            ],
            "application/vnd.jupyter.widget-view+json": {
              "version_major": 2,
              "version_minor": 0,
              "model_id": "6d4ce9922740447f9a83b1cdafeacc25"
            }
          },
          "metadata": {}
        },
        {
          "output_type": "display_data",
          "data": {
            "text/plain": [
              "generation_config.json:   0%|          | 0.00/147 [00:00<?, ?B/s]"
            ],
            "application/vnd.jupyter.widget-view+json": {
              "version_major": 2,
              "version_minor": 0,
              "model_id": "2ae9a060694b4d5eb10a849e877e34dd"
            }
          },
          "metadata": {}
        },
        {
          "output_type": "stream",
          "name": "stdout",
          "text": [
            "FuriosaAI is a small but mighty AI chip company, and Meta wanted them to boost its AI game. but these guys are playing the long road, betting on itself instead of taking an easy exit. they just sold\n"
          ]
        }
      ]
    },
    {
      "cell_type": "code",
      "source": [
        "\n",
        "# Example email\n",
        "email_text = \"\"\"\n",
        "The error LookupError: Resource punkt_tab not found. indicates that the necessary NLTK data package punkt_tab is not downloaded. This package provides tokenizers (tools that break text into sentences and words) needed by the sumy library for text summarization.\n",
        "\n",
        "The sumy library relies on NLTK's punkt tokenizer to segment the text into sentences. If punkt isn't available, it can't process the text correctly. The code attempts to load this tokenizer, but since the data isn't present, it throws a LookupError.\n",
        "\"\"\"\n",
        "print(summarize_email(email_text))\n"
      ],
      "metadata": {
        "colab": {
          "base_uri": "https://localhost:8080/"
        },
        "id": "7T2m5fONvprJ",
        "outputId": "51f5553f-c7ef-49f1-abb1-8c9c6be99034"
      },
      "execution_count": null,
      "outputs": [
        {
          "output_type": "stream",
          "name": "stdout",
          "text": [
            "the NLTK data package punkt_tab is not downloaded. the sumy library relies on NLTK's punkt tokenizer to segment text into sentences.\n"
          ]
        }
      ]
    },
    {
      "cell_type": "markdown",
      "source": [
        "OMPLEMENTING FEW SHOT LEARNING FOR EMAIL CLASSIFICATION\n",
        "\n",
        "Few-shot learning allows your model to quickly adapt to new email categories with minimal labeled examples. 3 main categories:\n",
        "\n",
        "- Fine-Tune with Additional Data (Standard Approach). If you get a new category (e.g., \"Medical Appointments\"), fine-tune the model again with a few labeled examples\n",
        "\n",
        "- Use Prompt-Based Learning (For Transformers like GPT, T5). Instead of retraining, some models like T5 and GPT-based models can learn new categories dynamically from a prompt.\n",
        "\n",
        "- Use Embeddings + Nearest Neighbor for New Classes. Instead of retraining, store embeddings of past emails and classify new emails by comparing similarity."
      ],
      "metadata": {
        "id": "pPyGVdMqyb6U"
      }
    },
    {
      "cell_type": "code",
      "source": [
        "#embeddings use case\n",
        "from sentence_transformers import SentenceTransformer\n",
        "import numpy as np\n",
        "\n",
        "model = SentenceTransformer(\"all-MiniLM-L6-v2\")  # Small & fast\n",
        "\n",
        "# Existing category embeddings\n",
        "category_texts = {\n",
        "    \"Urgent\": \"Immediate action needed!\",\n",
        "    \"Job\": \"Interview scheduled.\",\n",
        "    \"Shopping\": \"Your order is confirmed.\"\n",
        "}\n",
        "category_embeddings = {cat: model.encode(text) for cat, text in category_texts.items()}\n",
        "\n",
        "# New email\n",
        "new_email = \"order should arrive by Friday.\"\n",
        "new_email_embedding = model.encode(new_email)\n",
        "\n",
        "# Find the closest category\n",
        "similarities = {cat: np.dot(new_email_embedding, emb) for cat, emb in category_embeddings.items()}\n",
        "predicted_category = max(similarities, key=similarities.get)\n",
        "print(predicted_category)\n"
      ],
      "metadata": {
        "colab": {
          "base_uri": "https://localhost:8080/"
        },
        "id": "cVQlOffDv7R1",
        "outputId": "1d512e6b-af01-496c-99b8-acc876e84726"
      },
      "execution_count": null,
      "outputs": [
        {
          "output_type": "stream",
          "name": "stdout",
          "text": [
            "Shopping\n"
          ]
        }
      ]
    },
    {
      "cell_type": "code",
      "source": [
        "#prompt based learning use case\n",
        "from transformers import T5ForConditionalGeneration, T5Tokenizer\n",
        "from sentence_transformers import SentenceTransformer\n",
        "import numpy as np\n",
        "\n",
        "model_name = \"t5-small\"\n",
        "t5_model = T5ForConditionalGeneration.from_pretrained(model_name) # Renamed to avoid conflict\n",
        "\n",
        "tokenizer = T5Tokenizer.from_pretrained(model_name)\n",
        "model = SentenceTransformer(\"all-MiniLM-L6-v2\")\n",
        "input_text = \"Classify this email: 'Your appointment is on Friday.' \\n Categories: Urgent, Job, Shopping, Medical\"\n",
        "inputs = tokenizer(input_text, return_tensors=\"pt\")\n",
        "outputs = t5_model.generate(inputs.input_ids)\n",
        "print(tokenizer.decode(outputs[0], skip_special_tokens=True))\n"
      ],
      "metadata": {
        "colab": {
          "base_uri": "https://localhost:8080/"
        },
        "id": "beo_DAlzx4AY",
        "outputId": "9df5bb0b-8200-418f-d4bb-e5629f7902fe"
      },
      "execution_count": null,
      "outputs": [
        {
          "output_type": "stream",
          "name": "stdout",
          "text": [
            ": Urgent, Job, Shopping, Medical, Medical, Medical, Medical, Medical, Medical\n"
          ]
        }
      ]
    },
    {
      "cell_type": "code",
      "source": [],
      "metadata": {
        "id": "22VgLVzoy9lJ"
      },
      "execution_count": null,
      "outputs": []
    }
  ]
}