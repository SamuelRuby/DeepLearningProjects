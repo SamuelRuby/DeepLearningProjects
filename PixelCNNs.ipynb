{
  "cells": [
    {
      "cell_type": "markdown",
      "metadata": {
        "id": "view-in-github",
        "colab_type": "text"
      },
      "source": [
        "<a href=\"https://colab.research.google.com/github/SamuelRuby/DeepLearningProjects/blob/main/PixelCNNs.ipynb\" target=\"_parent\"><img src=\"https://colab.research.google.com/assets/colab-badge.svg\" alt=\"Open In Colab\"/></a>"
      ]
    },
    {
      "cell_type": "code",
      "execution_count": null,
      "metadata": {
        "colab": {
          "base_uri": "https://localhost:8080/"
        },
        "id": "P0lgPGqvY9l4",
        "outputId": "0e2abb14-46a7-4785-9961-6c1adc740bb9"
      },
      "outputs": [
        {
          "output_type": "stream",
          "name": "stdout",
          "text": [
            "Collecting pytorch-fid\n",
            "  Downloading pytorch_fid-0.3.0-py3-none-any.whl.metadata (5.3 kB)\n",
            "Requirement already satisfied: numpy in /usr/local/lib/python3.11/dist-packages (from pytorch-fid) (2.0.2)\n",
            "Requirement already satisfied: pillow in /usr/local/lib/python3.11/dist-packages (from pytorch-fid) (11.1.0)\n",
            "Requirement already satisfied: scipy in /usr/local/lib/python3.11/dist-packages (from pytorch-fid) (1.14.1)\n",
            "Requirement already satisfied: torch>=1.0.1 in /usr/local/lib/python3.11/dist-packages (from pytorch-fid) (2.6.0+cu124)\n",
            "Requirement already satisfied: torchvision>=0.2.2 in /usr/local/lib/python3.11/dist-packages (from pytorch-fid) (0.21.0+cu124)\n",
            "Requirement already satisfied: filelock in /usr/local/lib/python3.11/dist-packages (from torch>=1.0.1->pytorch-fid) (3.18.0)\n",
            "Requirement already satisfied: typing-extensions>=4.10.0 in /usr/local/lib/python3.11/dist-packages (from torch>=1.0.1->pytorch-fid) (4.13.1)\n",
            "Requirement already satisfied: networkx in /usr/local/lib/python3.11/dist-packages (from torch>=1.0.1->pytorch-fid) (3.4.2)\n",
            "Requirement already satisfied: jinja2 in /usr/local/lib/python3.11/dist-packages (from torch>=1.0.1->pytorch-fid) (3.1.6)\n",
            "Requirement already satisfied: fsspec in /usr/local/lib/python3.11/dist-packages (from torch>=1.0.1->pytorch-fid) (2025.3.2)\n",
            "Collecting nvidia-cuda-nvrtc-cu12==12.4.127 (from torch>=1.0.1->pytorch-fid)\n",
            "  Downloading nvidia_cuda_nvrtc_cu12-12.4.127-py3-none-manylinux2014_x86_64.whl.metadata (1.5 kB)\n",
            "Collecting nvidia-cuda-runtime-cu12==12.4.127 (from torch>=1.0.1->pytorch-fid)\n",
            "  Downloading nvidia_cuda_runtime_cu12-12.4.127-py3-none-manylinux2014_x86_64.whl.metadata (1.5 kB)\n",
            "Collecting nvidia-cuda-cupti-cu12==12.4.127 (from torch>=1.0.1->pytorch-fid)\n",
            "  Downloading nvidia_cuda_cupti_cu12-12.4.127-py3-none-manylinux2014_x86_64.whl.metadata (1.6 kB)\n",
            "Collecting nvidia-cudnn-cu12==9.1.0.70 (from torch>=1.0.1->pytorch-fid)\n",
            "  Downloading nvidia_cudnn_cu12-9.1.0.70-py3-none-manylinux2014_x86_64.whl.metadata (1.6 kB)\n",
            "Collecting nvidia-cublas-cu12==12.4.5.8 (from torch>=1.0.1->pytorch-fid)\n",
            "  Downloading nvidia_cublas_cu12-12.4.5.8-py3-none-manylinux2014_x86_64.whl.metadata (1.5 kB)\n",
            "Collecting nvidia-cufft-cu12==11.2.1.3 (from torch>=1.0.1->pytorch-fid)\n",
            "  Downloading nvidia_cufft_cu12-11.2.1.3-py3-none-manylinux2014_x86_64.whl.metadata (1.5 kB)\n",
            "Collecting nvidia-curand-cu12==10.3.5.147 (from torch>=1.0.1->pytorch-fid)\n",
            "  Downloading nvidia_curand_cu12-10.3.5.147-py3-none-manylinux2014_x86_64.whl.metadata (1.5 kB)\n",
            "Collecting nvidia-cusolver-cu12==11.6.1.9 (from torch>=1.0.1->pytorch-fid)\n",
            "  Downloading nvidia_cusolver_cu12-11.6.1.9-py3-none-manylinux2014_x86_64.whl.metadata (1.6 kB)\n",
            "Collecting nvidia-cusparse-cu12==12.3.1.170 (from torch>=1.0.1->pytorch-fid)\n",
            "  Downloading nvidia_cusparse_cu12-12.3.1.170-py3-none-manylinux2014_x86_64.whl.metadata (1.6 kB)\n",
            "Requirement already satisfied: nvidia-cusparselt-cu12==0.6.2 in /usr/local/lib/python3.11/dist-packages (from torch>=1.0.1->pytorch-fid) (0.6.2)\n",
            "Requirement already satisfied: nvidia-nccl-cu12==2.21.5 in /usr/local/lib/python3.11/dist-packages (from torch>=1.0.1->pytorch-fid) (2.21.5)\n",
            "Requirement already satisfied: nvidia-nvtx-cu12==12.4.127 in /usr/local/lib/python3.11/dist-packages (from torch>=1.0.1->pytorch-fid) (12.4.127)\n",
            "Collecting nvidia-nvjitlink-cu12==12.4.127 (from torch>=1.0.1->pytorch-fid)\n",
            "  Downloading nvidia_nvjitlink_cu12-12.4.127-py3-none-manylinux2014_x86_64.whl.metadata (1.5 kB)\n",
            "Requirement already satisfied: triton==3.2.0 in /usr/local/lib/python3.11/dist-packages (from torch>=1.0.1->pytorch-fid) (3.2.0)\n",
            "Requirement already satisfied: sympy==1.13.1 in /usr/local/lib/python3.11/dist-packages (from torch>=1.0.1->pytorch-fid) (1.13.1)\n",
            "Requirement already satisfied: mpmath<1.4,>=1.1.0 in /usr/local/lib/python3.11/dist-packages (from sympy==1.13.1->torch>=1.0.1->pytorch-fid) (1.3.0)\n",
            "Requirement already satisfied: MarkupSafe>=2.0 in /usr/local/lib/python3.11/dist-packages (from jinja2->torch>=1.0.1->pytorch-fid) (3.0.2)\n",
            "Downloading pytorch_fid-0.3.0-py3-none-any.whl (15 kB)\n",
            "Downloading nvidia_cublas_cu12-12.4.5.8-py3-none-manylinux2014_x86_64.whl (363.4 MB)\n",
            "\u001b[2K   \u001b[90m━━━━━━━━━━━━━━━━━━━━━━━━━━━━━━━━━━━━━━━━\u001b[0m \u001b[32m363.4/363.4 MB\u001b[0m \u001b[31m2.3 MB/s\u001b[0m eta \u001b[36m0:00:00\u001b[0m\n",
            "\u001b[?25hDownloading nvidia_cuda_cupti_cu12-12.4.127-py3-none-manylinux2014_x86_64.whl (13.8 MB)\n",
            "\u001b[2K   \u001b[90m━━━━━━━━━━━━━━━━━━━━━━━━━━━━━━━━━━━━━━━━\u001b[0m \u001b[32m13.8/13.8 MB\u001b[0m \u001b[31m26.1 MB/s\u001b[0m eta \u001b[36m0:00:00\u001b[0m\n",
            "\u001b[?25hDownloading nvidia_cuda_nvrtc_cu12-12.4.127-py3-none-manylinux2014_x86_64.whl (24.6 MB)\n",
            "\u001b[2K   \u001b[90m━━━━━━━━━━━━━━━━━━━━━━━━━━━━━━━━━━━━━━━━\u001b[0m \u001b[32m24.6/24.6 MB\u001b[0m \u001b[31m21.8 MB/s\u001b[0m eta \u001b[36m0:00:00\u001b[0m\n",
            "\u001b[?25hDownloading nvidia_cuda_runtime_cu12-12.4.127-py3-none-manylinux2014_x86_64.whl (883 kB)\n",
            "\u001b[2K   \u001b[90m━━━━━━━━━━━━━━━━━━━━━━━━━━━━━━━━━━━━━━━━\u001b[0m \u001b[32m883.7/883.7 kB\u001b[0m \u001b[31m15.2 MB/s\u001b[0m eta \u001b[36m0:00:00\u001b[0m\n",
            "\u001b[?25hDownloading nvidia_cudnn_cu12-9.1.0.70-py3-none-manylinux2014_x86_64.whl (664.8 MB)\n",
            "\u001b[2K   \u001b[90m━━━━━━━━━━━━━━━━━━━━━━━━━━━━━━━━━━━━━━━\u001b[0m \u001b[32m664.8/664.8 MB\u001b[0m \u001b[31m850.5 kB/s\u001b[0m eta \u001b[36m0:00:00\u001b[0m\n",
            "\u001b[?25hDownloading nvidia_cufft_cu12-11.2.1.3-py3-none-manylinux2014_x86_64.whl (211.5 MB)\n",
            "\u001b[2K   \u001b[90m━━━━━━━━━━━━━━━━━━━━━━━━━━━━━━━━━━━━━━━━\u001b[0m \u001b[32m211.5/211.5 MB\u001b[0m \u001b[31m6.0 MB/s\u001b[0m eta \u001b[36m0:00:00\u001b[0m\n",
            "\u001b[?25hDownloading nvidia_curand_cu12-10.3.5.147-py3-none-manylinux2014_x86_64.whl (56.3 MB)\n",
            "\u001b[2K   \u001b[90m━━━━━━━━━━━━━━━━━━━━━━━━━━━━━━━━━━━━━━━━\u001b[0m \u001b[32m56.3/56.3 MB\u001b[0m \u001b[31m10.4 MB/s\u001b[0m eta \u001b[36m0:00:00\u001b[0m\n",
            "\u001b[?25hDownloading nvidia_cusolver_cu12-11.6.1.9-py3-none-manylinux2014_x86_64.whl (127.9 MB)\n",
            "\u001b[2K   \u001b[90m━━━━━━━━━━━━━━━━━━━━━━━━━━━━━━━━━━━━━━━━\u001b[0m \u001b[32m127.9/127.9 MB\u001b[0m \u001b[31m7.6 MB/s\u001b[0m eta \u001b[36m0:00:00\u001b[0m\n",
            "\u001b[?25hDownloading nvidia_cusparse_cu12-12.3.1.170-py3-none-manylinux2014_x86_64.whl (207.5 MB)\n",
            "\u001b[2K   \u001b[90m━━━━━━━━━━━━━━━━━━━━━━━━━━━━━━━━━━━━━━━━\u001b[0m \u001b[32m207.5/207.5 MB\u001b[0m \u001b[31m6.2 MB/s\u001b[0m eta \u001b[36m0:00:00\u001b[0m\n",
            "\u001b[?25hDownloading nvidia_nvjitlink_cu12-12.4.127-py3-none-manylinux2014_x86_64.whl (21.1 MB)\n",
            "\u001b[2K   \u001b[90m━━━━━━━━━━━━━━━━━━━━━━━━━━━━━━━━━━━━━━━━\u001b[0m \u001b[32m21.1/21.1 MB\u001b[0m \u001b[31m79.4 MB/s\u001b[0m eta \u001b[36m0:00:00\u001b[0m\n",
            "\u001b[?25hInstalling collected packages: nvidia-nvjitlink-cu12, nvidia-curand-cu12, nvidia-cufft-cu12, nvidia-cuda-runtime-cu12, nvidia-cuda-nvrtc-cu12, nvidia-cuda-cupti-cu12, nvidia-cublas-cu12, nvidia-cusparse-cu12, nvidia-cudnn-cu12, nvidia-cusolver-cu12, pytorch-fid\n",
            "  Attempting uninstall: nvidia-nvjitlink-cu12\n",
            "    Found existing installation: nvidia-nvjitlink-cu12 12.5.82\n",
            "    Uninstalling nvidia-nvjitlink-cu12-12.5.82:\n",
            "      Successfully uninstalled nvidia-nvjitlink-cu12-12.5.82\n",
            "  Attempting uninstall: nvidia-curand-cu12\n",
            "    Found existing installation: nvidia-curand-cu12 10.3.6.82\n",
            "    Uninstalling nvidia-curand-cu12-10.3.6.82:\n",
            "      Successfully uninstalled nvidia-curand-cu12-10.3.6.82\n",
            "  Attempting uninstall: nvidia-cufft-cu12\n",
            "    Found existing installation: nvidia-cufft-cu12 11.2.3.61\n",
            "    Uninstalling nvidia-cufft-cu12-11.2.3.61:\n",
            "      Successfully uninstalled nvidia-cufft-cu12-11.2.3.61\n",
            "  Attempting uninstall: nvidia-cuda-runtime-cu12\n",
            "    Found existing installation: nvidia-cuda-runtime-cu12 12.5.82\n",
            "    Uninstalling nvidia-cuda-runtime-cu12-12.5.82:\n",
            "      Successfully uninstalled nvidia-cuda-runtime-cu12-12.5.82\n",
            "  Attempting uninstall: nvidia-cuda-nvrtc-cu12\n",
            "    Found existing installation: nvidia-cuda-nvrtc-cu12 12.5.82\n",
            "    Uninstalling nvidia-cuda-nvrtc-cu12-12.5.82:\n",
            "      Successfully uninstalled nvidia-cuda-nvrtc-cu12-12.5.82\n",
            "  Attempting uninstall: nvidia-cuda-cupti-cu12\n",
            "    Found existing installation: nvidia-cuda-cupti-cu12 12.5.82\n",
            "    Uninstalling nvidia-cuda-cupti-cu12-12.5.82:\n",
            "      Successfully uninstalled nvidia-cuda-cupti-cu12-12.5.82\n",
            "  Attempting uninstall: nvidia-cublas-cu12\n",
            "    Found existing installation: nvidia-cublas-cu12 12.5.3.2\n",
            "    Uninstalling nvidia-cublas-cu12-12.5.3.2:\n",
            "      Successfully uninstalled nvidia-cublas-cu12-12.5.3.2\n",
            "  Attempting uninstall: nvidia-cusparse-cu12\n",
            "    Found existing installation: nvidia-cusparse-cu12 12.5.1.3\n",
            "    Uninstalling nvidia-cusparse-cu12-12.5.1.3:\n",
            "      Successfully uninstalled nvidia-cusparse-cu12-12.5.1.3\n",
            "  Attempting uninstall: nvidia-cudnn-cu12\n",
            "    Found existing installation: nvidia-cudnn-cu12 9.3.0.75\n",
            "    Uninstalling nvidia-cudnn-cu12-9.3.0.75:\n",
            "      Successfully uninstalled nvidia-cudnn-cu12-9.3.0.75\n",
            "  Attempting uninstall: nvidia-cusolver-cu12\n",
            "    Found existing installation: nvidia-cusolver-cu12 11.6.3.83\n",
            "    Uninstalling nvidia-cusolver-cu12-11.6.3.83:\n",
            "      Successfully uninstalled nvidia-cusolver-cu12-11.6.3.83\n",
            "Successfully installed nvidia-cublas-cu12-12.4.5.8 nvidia-cuda-cupti-cu12-12.4.127 nvidia-cuda-nvrtc-cu12-12.4.127 nvidia-cuda-runtime-cu12-12.4.127 nvidia-cudnn-cu12-9.1.0.70 nvidia-cufft-cu12-11.2.1.3 nvidia-curand-cu12-10.3.5.147 nvidia-cusolver-cu12-11.6.1.9 nvidia-cusparse-cu12-12.3.1.170 nvidia-nvjitlink-cu12-12.4.127 pytorch-fid-0.3.0\n"
          ]
        }
      ],
      "source": [
        "!pip install pytorch-fid"
      ]
    },
    {
      "cell_type": "code",
      "execution_count": null,
      "metadata": {
        "id": "5Un7RUtnE7Wh"
      },
      "outputs": [],
      "source": [
        "#------------------#\n",
        "# LIBRARIES\n",
        "#-----------------------#\n",
        "\n",
        "from google.colab import drive\n",
        "\n",
        "import time\n",
        "import os\n",
        "import pandas as pd\n",
        "import numpy as np\n",
        "import matplotlib.pyplot as plt\n",
        "# import seaborn as sns\n",
        "# import tensorflow as tf\n",
        "import torch\n",
        "import torch.nn as nn\n",
        "import torchvision # MNIST Dataset\n",
        "from torchvision import datasets, transforms  #for datapreprocessing\n",
        "\n",
        "import torch.optim as optim"
      ]
    },
    {
      "cell_type": "code",
      "execution_count": null,
      "metadata": {
        "colab": {
          "base_uri": "https://localhost:8080/"
        },
        "id": "Qq39ediiOqvZ",
        "outputId": "ca1f0997-4040-45fe-f241-12ee22cae975"
      },
      "outputs": [
        {
          "output_type": "stream",
          "name": "stdout",
          "text": [
            "Mounted at /content/drive\n"
          ]
        }
      ],
      "source": [
        "drive.mount('/content/drive')"
      ]
    },
    {
      "cell_type": "code",
      "execution_count": null,
      "metadata": {
        "id": "7UvDhHnpF1i7"
      },
      "outputs": [],
      "source": [
        "transform = transforms.Compose([\n",
        "    transforms.ToTensor(),\n",
        "    transforms.Lambda(lambda x: x *255) # . long().squeeze()) # normalize it to be between  0 and 1 (or 0 to 255 if you’re going full discrete)\n",
        "    ])\n"
      ]
    },
    {
      "cell_type": "code",
      "execution_count": null,
      "metadata": {
        "id": "Byj69W7cOeBa"
      },
      "outputs": [],
      "source": [
        "output_file = \"/content/drive/MyDrive/Projects\"\n",
        "train_dataset = torchvision.datasets.MNIST(\n",
        "    root=output_file,  # Path to store the data\n",
        "    train=True,  # Load training data\n",
        "    download=True,  # Download the data if not present\n",
        "    transform=transform  # Apply the defined transform\n",
        ")\n",
        "\n",
        "test_dataset = torchvision.datasets.MNIST(\n",
        "    root=output_file,\n",
        "    train=False,  # Load testing data\n",
        "    download=True,\n",
        "    transform=transform\n",
        ")\n"
      ]
    },
    {
      "cell_type": "code",
      "execution_count": null,
      "metadata": {
        "colab": {
          "base_uri": "https://localhost:8080/",
          "height": 125
        },
        "id": "Y5kN13FQiKSh",
        "outputId": "537d438a-deac-4283-b9e4-d1a46a03f08e"
      },
      "outputs": [
        {
          "output_type": "display_data",
          "data": {
            "text/plain": [
              "<Figure size 1000x300 with 7 Axes>"
            ],
            "image/png": "[encoded data removed]"
          },
          "metadata": {}
        }
      ],
      "source": [
        "# num_samples = len(train_dataset)\n",
        "# print(f\"Number of samples in the training dataset: {num_samples}\")\n",
        "# Number of samples in the training dataset: 60000\n",
        "\n",
        "num_samples = 7\n",
        "samples = [train_dataset[i] for i in range(num_samples)]\n",
        "\n",
        "# Visualize\n",
        "fig, axes = plt.subplots(1, num_samples, figsize=(10, 3))\n",
        "\n",
        "for i, (image, label) in enumerate(samples):\n",
        "    axes[i].imshow(image.squeeze(), cmap=\"gray\")  # squeeze removes dimensions of size 1\n",
        "    axes[i].set_title(f\"Label: {label}\")\n",
        "    axes[i].axis(\"off\")  # Hide axes ticks\n",
        "\n",
        "plt.show()\n"
      ]
    },
    {
      "cell_type": "code",
      "execution_count": null,
      "metadata": {
        "id": "U5P6_TeDO7cx"
      },
      "outputs": [],
      "source": [
        "# Create data loaders for training and testing\n",
        "train_loader = torch.utils.data.DataLoader(\n",
        "    train_dataset,\n",
        "    batch_size=64,\n",
        "    shuffle=True  # Shuffle training data\n",
        ")\n",
        "\n",
        "test_loader = torch.utils.data.DataLoader(\n",
        "    test_dataset,\n",
        "    batch_size=1000,  # Adjust batch size as needed\n",
        "    shuffle=False  # No need to shuffle testing data\n",
        ")"
      ]
    },
    {
      "cell_type": "code",
      "source": [],
      "metadata": {
        "id": "9fdJSotH2qUl"
      },
      "execution_count": null,
      "outputs": []
    },
    {
      "cell_type": "code",
      "source": [
        "img, label = next(iter(train_loader))\n",
        "plt.imshow(img[0, 0], cmap=\"gray\")\n",
        "plt.title(f\"Label: {label[0]}\")\n",
        "plt.show()\n"
      ],
      "metadata": {
        "colab": {
          "base_uri": "https://localhost:8080/",
          "height": 452
        },
        "id": "X1eogZCa2dil",
        "outputId": "15095108-2e95-4145-886c-677884819b7e"
      },
      "execution_count": null,
      "outputs": [
        {
          "output_type": "display_data",
          "data": {
            "text/plain": [
              "<Figure size 640x480 with 1 Axes>"
            ],
            "image/png": "[encoded data removed]"
          },
          "metadata": {}
        }
      ]
    },
    {
      "cell_type": "code",
      "execution_count": null,
      "metadata": {
        "id": "VI3QPb3GwqXu"
      },
      "outputs": [],
      "source": []
    },
    {
      "cell_type": "code",
      "execution_count": null,
      "metadata": {
        "colab": {
          "base_uri": "https://localhost:8080/"
        },
        "id": "pXpTdXpahOZA",
        "outputId": "fbe542fa-18bd-4bf0-d89c-f83593f7f698"
      },
      "outputs": [
        {
          "name": "stdout",
          "output_type": "stream",
          "text": [
            "torch.Size([1, 16, 3, 3])\n",
            "torch.Size([1, 16, 1, 1])\n"
          ]
        }
      ],
      "source": [
        "#PLAYING AROUND: Implementing Type A and Type B masked 3x3 convolutions on a 5x5 image\n",
        "class MaskedConv2d(nn.Conv2d):\n",
        "    def __init__(self, *args, mask_type, **kwargs):\n",
        "        super().__init__(*args, **kwargs)\n",
        "        self.register_buffer('mask', self.weight.data.clone())\n",
        "        _, _, kH, kW = self.weight.size()\n",
        "        self.mask.fill_(1)\n",
        "        self.mask[:, :, kH // 2, kW // 2 + (mask_type == 'B'):] = 0\n",
        "        self.mask[:, :, kH // 2 + 1:] = 0\n",
        "\n",
        "    def forward(self, x):\n",
        "        self.weight.data *= self.mask\n",
        "        return super().forward(x)\n",
        "\n",
        "# Example usage:\n",
        "# Input image (5x5)\n",
        "image = torch.randn(1, 1, 5, 5)  # Batch size 1, 1 channel\n",
        "\n",
        "# Type A masked convolution\n",
        "type_A_conv = MaskedConv2d(1, 16, kernel_size=3, mask_type='A')  # in_channels=1, out_channels=16\n",
        "type_A_output = type_A_conv(image)\n",
        "\n",
        "# Type B masked convolution\n",
        "type_B_conv = MaskedConv2d(16, 16, kernel_size=3, mask_type='B')  # in_channels=16, out_channels=16\n",
        "type_B_output = type_B_conv(type_A_output)\n",
        "\n",
        "print(type_A_output.shape)  # Output shape: (1, 16, 3, 3)\n",
        "print(type_B_output.shape)  # Output shape: (1, 16, 1, 1)"
      ]
    },
    {
      "cell_type": "code",
      "execution_count": null,
      "metadata": {
        "id": "noq-cUfO58oJ"
      },
      "outputs": [],
      "source": []
    },
    {
      "cell_type": "code",
      "execution_count": null,
      "metadata": {
        "colab": {
          "background_save": true,
          "base_uri": "https://localhost:8080/"
        },
        "id": "HK052et367OM",
        "outputId": "5cda15cd-3a6c-4c98-fb7e-9643e272cdcc"
      },
      "outputs": [
        {
          "name": "stdout",
          "output_type": "stream",
          "text": [
            "Epoch [1/10], Batch [1/938], Loss: 5.5148\n",
            "Epoch [1/10], Batch [101/938], Loss: 0.9153\n",
            "Epoch [1/10], Batch [201/938], Loss: 0.8377\n",
            "Epoch [1/10], Batch [301/938], Loss: 0.8350\n",
            "Epoch [1/10], Batch [401/938], Loss: 0.8211\n",
            "Epoch [1/10], Batch [501/938], Loss: 0.8083\n",
            "Epoch [1/10], Batch [601/938], Loss: 0.8062\n",
            "Epoch [1/10], Batch [701/938], Loss: 0.8149\n",
            "Epoch [1/10], Batch [801/938], Loss: 0.8080\n",
            "Epoch [1/10], Batch [901/938], Loss: 0.8365\n",
            "Epoch [2/10], Batch [1/938], Loss: 0.7765\n",
            "Epoch [2/10], Batch [101/938], Loss: 0.7700\n",
            "Epoch [2/10], Batch [201/938], Loss: 0.8412\n",
            "Epoch [2/10], Batch [301/938], Loss: 0.7973\n",
            "Epoch [2/10], Batch [401/938], Loss: 0.8239\n",
            "Epoch [2/10], Batch [501/938], Loss: 0.7753\n",
            "Epoch [2/10], Batch [601/938], Loss: 0.8410\n",
            "Epoch [2/10], Batch [701/938], Loss: 0.7992\n",
            "Epoch [2/10], Batch [801/938], Loss: 0.7724\n",
            "Epoch [2/10], Batch [901/938], Loss: 0.7695\n",
            "Epoch [3/10], Batch [1/938], Loss: 0.7884\n",
            "Epoch [3/10], Batch [101/938], Loss: 0.7704\n",
            "Epoch [3/10], Batch [201/938], Loss: 0.8148\n",
            "Epoch [3/10], Batch [301/938], Loss: 0.7927\n",
            "Epoch [3/10], Batch [401/938], Loss: 0.7510\n",
            "Epoch [3/10], Batch [501/938], Loss: 0.8113\n",
            "Epoch [3/10], Batch [601/938], Loss: 0.8183\n",
            "Epoch [3/10], Batch [701/938], Loss: 0.7700\n",
            "Epoch [3/10], Batch [801/938], Loss: 0.8109\n",
            "Epoch [3/10], Batch [901/938], Loss: 0.7972\n",
            "Epoch [4/10], Batch [1/938], Loss: 0.7558\n",
            "Epoch [4/10], Batch [101/938], Loss: 0.7711\n",
            "Epoch [4/10], Batch [201/938], Loss: 0.7922\n",
            "Epoch [4/10], Batch [301/938], Loss: 0.8143\n",
            "Epoch [4/10], Batch [401/938], Loss: 0.7627\n",
            "Epoch [4/10], Batch [501/938], Loss: 0.7499\n",
            "Epoch [4/10], Batch [601/938], Loss: 0.7605\n",
            "Epoch [4/10], Batch [701/938], Loss: 0.7453\n",
            "Epoch [4/10], Batch [801/938], Loss: 0.7762\n",
            "Epoch [4/10], Batch [901/938], Loss: 0.7736\n",
            "Epoch [5/10], Batch [1/938], Loss: 0.7333\n",
            "Epoch [5/10], Batch [101/938], Loss: 0.7854\n",
            "Epoch [5/10], Batch [201/938], Loss: 0.7565\n",
            "Epoch [5/10], Batch [301/938], Loss: 0.7345\n",
            "Epoch [5/10], Batch [401/938], Loss: 0.7895\n",
            "Epoch [5/10], Batch [501/938], Loss: 0.8020\n",
            "Epoch [5/10], Batch [601/938], Loss: 0.7886\n",
            "Epoch [5/10], Batch [701/938], Loss: 0.7813\n",
            "Epoch [5/10], Batch [801/938], Loss: 0.7223\n",
            "Epoch [5/10], Batch [901/938], Loss: 0.8129\n",
            "Epoch [6/10], Batch [1/938], Loss: 0.8018\n",
            "Epoch [6/10], Batch [101/938], Loss: 0.7931\n",
            "Epoch [6/10], Batch [201/938], Loss: 0.7540\n",
            "Epoch [6/10], Batch [301/938], Loss: 0.7342\n",
            "Epoch [6/10], Batch [401/938], Loss: 0.7339\n",
            "Epoch [6/10], Batch [501/938], Loss: 0.7494\n",
            "Epoch [6/10], Batch [601/938], Loss: 0.7719\n",
            "Epoch [6/10], Batch [701/938], Loss: 0.7739\n",
            "Epoch [6/10], Batch [801/938], Loss: 0.8016\n",
            "Epoch [6/10], Batch [901/938], Loss: 0.7489\n",
            "Epoch [7/10], Batch [1/938], Loss: 0.7834\n",
            "Epoch [7/10], Batch [101/938], Loss: 0.8202\n",
            "Epoch [7/10], Batch [201/938], Loss: 0.7457\n",
            "Epoch [7/10], Batch [301/938], Loss: 0.7533\n",
            "Epoch [7/10], Batch [401/938], Loss: 0.7345\n",
            "Epoch [7/10], Batch [501/938], Loss: 0.7653\n",
            "Epoch [7/10], Batch [601/938], Loss: 0.7899\n",
            "Epoch [7/10], Batch [701/938], Loss: 0.7674\n",
            "Epoch [7/10], Batch [801/938], Loss: 0.7248\n",
            "Epoch [7/10], Batch [901/938], Loss: 0.7950\n",
            "Epoch [8/10], Batch [1/938], Loss: 0.7710\n",
            "Epoch [8/10], Batch [101/938], Loss: 0.7800\n",
            "Epoch [8/10], Batch [201/938], Loss: 0.7594\n",
            "Epoch [8/10], Batch [301/938], Loss: 0.7584\n",
            "Epoch [8/10], Batch [401/938], Loss: 0.7750\n",
            "Epoch [8/10], Batch [501/938], Loss: 0.7700\n",
            "Epoch [8/10], Batch [601/938], Loss: 0.7530\n",
            "Epoch [8/10], Batch [701/938], Loss: 0.7418\n",
            "Epoch [8/10], Batch [801/938], Loss: 0.7723\n",
            "Epoch [8/10], Batch [901/938], Loss: 0.7452\n",
            "Epoch [9/10], Batch [1/938], Loss: 0.7292\n",
            "Epoch [9/10], Batch [101/938], Loss: 0.7701\n",
            "Epoch [9/10], Batch [201/938], Loss: 0.7565\n",
            "Epoch [9/10], Batch [301/938], Loss: 0.6931\n",
            "Epoch [9/10], Batch [401/938], Loss: 0.7361\n",
            "Epoch [9/10], Batch [501/938], Loss: 0.7542\n",
            "Epoch [9/10], Batch [601/938], Loss: 0.7460\n",
            "Epoch [9/10], Batch [701/938], Loss: 0.7562\n",
            "Epoch [9/10], Batch [801/938], Loss: 0.8006\n",
            "Epoch [9/10], Batch [901/938], Loss: 0.7538\n",
            "Epoch [10/10], Batch [1/938], Loss: 0.7817\n",
            "Epoch [10/10], Batch [101/938], Loss: 0.7446\n",
            "Epoch [10/10], Batch [201/938], Loss: 0.7605\n",
            "Epoch [10/10], Batch [301/938], Loss: 0.7712\n",
            "Epoch [10/10], Batch [401/938], Loss: 0.7881\n",
            "Epoch [10/10], Batch [501/938], Loss: 0.7342\n",
            "Epoch [10/10], Batch [601/938], Loss: 0.7535\n",
            "Epoch [10/10], Batch [701/938], Loss: 0.7724\n",
            "Epoch [10/10], Batch [801/938], Loss: 0.7930\n",
            "Epoch [10/10], Batch [901/938], Loss: 0.7390\n",
            "Training finished!\n",
            "Total training time: 12882.57 seconds\n"
          ]
        },
        {
          "ename": "RuntimeError",
          "evalue": "Parent directory /content/drive/MyDrive/Projects/trained_model does not exist.",
          "output_type": "error",
          "traceback": [
            "\u001b[0;31m---------------------------------------------------------------------------\u001b[0m",
            "\u001b[0;31mRuntimeError\u001b[0m                              Traceback (most recent call last)",
            "\u001b[0;32m<ipython-input-8-138a341cdd94>\u001b[0m in \u001b[0;36m<cell line: 0>\u001b[0;34m()\u001b[0m\n\u001b[1;32m     83\u001b[0m \u001b[0;31m# Save the trained model\u001b[0m\u001b[0;34m\u001b[0m\u001b[0;34m\u001b[0m\u001b[0m\n\u001b[1;32m     84\u001b[0m \u001b[0mmodel_save_path\u001b[0m \u001b[0;34m=\u001b[0m \u001b[0;34m\"/content/drive/MyDrive/Projects/trained_model/pixelcnn_model.pth\"\u001b[0m  \u001b[0;31m# Choose a file path\u001b[0m\u001b[0;34m\u001b[0m\u001b[0;34m\u001b[0m\u001b[0m\n\u001b[0;32m---> 85\u001b[0;31m \u001b[0mtorch\u001b[0m\u001b[0;34m.\u001b[0m\u001b[0msave\u001b[0m\u001b[0;34m(\u001b[0m\u001b[0mmodel\u001b[0m\u001b[0;34m.\u001b[0m\u001b[0mstate_dict\u001b[0m\u001b[0;34m(\u001b[0m\u001b[0;34m)\u001b[0m\u001b[0;34m,\u001b[0m \u001b[0mmodel_save_path\u001b[0m\u001b[0;34m)\u001b[0m\u001b[0;34m\u001b[0m\u001b[0;34m\u001b[0m\u001b[0m\n\u001b[0m\u001b[1;32m     86\u001b[0m \u001b[0mprint\u001b[0m\u001b[0;34m(\u001b[0m\u001b[0;34mf\"Model saved to: {model_save_path}\"\u001b[0m\u001b[0;34m)\u001b[0m\u001b[0;34m\u001b[0m\u001b[0;34m\u001b[0m\u001b[0m\n",
            "\u001b[0;32m/usr/local/lib/python3.11/dist-packages/torch/serialization.py\u001b[0m in \u001b[0;36msave\u001b[0;34m(obj, f, pickle_module, pickle_protocol, _use_new_zipfile_serialization, _disable_byteorder_record)\u001b[0m\n\u001b[1;32m    941\u001b[0m \u001b[0;34m\u001b[0m\u001b[0m\n\u001b[1;32m    942\u001b[0m     \u001b[0;32mif\u001b[0m \u001b[0m_use_new_zipfile_serialization\u001b[0m\u001b[0;34m:\u001b[0m\u001b[0;34m\u001b[0m\u001b[0;34m\u001b[0m\u001b[0m\n\u001b[0;32m--> 943\u001b[0;31m         \u001b[0;32mwith\u001b[0m \u001b[0m_open_zipfile_writer\u001b[0m\u001b[0;34m(\u001b[0m\u001b[0mf\u001b[0m\u001b[0;34m)\u001b[0m \u001b[0;32mas\u001b[0m \u001b[0mopened_zipfile\u001b[0m\u001b[0;34m:\u001b[0m\u001b[0;34m\u001b[0m\u001b[0;34m\u001b[0m\u001b[0m\n\u001b[0m\u001b[1;32m    944\u001b[0m             _save(\n\u001b[1;32m    945\u001b[0m                 \u001b[0mobj\u001b[0m\u001b[0;34m,\u001b[0m\u001b[0;34m\u001b[0m\u001b[0;34m\u001b[0m\u001b[0m\n",
            "\u001b[0;32m/usr/local/lib/python3.11/dist-packages/torch/serialization.py\u001b[0m in \u001b[0;36m_open_zipfile_writer\u001b[0;34m(name_or_buffer)\u001b[0m\n\u001b[1;32m    808\u001b[0m     \u001b[0;32melse\u001b[0m\u001b[0;34m:\u001b[0m\u001b[0;34m\u001b[0m\u001b[0;34m\u001b[0m\u001b[0m\n\u001b[1;32m    809\u001b[0m         \u001b[0mcontainer\u001b[0m \u001b[0;34m=\u001b[0m \u001b[0m_open_zipfile_writer_buffer\u001b[0m\u001b[0;34m\u001b[0m\u001b[0;34m\u001b[0m\u001b[0m\n\u001b[0;32m--> 810\u001b[0;31m     \u001b[0;32mreturn\u001b[0m \u001b[0mcontainer\u001b[0m\u001b[0;34m(\u001b[0m\u001b[0mname_or_buffer\u001b[0m\u001b[0;34m)\u001b[0m\u001b[0;34m\u001b[0m\u001b[0;34m\u001b[0m\u001b[0m\n\u001b[0m\u001b[1;32m    811\u001b[0m \u001b[0;34m\u001b[0m\u001b[0m\n\u001b[1;32m    812\u001b[0m \u001b[0;34m\u001b[0m\u001b[0m\n",
            "\u001b[0;32m/usr/local/lib/python3.11/dist-packages/torch/serialization.py\u001b[0m in \u001b[0;36m__init__\u001b[0;34m(self, name)\u001b[0m\n\u001b[1;32m    779\u001b[0m             )\n\u001b[1;32m    780\u001b[0m         \u001b[0;32melse\u001b[0m\u001b[0;34m:\u001b[0m\u001b[0;34m\u001b[0m\u001b[0;34m\u001b[0m\u001b[0m\n\u001b[0;32m--> 781\u001b[0;31m             \u001b[0msuper\u001b[0m\u001b[0;34m(\u001b[0m\u001b[0;34m)\u001b[0m\u001b[0;34m.\u001b[0m\u001b[0m__init__\u001b[0m\u001b[0;34m(\u001b[0m\u001b[0mtorch\u001b[0m\u001b[0;34m.\u001b[0m\u001b[0m_C\u001b[0m\u001b[0;34m.\u001b[0m\u001b[0mPyTorchFileWriter\u001b[0m\u001b[0;34m(\u001b[0m\u001b[0mself\u001b[0m\u001b[0;34m.\u001b[0m\u001b[0mname\u001b[0m\u001b[0;34m,\u001b[0m \u001b[0m_compute_crc32\u001b[0m\u001b[0;34m)\u001b[0m\u001b[0;34m)\u001b[0m\u001b[0;34m\u001b[0m\u001b[0;34m\u001b[0m\u001b[0m\n\u001b[0m\u001b[1;32m    782\u001b[0m \u001b[0;34m\u001b[0m\u001b[0m\n\u001b[1;32m    783\u001b[0m     \u001b[0;32mdef\u001b[0m \u001b[0m__exit__\u001b[0m\u001b[0;34m(\u001b[0m\u001b[0mself\u001b[0m\u001b[0;34m,\u001b[0m \u001b[0;34m*\u001b[0m\u001b[0margs\u001b[0m\u001b[0;34m)\u001b[0m \u001b[0;34m->\u001b[0m \u001b[0;32mNone\u001b[0m\u001b[0;34m:\u001b[0m\u001b[0;34m\u001b[0m\u001b[0;34m\u001b[0m\u001b[0m\n",
            "\u001b[0;31mRuntimeError\u001b[0m: Parent directory /content/drive/MyDrive/Projects/trained_model does not exist."
          ]
        }
      ],
      "source": [
        "class MaskedConv2d(nn.Conv2d):\n",
        "    def __init__(self, *args, mask_type, **kwargs):\n",
        "        super().__init__(*args, padding = 1, **kwargs)\n",
        "        self.register_buffer('mask', self.weight.data.clone())\n",
        "        _, _, kH, kW = self.weight.size()\n",
        "        self.mask.fill_(1)\n",
        "        self.mask[:, :, kH // 2, kW // 2 + (mask_type == 'B'):] = 0\n",
        "        self.mask[:, :, kH // 2 + 1:] = 0\n",
        "\n",
        "    def forward(self, x):\n",
        "        self.weight.data *= self.mask\n",
        "        return super().forward(x)\n",
        "\n",
        "class PixelCNN(nn.Module): # Defining the model architecture using MaskedConv2d layers, ReLU activations, and a final output layer.\n",
        "  def __init__(self, input_channels=1, hidden_channels=64, output_channels=256, num_hidden_layers = 4):  # 256 output channels for 0-255 pixel values\n",
        "        super(PixelCNN, self).__init__()\n",
        "        #manually defining input, hidden and output layers\n",
        "        # self.layers = nn.Sequential(\n",
        "        #     MaskedConv2d(input_channels, hidden_channels, kernel_size=3, mask_type='A'),\n",
        "        #     nn.ReLU(),\n",
        "        #     MaskedConv2d(hidden_channels, hidden_channels, kernel_size=3, mask_type='B'),\n",
        "        #     nn.ReLU(),\n",
        "        #     # ... (add more layers if needed)\n",
        "        #     nn.Conv2d(hidden_channels, output_channels, kernel_size=1)  # Output layer for pixel value distribution\n",
        "        # )\n",
        "\n",
        "        # looping it with the hidden layer variable\n",
        "        layers = [MaskedConv2d(input_channels, hidden_channels, kernel_size=3, mask_type='A'), nn.ReLU()]\n",
        "        for _ in range(num_hidden_layers):\n",
        "            layers.extend([MaskedConv2d(hidden_channels, hidden_channels, kernel_size=3, mask_type='B'), nn.ReLU()])\n",
        "        layers.append(nn.Conv2d(hidden_channels, output_channels, kernel_size=1)) #would add nn.Sigmoid() if not discrete  # Sigmoid to constrain output to 0-1\n",
        "        self.layers = nn.Sequential(*layers)\n",
        "        #the kernel_size arguement corresponds to the overall size of the convolutional kernel, which in ur case is the 3x3 mask, it will cover a 3x3 patch of the input image\n",
        "\n",
        "  def forward(self, x):\n",
        "      return self.layers(x)\n",
        "\n",
        "# hyperparameters\n",
        "input_channels = 1  # For grayscale images #will be = 3 if RGB\n",
        "hidden_channels = 64\n",
        "output_channels = 256  # 256 classes for pixel values 0-255 # will be 1 if continuous pixel values for single output channel\n",
        "learning_rate = 0.001\n",
        "batch_size = 64\n",
        "epochs = 10\n",
        "\n",
        "\n",
        "# Initialize model, optimizer, and loss function\n",
        "model = PixelCNN(input_channels, hidden_channels, output_channels)\n",
        "optimizer = optim.Adam(model.parameters(), lr=learning_rate)\n",
        "criterion = nn.CrossEntropyLoss()  # Use CrossEntropyLoss for classification\n",
        "#criterion = nn.MSELoss()  # Use Mean Squared Error for regression\n",
        "\n",
        "# Learning Rate Finder (Optional but recommended)\n",
        "# lr_finder = LRFinder(model, optimizer, criterion, device=\"cuda\")\n",
        "# lr_finder.range_test(train_loader, end_lr=1, num_iter=100)\n",
        "# lr_finder.plot() # to inspect the loss-learning rate graph\n",
        "# lr_finder.reset() # to reset the model and optimizer to their initial state\n",
        "\n",
        "# # Scheduler\n",
        "# scheduler = lr_scheduler.OneCycleLR(optimizer, max_lr=0.01, steps_per_epoch=len(train_loader), epochs=epochs) # Adjust max_lr as needed\n",
        "\n",
        "\n",
        "# Training loop\n",
        "# with timing and model saving\n",
        "start_time = time.time()  # Start the timer\n",
        "for epoch in range(epochs):\n",
        "    for batch_idx, (data, target) in enumerate(train_loader):\n",
        "        optimizer.zero_grad()\n",
        "        output = model(data)\n",
        "        loss = criterion(output, data.long()[:, 0]) #, :18, :18])  # Reshape target and convert to long # added [:, 0, :18, :18] in this line\n",
        "        loss.backward()\n",
        "        optimizer.step()\n",
        "\n",
        "        if batch_idx % 100 == 0:\n",
        "            print(f'Epoch [{epoch + 1}/{epochs}], Batch [{batch_idx + 1}/{len(train_loader)}], Loss: {loss.item():.4f}')\n",
        "\n",
        "print(\"Training finished!\")\n",
        "\n",
        "end_time = time.time()  # Stop the timer\n",
        "total_time = end_time - start_time\n",
        "print(f\"Total training time: {total_time:.2f} seconds\")\n"
      ]
    },
    {
      "cell_type": "markdown",
      "metadata": {
        "id": "0sUSFIELBK1X"
      },
      "source": [
        "Explanation of Key Parts:\n",
        "\n",
        "- PixelCNN Model: Defines the model architecture using MaskedConv2d layers, ReLU activations, and a final output layer.\n",
        "\n",
        "- Output Channels: The output_channels is set to 256 to represent the 256 possible pixel values (0-255). This means you need 256 outputs per pixel when modeling it as classification.\n",
        "\n",
        "- Loss Function: nn.CrossEntropyLoss is used as it's suitable for multi-class classification.\n",
        "\n",
        "- Training Loop: Iterates through epochs and batches, calculates loss, and updates model parameters.\n",
        "\n",
        "- Target: The target is the same as the input image because PixelCNN learns to predict each pixel based on the preceding ones.\n",
        "\n",
        "- Data Reshaping: The target (data) is reshaped using view(-1) to match the output shape of the model. It's also converted to long data type for CrossEntropyLoss.\n",
        "\n",
        "\n",
        "Further Improvements:\n",
        "- Add more layers and channels: For better performance, you can experiment with deeper and wider architectures.\n",
        "- Gated PixelCNN: Implement the gated version for more sophisticated conditional dependencies.\n",
        "- Other datasets: Try training on different image datasets for broader applicability.\n",
        "- Evaluation: Add evaluation metrics to assess the model's performance on a held-out test set"
      ]
    },
    {
      "cell_type": "code",
      "source": [
        "\n",
        "# Save the trained model\n",
        "model_save_path = \"/content/drive/MyDrive/Projects/pixelcnn_model.pth\"  # Choose a file path\n",
        "torch.save(model.state_dict(), model_save_path)\n",
        "print(f\"Model saved to: {model_save_path}\")"
      ],
      "metadata": {
        "colab": {
          "base_uri": "https://localhost:8080/"
        },
        "id": "sPes6_uyaZNx",
        "outputId": "7218cbb3-61bd-4ef9-8c1d-d328bf0bf558"
      },
      "execution_count": null,
      "outputs": [
        {
          "output_type": "stream",
          "name": "stdout",
          "text": [
            "Model saved to: /content/drive/MyDrive/Projects/pixelcnn_model.pth\n"
          ]
        }
      ]
    },
    {
      "cell_type": "code",
      "execution_count": null,
      "metadata": {
        "id": "PxijvWYKsaQU"
      },
      "outputs": [],
      "source": [
        "# --- OLD Image Generation ---\n",
        "\n",
        "def generate_image(model, image_size=(8, 8)):\n",
        "    \"\"\"Generates a new image using the PixelCNN model.\"\"\"\n",
        "    model.eval()  # Sets the model to evaluation mode\n",
        "    image = torch.zeros(1, 1, *image_size)  # Starts with an empty image\n",
        "\n",
        "    for i in range(image_size[0]):\n",
        "        for j in range(image_size[1]):\n",
        "            # Predict the pixel value at (i, j)\n",
        "            output = model(image)\n",
        "            probs = torch.softmax(output[:, :, i, j], dim=1)  # Get probabilities for each pixel value\n",
        "            pixel_value = torch.multinomial(probs, num_samples=1).item()  # Sample a pixel value\n",
        "\n",
        "            # Update the image with the predicted pixel value\n",
        "            image[0, 0, i, j] = pixel_value\n",
        "\n",
        "    return image"
      ]
    },
    {
      "cell_type": "code",
      "execution_count": null,
      "metadata": {
        "id": "3j6aX2LntCuT"
      },
      "outputs": [],
      "source": [
        "#GIVES NONSENSE GENERATION\n",
        "\n",
        "def generate_image(model, image_size=(8, 8), num_layers=4): # changed image_size to 8x8\n",
        "    \"\"\"Generates a new image using the PixelCNN model.\"\"\"\n",
        "    model.eval()\n",
        "    # image = torch.zeros(1, 1, *image_size)\n",
        "    margin = 2 * num_layers # margin to avoid the dimension mismatch\n",
        "    input_size = (image_size[0] + margin, image_size[1] + margin) # input_size that will be fed to the model\n",
        "    #image = torch.zeros(1, 1, *input_size)  # starts with an empty image with size 16x16\n",
        "    image = torch.randint(0, 256, (1, 1, *input_size)).float() # starts with a random image with size 16x16\n",
        "\n",
        "\n",
        "    for i in range(image_size[0]):\n",
        "        for j in range(image_size[1]):\n",
        "            output = model(image)\n",
        "\n",
        "            # Dynamically calculate index based on the receptive field\n",
        "            # You might need to adjust the calculation based on your specific model architecture\n",
        "            index_i = i + margin // 2\n",
        "            index_j = j + margin // 2\n",
        "\n",
        "            # Check if the indices are within the bounds of the output tensor\n",
        "            if 0 <= index_i < output.shape[2] and 0 <= index_j < output.shape[3]:\n",
        "              probs = torch.softmax(output[:, :, index_i, index_j], dim=1) #accessing the correct portion of the output\n",
        "              pixel_value = torch.multinomial(probs, num_samples=1).item()\n",
        "              image[0, 0, index_i, index_j] = pixel_value # modifying the correct part of the image\n",
        "\n",
        "    # Center crop the generated image to get the desired dimensions\n",
        "    generated_image = image[0, 0, margin//2:image_size[0] + margin//2, margin//2:image_size[1] + margin//2] # getting the 8x8 final image\n",
        "    return generated_image"
      ]
    },
    {
      "cell_type": "code",
      "execution_count": null,
      "metadata": {
        "id": "hjow_8KM9Fc8"
      },
      "outputs": [],
      "source": [
        "#NEWWW\n",
        "def generate_image(model, image_size=28, device='cpu'):\n",
        "    model.eval()\n",
        "    generated = torch.zeros((1, 1, image_size, image_size), device=device)  # Start with zeros\n",
        "\n",
        "    with torch.no_grad():\n",
        "        for i in range(image_size):\n",
        "            for j in range(image_size):\n",
        "                #print(\"Generated input shape:\", generated.shape)  # 👈 Add this\n",
        "                output = model(generated)\n",
        "                #print(\"Model output shape:\", output.shape)        # 👈 Add this\n",
        "                pixel_dist = output[0, :, i, j]\n",
        "                probs = torch.softmax(pixel_dist, dim=0)\n",
        "                pixel_value = torch.multinomial(probs, 1).item() #float() / 255.0\n",
        "                #pixel_value = torch.argmax(probs).item()\n",
        "                generated[0, 0, i, j] = pixel_value/ 255.0\n",
        "\n",
        "    return generated.cpu()\n",
        "\n"
      ]
    },
    {
      "cell_type": "code",
      "execution_count": null,
      "metadata": {
        "id": "HTHPMAkd_ImB"
      },
      "outputs": [],
      "source": [
        "# sample = generate_image(model.to(device),  image_size=18, device=device)\n",
        "# print(\"Generated input shape:\", generated.shape)  # should be [1, 1, 28, 28]\n",
        "# output = model(generated)\n",
        "# print(\"Model output shape:\", output.shape)        # check this!\n"
      ]
    },
    {
      "cell_type": "code",
      "execution_count": null,
      "metadata": {
        "colab": {
          "base_uri": "https://localhost:8080/"
        },
        "id": "vgGJ5Fu2BCOs",
        "outputId": "87040abd-1401-4321-ef15-bbea5d1bf195"
      },
      "outputs": [
        {
          "output_type": "stream",
          "name": "stdout",
          "text": [
            "Generated images saved to: /content/drive/MyDrive/Projects/MNIST/./generated_images\n"
          ]
        }
      ],
      "source": [
        "device = torch.device(\"cuda\" if torch.cuda.is_available() else \"cpu\")\n",
        "\n",
        "#generate and save images\n",
        "\n",
        "num_images = 100\n",
        "generated_images_path = os.path.join(output_file, \"MNIST\", \"./generated_images\")  # Path to save generated images\n",
        "os.makedirs(generated_images_path, exist_ok=True)  # Create the directory if it doesn't exist\n",
        "\n",
        "for i in range(num_images):\n",
        "    generated_image = generate_image(model)\n",
        "\n",
        "    # Save the generated image\n",
        "    image_save_path = os.path.join(generated_images_path, f\"generated_image_{i + 1}.png\")\n",
        "    torchvision.utils.save_image(generated_image, image_save_path)  # Save as PNG\n",
        "print(f\"Generated images saved to: {generated_images_path}\")\n",
        "\n",
        "#visualize some generated images\n",
        "\n",
        "# sample = generate_image(model.to(device), image_size=28, device=device)\n",
        "# plt.imshow(sample.squeeze(), cmap='gray')\n",
        "# plt.title(\"Generated Digit\")\n",
        "# plt.axis('off')\n",
        "# plt.show()\n",
        "\n"
      ]
    },
    {
      "cell_type": "code",
      "execution_count": null,
      "metadata": {
        "id": "4c2zONyvB9nD"
      },
      "outputs": [],
      "source": []
    },
    {
      "cell_type": "code",
      "execution_count": null,
      "metadata": {
        "id": "ASbIx3NKVlKm",
        "colab": {
          "base_uri": "https://localhost:8080/",
          "height": 1000
        },
        "outputId": "5b986833-ecbb-4347-dd7a-e021e4bcbc27"
      },
      "outputs": [
        {
          "output_type": "display_data",
          "data": {
            "text/plain": [
              "<Figure size 800x400 with 2 Axes>"
            ],
            "image/png": "[encoded data removed]"
          },
          "metadata": {}
        },
        {
          "output_type": "stream",
          "name": "stdout",
          "text": [
            "Distance to nearest neighbor for image 1: 910.2443\n"
          ]
        },
        {
          "output_type": "display_data",
          "data": {
            "text/plain": [
              "<Figure size 800x400 with 2 Axes>"
            ],
            "image/png": "[encoded data removed]"
          },
          "metadata": {}
        },
        {
          "output_type": "stream",
          "name": "stdout",
          "text": [
            "Distance to nearest neighbor for image 2: 909.7545\n"
          ]
        },
        {
          "output_type": "display_data",
          "data": {
            "text/plain": [
              "<Figure size 800x400 with 2 Axes>"
            ],
            "image/png": "[encoded data removed]"
          },
          "metadata": {}
        },
        {
          "output_type": "stream",
          "name": "stdout",
          "text": [
            "Distance to nearest neighbor for image 3: 910.2999\n"
          ]
        },
        {
          "output_type": "display_data",
          "data": {
            "text/plain": [
              "<Figure size 800x400 with 2 Axes>"
            ],
            "image/png": "[encoded data removed]"
          },
          "metadata": {}
        },
        {
          "output_type": "stream",
          "name": "stdout",
          "text": [
            "Distance to nearest neighbor for image 4: 910.2509\n"
          ]
        },
        {
          "output_type": "display_data",
          "data": {
            "text/plain": [
              "<Figure size 800x400 with 2 Axes>"
            ],
            "image/png": "[encoded data removed]"
          },
          "metadata": {}
        },
        {
          "output_type": "stream",
          "name": "stdout",
          "text": [
            "Distance to nearest neighbor for image 5: 910.3065\n"
          ]
        }
      ],
      "source": [
        "#checking if model is memorizing training data\n",
        "# 2 methods: KNN: IF the distances are consistently very small,\n",
        "# it suggests that the model might be memorizing training data rather than learning to generate novel digits. OR\n",
        "\n",
        "# FID (Fréchet Inception Distance): compares the distributions of real and generated images using features extracted from a pre-trained\n",
        "# Inception network. Lower FID scores generally indicate better quality and diversity of generated samples.\n",
        "\n",
        "def nearest_neighbor_search(generated_image, train_dataset):\n",
        "    \"\"\"Finds the nearest neighbor of a generated image in the training dataset.\"\"\"\n",
        "    distances = []\n",
        "    for train_image, _ in train_dataset:\n",
        "        distance = torch.dist(generated_image.flatten(), train_image.flatten())\n",
        "        distances.append(distance)\n",
        "\n",
        "    nearest_index = torch.argmin(torch.tensor(distances))\n",
        "    nearest_image = train_dataset[nearest_index][0]\n",
        "\n",
        "    return nearest_image, distances[nearest_index]\n",
        "\n",
        "# Path to the generated images\n",
        "generated_images_path = os.path.join(output_file, \"MNIST\", \"./generated_images\")\n",
        "num_images = 5\n",
        "# Example usage\n",
        "for i in range(num_images):\n",
        "    generated_image = generate_image(model)\n",
        "    nearest_image, distance = nearest_neighbor_search(generated_image, train_dataset)\n",
        "\n",
        "    # Visualize the generated image and its nearest neighbor\n",
        "    fig, axes = plt.subplots(1, 2, figsize=(8, 4))  # 1 row, 2 columns for images\n",
        "\n",
        "    axes[0].imshow(generated_image.squeeze(), cmap='gray')\n",
        "    axes[0].set_title(f\"Generated Image {i + 1}\")\n",
        "    axes[0].axis('off')\n",
        "\n",
        "    axes[1].imshow(nearest_image.squeeze(), cmap='gray')\n",
        "    axes[1].set_title(f\"Nearest Neighbor (Distance: {distance:.4f})\")\n",
        "    axes[1].axis('off')\n",
        "\n",
        "    plt.show()\n",
        "\n",
        "    print(f\"Distance to nearest neighbor for image {i + 1}: {distance:.4f}\")"
      ]
    },
    {
      "cell_type": "code",
      "source": [],
      "metadata": {
        "id": "wW8OZpZIp3zG"
      },
      "execution_count": null,
      "outputs": []
    },
    {
      "cell_type": "code",
      "source": [
        "#using FID will be something ike this\n",
        "from pytorch_fid import fid_score\n",
        "\n",
        "# --- FID Calculation ---\n",
        "\n",
        "# Define paths to real and generated images\n",
        "real_images_path = os.path.join(output_file, \"MNIST\", \"raw\")  # Path to a directory containing real MNIST images\n",
        "generated_images_path = os.path.join(output_file, \"MNIST\", \"./generated_images\")  # Path to a directory containing generated images\n",
        "\n",
        "\n",
        "# Get device\n",
        "device = torch.device(\"cuda\" if torch.cuda.is_available() else \"cpu\")\n",
        "print(f\"Using device: {device}\")\n",
        "\n",
        "# Set an appropriate batch size for FID calculation\n",
        "batch_size = 64  # Or any other positive integer\n",
        "\n",
        "# Calculate FID score\n",
        "fid = fid_score.calculate_fid_given_paths([real_images_path, generated_images_path], batch_size, device, dims=2048)\n",
        "\n",
        "print(f\"FID score: {fid:.4f}\")"
      ],
      "metadata": {
        "id": "_ha-yS7Tp4ar"
      },
      "execution_count": null,
      "outputs": []
    },
    {
      "cell_type": "code",
      "source": [
        "print(a)"
      ],
      "metadata": {
        "colab": {
          "base_uri": "https://localhost:8080/",
          "height": 148
        },
        "id": "fcP9Meo89A7v",
        "outputId": "7b8afcf7-ba51-48dd-ea83-cb90d2b66d87"
      },
      "execution_count": null,
      "outputs": [
        {
          "output_type": "error",
          "ename": "NameError",
          "evalue": "name 'a' is not defined",
          "traceback": [
            "\u001b[0;31m---------------------------------------------------------------------------\u001b[0m",
            "\u001b[0;31mNameError\u001b[0m                                 Traceback (most recent call last)",
            "\u001b[0;32m<ipython-input-49-bca0e2660b9f>\u001b[0m in \u001b[0;36m<cell line: 0>\u001b[0;34m()\u001b[0m\n\u001b[0;32m----> 1\u001b[0;31m \u001b[0mprint\u001b[0m\u001b[0;34m(\u001b[0m\u001b[0ma\u001b[0m\u001b[0;34m)\u001b[0m\u001b[0;34m\u001b[0m\u001b[0;34m\u001b[0m\u001b[0m\n\u001b[0m",
            "\u001b[0;31mNameError\u001b[0m: name 'a' is not defined"
          ]
        }
      ]
    },
    {
      "cell_type": "code",
      "source": [
        "class ConditionalMNIST(torch.utils.data.Dataset):\n",
        "    def __init__(self, mnist):\n",
        "        self.mnist = mnist\n",
        "\n",
        "    def __getitem__(self, idx):\n",
        "        img, label = self.mnist[idx]\n",
        "        return img, label, label  # input, pixel_target, digit_class\n",
        "\n",
        "    def __len__(self):\n",
        "        return len(self.mnist)\n"
      ],
      "metadata": {
        "id": "qmvA-fk7z3t6"
      },
      "execution_count": null,
      "outputs": []
    },
    {
      "cell_type": "code",
      "source": [
        "#Can you condition the model to generate a specific digit (e.g., “generate a 4”)? What architectural change would allow this?\n",
        "\n",
        "class ConditionalPixelCNN(nn.Module):\n",
        "    def __init__(self, input_channels=1, hidden_channels=64, output_channels=256, num_classes=10, num_hidden_layers=4):\n",
        "        super(ConditionalPixelCNN, self).__init__()\n",
        "\n",
        "        self.embedding = nn.Embedding(num_classes, hidden_channels)  # Class embedding layer\n",
        "\n",
        "        # Fixed: Corrected input channels for the first MaskedConv2d layer\n",
        "        layers = [MaskedConv2d(input_channels + hidden_channels, hidden_channels, kernel_size=3, mask_type='A'), nn.ReLU()]\n",
        "        for _ in range(num_hidden_layers):\n",
        "            # Fixed: Corrected input channels for subsequent MaskedConv2d layers to match the output of the previous layer\n",
        "            layers.extend([MaskedConv2d(hidden_channels, hidden_channels, kernel_size=3, mask_type='B'), nn.ReLU()])\n",
        "        layers.append(nn.Conv2d(hidden_channels, output_channels, kernel_size=1)) # Corrected: Input channels to final conv layer\n",
        "        self.layers = nn.Sequential(*layers)\n",
        "\n",
        "    def forward(self, x, class_label):\n",
        "        class_embedding = self.embedding(class_label)  # Get class embedding\n",
        "\n",
        "        # Reshape and tile the embedding to match the input shape\n",
        "        class_embedding = class_embedding.unsqueeze(-1).unsqueeze(-1)  # Add spatial dimensions\n",
        "        class_embedding = class_embedding.repeat(1, 1, x.shape[2], x.shape[3])  # Tile to match input size\n",
        "\n",
        "        # Concatenate the embedding with the input\n",
        "        x = torch.cat([x, class_embedding], dim=1)\n",
        "\n",
        "        return self.layers(x)"
      ],
      "metadata": {
        "id": "QZF5ANxbGAOy"
      },
      "execution_count": null,
      "outputs": []
    },
    {
      "cell_type": "code",
      "source": [
        "# Create an instance of the model\n",
        "model = ConditionalPixelCNN(input_channels=1, hidden_channels=64, output_channels=256, num_classes=10, num_hidden_layers=4)\n",
        "\n",
        "# Define the device (CPU or GPU)\n",
        "device = torch.device(\"cuda\" if torch.cuda.is_available() else \"cpu\")\n",
        "model.to(device)  # Move the model to the device\n",
        "\n",
        "# Function to generate an image of a specific digit\n",
        "def generate_digit(model, digit, image_size=28):\n",
        "    model.eval()  # Set the model to evaluation mode\n",
        "    class_label = torch.tensor([digit], device=device)  # Create the class label tensor\n",
        "    generated = torch.zeros((1, 1, image_size, image_size), device=device)  # Start with zeros\n",
        "\n",
        "    with torch.no_grad():\n",
        "        for i in range(image_size):\n",
        "            for j in range(image_size):\n",
        "                output = model(generated, class_label)  # Pass the class label to the model\n",
        "                pixel_dist = output[0, :, i, j]\n",
        "                probs = torch.softmax(pixel_dist, dim=0)\n",
        "                pixel_value = torch.multinomial(probs, 1).item()\n",
        "                generated[0, 0, i, j] = pixel_value / 255.0  # Normalize to 0-1\n",
        "\n",
        "    return generated.cpu()  # Move the generated image back to CPU\n",
        "\n",
        "# Generate the digit \"4\"\n",
        "generated_image = generate_digit(model, digit=4)\n",
        "\n",
        "# Visualize the generated image\n",
        "plt.imshow(generated_image.squeeze(), cmap='gray')\n",
        "plt.title(\"Generated Digit: 4\")\n",
        "plt.axis('off')\n",
        "plt.show()"
      ],
      "metadata": {
        "colab": {
          "base_uri": "https://localhost:8080/",
          "height": 428
        },
        "id": "G4XIEsJpxbt1",
        "outputId": "48e1b42d-d9da-4a5a-db0a-7c78adfbd293"
      },
      "execution_count": null,
      "outputs": [
        {
          "output_type": "display_data",
          "data": {
            "text/plain": [
              "<Figure size 640x480 with 1 Axes>"
            ],
            "image/png": "[encoded data removed]"
          },
          "metadata": {}
        }
      ]
    },
    {
      "cell_type": "code",
      "source": [
        "fig, axes = plt.subplots(2, 5, figsize=(10, 4))\n",
        "for digit in range(10):\n",
        "    img = generate_digit(model, digit)\n",
        "    axes[digit // 5, digit % 5].imshow(img.squeeze(), cmap=\"gray\")\n",
        "    axes[digit // 5, digit % 5].set_title(str(digit))\n",
        "    axes[digit // 5, digit % 5].axis(\"off\")\n",
        "plt.tight_layout()\n",
        "plt.show()"
      ],
      "metadata": {
        "colab": {
          "base_uri": "https://localhost:8080/",
          "height": 326
        },
        "id": "1q7G4U1ayuGp",
        "outputId": "bd563e11-b84d-4ea9-ce29-c1b957df5eeb"
      },
      "execution_count": null,
      "outputs": [
        {
          "output_type": "display_data",
          "data": {
            "text/plain": [
              "<Figure size 1000x400 with 10 Axes>"
            ],
            "image/png": "[encoded data removed]"
          },
          "metadata": {}
        }
      ]
    },
    {
      "cell_type": "code",
      "source": [],
      "metadata": {
        "id": "5UBhX1qNzteU"
      },
      "execution_count": null,
      "outputs": []
    },
    {
      "cell_type": "code",
      "source": [
        "\n",
        "# TRIAL_Fixed: Conditional generation with proper sampling and label injection\n",
        "\n",
        "def generate_image(model, digit=None, image_size=28, device='cpu'):\n",
        "    model.eval()\n",
        "    generated = torch.zeros((1, 1, image_size, image_size), device=device)\n",
        "\n",
        "    if digit is not None:\n",
        "        label = torch.tensor([digit], device=device)\n",
        "    else:\n",
        "        label = None\n",
        "\n",
        "    with torch.no_grad():\n",
        "        for i in range(image_size):\n",
        "            for j in range(image_size):\n",
        "                if label is not None:\n",
        "                    output = model(generated, label)\n",
        "                else:\n",
        "                    output = model(generated)\n",
        "                pixel_dist = output[0, :, i, j]\n",
        "                probs = torch.softmax(pixel_dist, dim=0)\n",
        "                pixel_value = torch.multinomial(probs, 1).item()\n",
        "                generated[0, 0, i, j] = pixel_value / 255.0\n",
        "\n",
        "    return generated.cpu()\n"
      ],
      "metadata": {
        "id": "_Tw6dNN0ztax"
      },
      "execution_count": null,
      "outputs": []
    },
    {
      "cell_type": "code",
      "source": [
        "\n",
        "# Example: Generate digit \"4\" with ConditionalPixelCNN\n",
        "digit = 4\n",
        "generated = generate_image(model, digit=digit, device=device)\n",
        "\n",
        "plt.imshow(generated.squeeze(), cmap='gray')\n",
        "plt.title(f\"Generated Digit: {digit}\")\n",
        "plt.axis('off')\n",
        "plt.show()\n"
      ],
      "metadata": {
        "colab": {
          "base_uri": "https://localhost:8080/",
          "height": 428
        },
        "id": "jWQ_Bc_ezwH6",
        "outputId": "02878a4f-ce39-47cd-ecb6-febc06e62cac"
      },
      "execution_count": null,
      "outputs": [
        {
          "output_type": "display_data",
          "data": {
            "text/plain": [
              "<Figure size 640x480 with 1 Axes>"
            ],
            "image/png": "[encoded data removed]"
          },
          "metadata": {}
        }
      ]
    }
  ],
  "metadata": {
    "colab": {
      "provenance": [],
      "authorship_tag": "ABX9TyOsifPADFMgFqceA2+LmyjN",
      "include_colab_link": true
    },
    "kernelspec": {
      "display_name": "Python 3",
      "name": "python3"
    },
    "language_info": {
      "name": "python"
    }
  },
  "nbformat": 4,
  "nbformat_minor": 0
}